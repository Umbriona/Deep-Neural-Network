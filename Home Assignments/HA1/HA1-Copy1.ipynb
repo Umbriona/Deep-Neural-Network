{
 "cells": [
  {
   "cell_type": "markdown",
   "metadata": {},
   "source": [
    "# HA1 - Cats and dogs"
   ]
  },
  {
   "cell_type": "markdown",
   "metadata": {},
   "source": [
    "<img src=\"http://lghttp.32478.nexcesscdn.net/80E972/organiclifestylemagazine/wp-content/uploads/2015/10/Cats-and-Dogs.jpg\" alt=\"Cats and dogs\" style=\"width: 5000px;\"/>"
   ]
  },
  {
   "cell_type": "markdown",
   "metadata": {},
   "source": [
    "For this home assignment, we'll use the Kaggle dataset for the [Dogs vs. Cats competition](https://www.kaggle.com/c/dogs-vs-cats). It comprises of 25k colored images of dogs and cats. Our goal with this dataset will be to create a classifier that can tell us if the input image is of a cat or a dog."
   ]
  },
  {
   "cell_type": "markdown",
   "metadata": {},
   "source": [
    "Requirements:\n",
    "- Whenever we ask you to plot anything, be sure to add a title and label the axes. If you're plotting more than one curve in the same plot, also add a legend.\n",
    "- When we ask you to train an architecture, train it for a reasonable number of epochs. \"Reasonable\" here means you should be fairly confident that training for a higher number of epochs wouldn't impact your conclusions regarding the model's performance.\n",
    "\n",
    "Tips:\n",
    "- If you get errors saying you've exhausted the GPU resources, well, then you exhausted the GPU resources ;). However, sometimes that's because TensorFlow didn't release a part of the GPU's memory. If you think your CNN should fit in your memory during training, try restarting the kernel and directly training only that architecture.\n",
    "- Every group has enough credits on google cloud to complete this assignment. However, this statement assumes you'll use your resources judiciously (e.g. always try the code first in your machine and make sure everything works properly before starting your instances) and **won't forget to stop your instance after using it,**  otherwise you might run out of credits.\n",
    "- Before starting, take a look at the images we'll be using. This is a hard task, don't get discouraged if your first models perform poorly (several participants in the original competition didn't achieve an accuracy higher than 60%)."
   ]
  },
  {
   "cell_type": "markdown",
   "metadata": {},
   "source": [
    "---\n",
    "## 0. Imports\n",
    "\n",
    "In the following cell, add all the imports you'll use in this assignment."
   ]
  },
  {
   "cell_type": "code",
   "execution_count": 1,
   "metadata": {},
   "outputs": [
    {
     "name": "stderr",
     "output_type": "stream",
     "text": [
      "Using TensorFlow backend.\n"
     ]
    }
   ],
   "source": [
    "import pandas as pd\n",
    "import numpy as np\n",
    "import matplotlib.pyplot as plt\n",
    "import keras\n",
    "from keras.models import Sequential\n",
    "from keras.layers import Activation\n",
    "from keras.layers.core import Dense\n",
    "from keras.layers.convolutional import Conv2D\n",
    "from keras.layers.core import Flatten\n",
    "from keras.optimizers import Adam\n",
    "from keras.optimizers import SGD\n",
    "from keras.metrics import categorical_crossentropy\n",
    "from keras import regularizers\n",
    "from keras.callbacks import TensorBoard, EarlyStopping\n",
    "\n",
    "from sklearn import preprocessing\n",
    "from sklearn.metrics import confusion_matrix\n",
    "\n",
    "import pickle\n",
    "import os\n",
    "\n",
    "import matplotlib.pyplot as plt"
   ]
  },
  {
   "cell_type": "markdown",
   "metadata": {},
   "source": [
    "---\n",
    "## 1. Loading the data and preprocessing"
   ]
  },
  {
   "cell_type": "markdown",
   "metadata": {},
   "source": [
    "The first step is to head to the [Kaggle website for the cats and dogs competition](https://www.kaggle.com/c/dogs-vs-cats) and download the data from there. You should download both the `train.zip` and `test.zip` files. The split ratio between training and validation has not been made, you'll need to do it yourself. The `test.zip` file contains unlabeled data, so that participants in the contest are not able to train on this set.\n",
    "\n",
    "As mentioned in CL3, for this assignment you should use [data generators](https://keras.io/preprocessing/image/) to load the images to your CPU/GPU memory. Because of this, your folder structure for the data should conform to the folder structure expected by the data generators (i.e. the samples should be separated into one folder for each class). Furthermore, we ask you to first start with a smaller subset of the data (1/5 of the number of samples), in order to test different models faster.\n",
    "\n",
    "This means that you should create a folder structure that resembles the following (obviously, the folder names are up to you):\n",
    "\n",
    "\n",
    "         small_train             small_val                train                   val\n",
    "              |                      |                      |                      |\n",
    "              |                      |                      |                      |\n",
    "        -------------          -------------          -------------          -------------\n",
    "        |           |          |           |          |           |          |           |\n",
    "        |           |          |           |          |           |          |           |\n",
    "      Cats        Dogs       Cats        Dogs       Cats        Dogs       Cats        Dogs\n",
    "\n",
    "The `small_train` and `small_val` folders have the training and validation samples for your smaller subset of the data, while the `train` and `val` folders contain all the samples you extracted from Kaggle's `train.zip`. We provide you a notebook that shows how to achieve this, starting from the original `train` folder extracted from `train.zip`. If you do use that notebook, we encourage you to understand how each step is being done, so you can generalize this knowledge to new datasets you'll encounter.\n",
    "\n",
    "Although we specifically guide you to use 1/5 of the data in the smaller dataset, you should decide how to split the validation data. Please specify your splits in the following cells."
   ]
  },
  {
   "cell_type": "markdown",
   "metadata": {},
   "source": [
    "** ------------------  Smaller subset ------------------ **\n",
    "\n",
    "** % Samples in the training set:** (1750 cats; 1750 dogs)\n",
    "\n",
    "** % Samples in the validation set:** (750 cats; 750 dogs)"
   ]
  },
  {
   "cell_type": "markdown",
   "metadata": {},
   "source": [
    "** ------------------  Entire dataset ------------------ **\n",
    "\n",
    "** % Samples in the training set:** (11250 cats; 11250 dogs)\n",
    "\n",
    "** % Samples in the validation set:** (1250 cats; 1250 dogs)"
   ]
  },
  {
   "cell_type": "markdown",
   "metadata": {},
   "source": [
    "---\n",
    "Once you have the expected folder structure, create two data generators for automatically generating batches from the images in your smaller subset of data. Don't use any [data augmentation](https://cartesianfaith.com/2016/10/06/what-you-need-to-know-about-data-augmentation-for-machine-learning/), but feel free to preprocess the data as you see fit. After instantiating them, run the `flow_from_directory` method with the desired arguments.\n",
    "\n",
    "Hints:\n",
    "- The specified `batch_size` should be chosen so that your don't run out of memory.\n",
    "- When feeding the images to your CNN, you'll probably want all of them to have the same spatial size, even though the .jpeg files differ in this. If so, take a look at the argument `target_size` for the `flow_from_directory` method of data generators.\n",
    "- Resizing the images to a smaller size while loading them can be beneficial."
   ]
  },
  {
   "cell_type": "code",
   "execution_count": 20,
   "metadata": {},
   "outputs": [
    {
     "name": "stdout",
     "output_type": "stream",
     "text": [
      "Found 3500 images belonging to 2 classes.\n",
      "Found 1500 images belonging to 2 classes.\n",
      "Found 0 images belonging to 0 classes.\n"
     ]
    }
   ],
   "source": [
    "#setting paths to Data folders\n",
    "train_path = 'small_train'\n",
    "validation_path = 'small_val'\n",
    "test_path = 'test1'\n",
    "\n",
    "#Batch size\n",
    "batch_s = 64\n",
    "\n",
    "#picture resolution/size\n",
    "img_hight = 224\n",
    "img_width = 224\n",
    "img_size = (img_hight, img_width)\n",
    "\n",
    "train_batches = keras.preprocessing.image.ImageDataGenerator().flow_from_directory(train_path,\n",
    "                                                                                   target_size = img_size,\n",
    "                                                                                   classes=['cats','dogs'], \n",
    "                                                                                   batch_size = batch_s)\n",
    "\n",
    "validation_batches = keras.preprocessing.image.ImageDataGenerator().flow_from_directory(validation_path,\n",
    "                                                                                        target_size = img_size,\n",
    "                                                                                        classes=['cats','dogs'],\n",
    "                                                                                        batch_size = batch_s)\n"
   ]
  },
  {
   "cell_type": "markdown",
   "metadata": {},
   "source": [
    "---\n",
    "## 2. Training"
   ]
  },
  {
   "cell_type": "markdown",
   "metadata": {},
   "source": [
    "Create your first CNN architecture for this task. Start with something as simple as possible, that you're almost sure can get an accuracy better than 50% (we'll improve upon it later).\n",
    "\n",
    "Tip:\n",
    "- If Tensorflow is your backend, your `input_shape` is always `(img_width, img_height, 3)` (i.e. channels **last**)"
   ]
  },
  {
   "cell_type": "code",
   "execution_count": null,
   "metadata": {},
   "outputs": [],
   "source": [
    "#convolutional layers\n",
    "conv_layer_1 = Conv2D(50,(3,3), activation='relu', input_shape = (224,224,3))\n",
    "conv_layer_2 = Conv2D(50,(3,3), activation='relu')\n",
    "conv_layer_3 = Conv2D(10,(3,3), activation='relu')\n",
    "\n",
    "#maxpooling layers\n",
    "maxpool_layer_1 = keras.layers.MaxPooling2D(pool_size=(2, 2), strides=None, padding='valid', data_format=None)\n",
    "\n",
    "#flattening layer\n",
    "flatening_layer = Flatten()\n",
    "\n",
    "#dense layers\n",
    "dense_layer_1 = Dense(20, activation='relu')\n",
    "dense_layer_2 = Dense(10, activation='relu')\n",
    "dense_layer_3 = Dense(2, activation='softmax')\n",
    "\n",
    "#model architecture initialization\n",
    "model_layer_list = [conv_layer_1, conv_layer_2, conv_layer_3,\n",
    "                    maxpool_layer_1, \n",
    "                    flatening_layer,\n",
    "                    dense_layer_1, dense_layer_2, dense_layer_3]\n",
    "\n",
    "model = Sequential(model_layer_list)\n",
    "\n",
    "#model optimizer initialisation\n",
    "model.compile(Adam(lr=0.000005),loss='categorical_crossentropy',metrics=['accuracy'])\n",
    "\n",
    "#model architecture overview\n",
    "model.summary()"
   ]
  },
  {
   "cell_type": "markdown",
   "metadata": {},
   "source": [
    "Train your model using the `fit_generator` method and the two data generators you created earlier. Train for a reasonable amount of epochs, so as to get a good sense of how well this architecture performs."
   ]
  },
  {
   "cell_type": "code",
   "execution_count": 53,
   "metadata": {},
   "outputs": [
    {
     "name": "stdout",
     "output_type": "stream",
     "text": [
      "History is already an dictionary\n"
     ]
    }
   ],
   "source": [
    "# training model\n",
    "history_graph = model.fit_generator(train_batches, steps_per_epoch = 20,\n",
    "                    validation_data = validation_batches,\n",
    "                    validation_steps = 10, epochs=200, verbose=2)\n",
    "\n",
    "# saving history data to file\n",
    "try:\n",
    "    history =history.history\n",
    "except AttributeError:\n",
    "    print('History is already an dictionary')\n",
    "    \n",
    "path = \"C:\\\\Users\\\\sandr\\\\Documents\\\\Skola\\\\Deep Neural Networks\\\\Deep-Neural-Network\\\\Home Assignments\\\\HA1\\\\Training history\\\\Simple\\\\\"\n",
    "            \n",
    "list_files = next(os.walk(path))[2] \n",
    "name = 'History_graph_simle ' +  str(len(list_files))\n",
    "with open(path + name + '.pkl', 'wb') as f:\n",
    "        pickle.dump(history, f)\n",
    "f.close()\n",
    "\n",
    "#saving models to file\n",
    "model_path = r'C:\\Users\\sandr\\Documents\\Skola\\Deep Neural Networks\\Deep-Neural-Network\\Home Assignments\\HA1\\models\\Simple' \n",
    "list_files = next(os.walk(path_model))[2] \n",
    "model_name = '\\Keras model simple CNN ' +  str(len(list_files))\n",
    "model.save(model_path + model_name)"
   ]
  },
  {
   "cell_type": "markdown",
   "metadata": {},
   "source": [
    "Create one figure with two axes. In one of them, plot the loss in the training and the validation datasets. In the other one, plot the accuracy in the training and validation datasets.\n",
    "\n",
    "Hint:\n",
    "- The `fit_generator` method returns a `history` object."
   ]
  },
  {
   "cell_type": "code",
   "execution_count": 16,
   "metadata": {},
   "outputs": [
    {
     "data": {
      "image/png": "[encoded data removed]",
      "text/plain": [
       "<matplotlib.figure.Figure at 0x2dbc89cccc0>"
      ]
     },
     "metadata": {
      "needs_background": "light"
     },
     "output_type": "display_data"
    }
   ],
   "source": [
    "path = r'C:\\Users\\sandr\\Documents\\Skola\\Deep Neural Networks\\Deep-Neural-Network\\Home Assignments\\HA1\\Training history\\Simple'\n",
    "list_files = os.listdir(path)\n",
    "name = '\\\\History_graph_simple' +  str(len(list_files))   \n",
    "with open(path + name + '.pkl', 'rb') as f:\n",
    "        history_graph = pickle.load(f)\n",
    "f.close()\n",
    "x = np.linspace(0,len(history_graph['loss']),len(history_graph['loss']))\n",
    "\n",
    "plt.subplot(2,1,1)\n",
    "plt.plot(x, history_graph['loss'])\n",
    "plt.plot(x, history_graph['val_loss'])\n",
    "plt.legend(['Training loss','Validation loss'])\n",
    "\n",
    "plt.subplot(2,1,2)\n",
    "plt.plot(x, history_graph['acc'])\n",
    "plt.plot(x, history_graph['val_acc'])\n",
    "plt.legend(['Training Accurasy','Validation Accurasy'])\n",
    "\n",
    "plt.show()"
   ]
  },
  {
   "cell_type": "markdown",
   "metadata": {},
   "source": [
    "Based on these, what would you suggest for improving your model? Why?\n",
    "\n",
    "**Your answer**: (fill in here)"
   ]
  },
  {
   "cell_type": "markdown",
   "metadata": {},
   "source": [
    "---\n",
    "## 3. Improving your initial model"
   ]
  },
  {
   "cell_type": "markdown",
   "metadata": {},
   "source": [
    "Improve your initial model according to you answer above. Write the new definition in the cell below and train it."
   ]
  },
  {
   "cell_type": "code",
   "execution_count": null,
   "metadata": {},
   "outputs": [],
   "source": [
    "#convolutional layers\n",
    "conv_layer_1 = Conv2D(50,(3,3), activation='relu', input_shape = (224,224,3))\n",
    "conv_layer_2 = Conv2D(50,(3,3), activation='relu')\n",
    "conv_layer_3 = Conv2D(50,(3,3), activation='relu')\n",
    "conv_layer_2_1 = Conv2D(200,(3,3), activation='relu')\n",
    "conv_layer_2_2 = Conv2D(200,(3,3), activation='relu')\n",
    "conv_layer_2_3 = Conv2D(300,(3,3), activation='relu')\n",
    "conv_layer_3_1 = Conv2D(300,(3,3), activation='relu')\n",
    "conv_layer_3_2 = Conv2D(20,(3,3), activation='relu')\n",
    "\n",
    "#maxpooling layers\n",
    "maxpool_layer_1 = keras.layers.MaxPooling2D(pool_size=(2, 2), strides=None, padding='valid', data_format=None)\n",
    "maxpool_layer_2 = keras.layers.MaxPooling2D(pool_size=(2, 2), strides=None, padding='valid', data_format=None)\n",
    "maxpool_layer_3 = keras.layers.MaxPooling2D(pool_size=(2, 2), strides=None, padding='valid', data_format=None)\n",
    "maxpool_layer_4 = keras.layers.MaxPooling2D(pool_size=(3, 3), strides=2, padding='valid', data_format=None)\n",
    "\n",
    "#dropoutlayer\n",
    "dropout_layer_1 = keras.layers.Dropout(0.1, noise_shape=None, seed=None)\n",
    "dropout_layer_2 = keras.layers.Dropout(0.3, noise_shape=None, seed=None)\n",
    "dropout_layer_3 = keras.layers.Dropout(0.5, noise_shape=None, seed=None)\n",
    "\n",
    "#flattening layer\n",
    "flatening_layer = Flatten()\n",
    "\n",
    "#dense layers\n",
    "dense_layer_1 = Dense(512, activation='relu')\n",
    "dense_layer_2 = Dense(10, activation='relu')\n",
    "dense_layer_3 = Dense(2, activation='softmax')\n",
    "\n",
    "#model architecture initialization\n",
    "model_layer_list = [conv_layer_1, conv_layer_2, conv_layer_3,\n",
    "                    maxpool_layer_1, \n",
    "                    conv_layer_2_1, conv_layer_2_2, conv_layer_2_3,\n",
    "                    maxpool_layer_2, dropout_layer_1,\n",
    "                    conv_layer_3_1, conv_layer_3_2,\n",
    "                    maxpool_layer_3, dropout_layer_2, flatening_layer,\n",
    "                    dense_layer_1,\n",
    "                    dropout_layer_3,\n",
    "                    dense_layer_2, dense_layer_3]\n",
    "\n",
    "improved_model = Sequential(model_layer_list)\n",
    "\n",
    "#model optimizer initialisation\n",
    "improved_model.compile(Adam(lr=0.00001),loss='categorical_crossentropy',metrics=['accuracy'])\n",
    "\n",
    "#model architecture overview\n",
    "#improved_model.summary()\n",
    "tb = TensorBoard(log_dir='./logs/improved_setting')\n",
    "improved_history_graph = improved_model.fit_generator(train_batches, steps_per_epoch = 107,\n",
    "                    validation_data = validation_batches,\n",
    "                    validation_steps = 50, epochs=200, verbose=2, callbacks=[tb])\n",
    "\n",
    "# saving history data to file\n",
    "try:\n",
    "    history =improved_history_graph.history\n",
    "except AttributeError:\n",
    "    print('History is already an dictionary')\n",
    "    \n",
    "path = r\"C:\\Users\\sandr\\Documents\\Skola\\Deep Neural Networks\\Deep-Neural-Network\\Home Assignments\\HA1\\Training history\\Improved\"\n",
    "            \n",
    "list_files = next(os.walk(path))[2] \n",
    "name = '\\History_graph_improved ' +  str(len(list_files)+1)\n",
    "with open(path + name + '.pkl', 'wb') as f:\n",
    "        pickle.dump(history, f)\n",
    "f.close()\n",
    "\n",
    "#saving models to file\n",
    "model_path = r'C:\\Users\\sandr\\Documents\\Skola\\Deep Neural Networks\\Deep-Neural-Network\\Home Assignments\\HA1\\models\\Improved' \n",
    "list_files = next(os.walk(model_path))[2] \n",
    "model_name = '\\Keras model simple CNN ' +  str(len(list_files)+1)\n",
    "improved_model.save(model_path + model_name)"
   ]
  },
  {
   "cell_type": "markdown",
   "metadata": {},
   "source": [
    "Plot the accuracy in the test and validation set, using the initial model and your newly improved one."
   ]
  },
  {
   "cell_type": "code",
   "execution_count": 34,
   "metadata": {},
   "outputs": [
    {
     "data": {
      "image/png": "[encoded data removed]",
      "text/plain": [
       "<matplotlib.figure.Figure at 0x2db90a26b70>"
      ]
     },
     "metadata": {
      "needs_background": "light"
     },
     "output_type": "display_data"
    }
   ],
   "source": [
    "path_simple = r'C:\\Users\\sandr\\Documents\\Skola\\Deep Neural Networks\\Deep-Neural-Network\\Home Assignments\\HA1\\Training history\\Simple'\n",
    "path_improved = r'C:\\Users\\sandr\\Documents\\Skola\\Deep Neural Networks\\Deep-Neural-Network\\Home Assignments\\HA1\\Training history\\Improved'\n",
    "list_files_simple = os.listdir(path_simple)\n",
    "list_files_improved = os.listdir(path_improved)\n",
    "name_simple = '\\History_graph_simple ' +  str(len(list_files_simple)) \n",
    "name_improved = '\\History_graph_improved ' + str(len(list_files_improved))\n",
    "with open(path_simple + name_simple + '.pkl', 'rb') as f:\n",
    "        history_graph_simple = pickle.load(f)\n",
    "f.close()\n",
    "with open(path_improved + name_improved + '.pkl', 'rb') as f:\n",
    "        history_graph_improved = pickle.load(f)\n",
    "f.close()\n",
    "\n",
    "\n",
    "x = np.linspace(0,len(history_graph_simple['loss']),len(history_graph_simple['loss']))\n",
    "\n",
    "fig, ax = plt.subplots()\n",
    "ax.plot(x, history_graph_simple['acc'], label = 'Simple model Training accuracy')\n",
    "ax.plot(x, history_graph_simple['val_acc'], label = 'Simple model validation accuracy')\n",
    "ax.plot(x, history_graph_improved['acc'], label = 'Improved model accuracy')\n",
    "ax.plot(x, history_graph_improved['val_acc'], label = 'Improved model validation accuracy')\n",
    "ax.legend()\n",
    "ax.set_title('Plot of the accuracy for both the simple and improved model') \n",
    "\n",
    "\n",
    "plt.show()"
   ]
  },
  {
   "cell_type": "markdown",
   "metadata": {},
   "source": [
    "Did your results improve? Explain why, or why not.\n",
    "\n",
    "**Your answer**: (fill in here)"
   ]
  },
  {
   "cell_type": "markdown",
   "metadata": {},
   "source": [
    "---\n",
    "## 4. Obtaining the *best* model"
   ]
  },
  {
   "cell_type": "markdown",
   "metadata": {},
   "source": [
    "Continue to improve your model architecture by comparing the value of the metrics you're interested in both the training and validation set. Try different ideas, and consider comparing them using tensorboard. When you're happy with one architecture, copy it in the cell below and train it here. Save the optimization history (i.e. the `history` object returned by the `fit_generator`). You'll use this later to compare your best model with the one using transfer learning.\n",
    "\n",
    "**Note**: When trying different ideas, you'll end up with several different models. However, when submitting your solutions to ping-pong, the cell below must contain only the definition and training of *one* model. Remove all code related to the models that were not chosen."
   ]
  },
  {
   "cell_type": "code",
   "execution_count": 24,
   "metadata": {
    "scrolled": true
   },
   "outputs": [
    {
     "name": "stdout",
     "output_type": "stream",
     "text": [
      "_________________________________________________________________\n",
      "Layer (type)                 Output Shape              Param #   \n",
      "=================================================================\n",
      "conv2d_109 (Conv2D)          (None, 222, 222, 32)      896       \n",
      "_________________________________________________________________\n",
      "conv2d_110 (Conv2D)          (None, 220, 220, 32)      9248      \n",
      "_________________________________________________________________\n",
      "conv2d_111 (Conv2D)          (None, 218, 218, 32)      9248      \n",
      "_________________________________________________________________\n",
      "max_pooling2d_37 (MaxPooling (None, 108, 108, 32)      0         \n",
      "_________________________________________________________________\n",
      "conv2d_112 (Conv2D)          (None, 106, 106, 64)      18496     \n",
      "_________________________________________________________________\n",
      "conv2d_113 (Conv2D)          (None, 104, 104, 64)      36928     \n",
      "_________________________________________________________________\n",
      "conv2d_114 (Conv2D)          (None, 102, 102, 64)      36928     \n",
      "_________________________________________________________________\n",
      "max_pooling2d_38 (MaxPooling (None, 50, 50, 64)        0         \n",
      "_________________________________________________________________\n",
      "conv2d_115 (Conv2D)          (None, 48, 48, 128)       73856     \n",
      "_________________________________________________________________\n",
      "conv2d_116 (Conv2D)          (None, 46, 46, 128)       147584    \n",
      "_________________________________________________________________\n",
      "conv2d_117 (Conv2D)          (None, 44, 44, 128)       147584    \n",
      "_________________________________________________________________\n",
      "max_pooling2d_39 (MaxPooling (None, 21, 21, 128)       0         \n",
      "_________________________________________________________________\n",
      "flatten_11 (Flatten)         (None, 56448)             0         \n",
      "_________________________________________________________________\n",
      "dense_30 (Dense)             (None, 70)                3951430   \n",
      "_________________________________________________________________\n",
      "dropout_49 (Dropout)         (None, 70)                0         \n",
      "_________________________________________________________________\n",
      "dense_31 (Dense)             (None, 70)                4970      \n",
      "_________________________________________________________________\n",
      "dropout_50 (Dropout)         (None, 70)                0         \n",
      "_________________________________________________________________\n",
      "dense_32 (Dense)             (None, 2)                 142       \n",
      "=================================================================\n",
      "Total params: 4,437,310\n",
      "Trainable params: 4,437,310\n",
      "Non-trainable params: 0\n",
      "_________________________________________________________________\n",
      "Epoch 1/200\n",
      "50/50 [==============================] - 15s 293ms/step - loss: 9.7897 - acc: 0.5153 - val_loss: 9.5090 - val_acc: 0.5540\n",
      "Epoch 2/200\n",
      "50/50 [==============================] - 13s 256ms/step - loss: 9.4169 - acc: 0.5276 - val_loss: 9.3098 - val_acc: 0.5093\n",
      "Epoch 3/200\n",
      "50/50 [==============================] - 13s 257ms/step - loss: 9.2113 - acc: 0.5377 - val_loss: 9.1035 - val_acc: 0.5853\n",
      "Epoch 4/200\n",
      "50/50 [==============================] - 13s 258ms/step - loss: 9.0173 - acc: 0.5684 - val_loss: 8.9143 - val_acc: 0.5927\n",
      "Epoch 5/200\n",
      "50/50 [==============================] - 13s 259ms/step - loss: 8.8289 - acc: 0.5772 - val_loss: 8.7313 - val_acc: 0.6127\n",
      "Epoch 6/200\n",
      "50/50 [==============================] - 13s 255ms/step - loss: 8.6480 - acc: 0.5908 - val_loss: 8.5618 - val_acc: 0.6100\n",
      "Epoch 7/200\n",
      "50/50 [==============================] - 13s 257ms/step - loss: 8.4979 - acc: 0.5814 - val_loss: 8.4028 - val_acc: 0.6073\n",
      "Epoch 8/200\n",
      "50/50 [==============================] - 13s 260ms/step - loss: 8.3310 - acc: 0.6091 - val_loss: 8.2637 - val_acc: 0.6060\n",
      "Epoch 9/200\n",
      "50/50 [==============================] - 13s 260ms/step - loss: 8.1994 - acc: 0.6003 - val_loss: 8.1264 - val_acc: 0.6147\n",
      "Epoch 10/200\n",
      "50/50 [==============================] - 13s 258ms/step - loss: 8.0563 - acc: 0.6185 - val_loss: 7.9865 - val_acc: 0.6167\n",
      "Epoch 11/200\n",
      "50/50 [==============================] - 13s 259ms/step - loss: 7.9183 - acc: 0.6245 - val_loss: 7.8539 - val_acc: 0.6433\n",
      "Epoch 12/200\n",
      "50/50 [==============================] - 13s 262ms/step - loss: 7.7878 - acc: 0.6334 - val_loss: 7.7337 - val_acc: 0.6507\n",
      "Epoch 13/200\n",
      "50/50 [==============================] - 13s 259ms/step - loss: 7.6738 - acc: 0.6288 - val_loss: 7.6122 - val_acc: 0.6607\n",
      "Epoch 14/200\n",
      "50/50 [==============================] - 13s 258ms/step - loss: 7.5525 - acc: 0.6458 - val_loss: 7.4960 - val_acc: 0.6667\n",
      "Epoch 15/200\n",
      "50/50 [==============================] - 13s 259ms/step - loss: 7.4343 - acc: 0.6624 - val_loss: 7.4087 - val_acc: 0.6520\n",
      "Epoch 16/200\n",
      "50/50 [==============================] - 13s 256ms/step - loss: 7.3333 - acc: 0.6749 - val_loss: 7.2952 - val_acc: 0.6667\n",
      "Epoch 17/200\n",
      "50/50 [==============================] - 13s 259ms/step - loss: 7.2338 - acc: 0.6813 - val_loss: 7.2062 - val_acc: 0.6740\n",
      "Epoch 18/200\n",
      "50/50 [==============================] - 13s 258ms/step - loss: 7.1323 - acc: 0.6954 - val_loss: 7.0999 - val_acc: 0.6853\n",
      "Epoch 19/200\n",
      "50/50 [==============================] - 13s 259ms/step - loss: 7.0438 - acc: 0.6856 - val_loss: 7.0135 - val_acc: 0.6907\n",
      "Epoch 20/200\n",
      "50/50 [==============================] - 13s 258ms/step - loss: 6.9432 - acc: 0.7045 - val_loss: 6.9167 - val_acc: 0.7020\n",
      "Epoch 21/200\n",
      "50/50 [==============================] - 13s 259ms/step - loss: 6.8558 - acc: 0.7109 - val_loss: 6.8383 - val_acc: 0.7080\n",
      "Epoch 22/200\n",
      "50/50 [==============================] - 13s 257ms/step - loss: 6.7741 - acc: 0.7249 - val_loss: 6.7667 - val_acc: 0.6873\n",
      "Epoch 23/200\n",
      "50/50 [==============================] - 13s 258ms/step - loss: 6.6868 - acc: 0.7319 - val_loss: 6.6840 - val_acc: 0.7167\n",
      "Epoch 24/200\n",
      "50/50 [==============================] - 13s 259ms/step - loss: 6.6032 - acc: 0.7369 - val_loss: 6.6338 - val_acc: 0.6873\n",
      "Epoch 25/200\n",
      "50/50 [==============================] - 13s 258ms/step - loss: 6.5272 - acc: 0.7483 - val_loss: 6.5429 - val_acc: 0.7140\n",
      "Epoch 26/200\n",
      "50/50 [==============================] - 13s 255ms/step - loss: 6.4583 - acc: 0.7514 - val_loss: 6.4669 - val_acc: 0.7240\n",
      "Epoch 27/200\n",
      "50/50 [==============================] - 13s 258ms/step - loss: 6.3933 - acc: 0.7490 - val_loss: 6.4273 - val_acc: 0.7000\n",
      "Epoch 28/200\n",
      "50/50 [==============================] - 13s 258ms/step - loss: 6.3120 - acc: 0.7684 - val_loss: 6.3453 - val_acc: 0.7120\n",
      "Epoch 29/200\n",
      "50/50 [==============================] - 13s 259ms/step - loss: 6.2427 - acc: 0.7757 - val_loss: 6.2878 - val_acc: 0.7113\n",
      "Epoch 30/200\n",
      "50/50 [==============================] - 13s 258ms/step - loss: 6.1876 - acc: 0.7728 - val_loss: 6.2286 - val_acc: 0.7093\n",
      "Epoch 31/200\n",
      "50/50 [==============================] - 13s 256ms/step - loss: 6.1332 - acc: 0.7647 - val_loss: 6.1896 - val_acc: 0.7087\n",
      "Epoch 32/200\n",
      "50/50 [==============================] - 13s 258ms/step - loss: 6.0645 - acc: 0.7721 - val_loss: 6.1169 - val_acc: 0.7247\n",
      "Epoch 33/200\n",
      "50/50 [==============================] - 13s 258ms/step - loss: 6.0034 - acc: 0.7798 - val_loss: 6.0572 - val_acc: 0.7227\n",
      "Epoch 34/200\n",
      "50/50 [==============================] - 13s 259ms/step - loss: 5.9349 - acc: 0.7922 - val_loss: 6.0247 - val_acc: 0.7147\n",
      "Epoch 35/200\n",
      "50/50 [==============================] - 13s 258ms/step - loss: 5.8894 - acc: 0.8015 - val_loss: 5.9613 - val_acc: 0.7260\n",
      "Epoch 36/200\n",
      "50/50 [==============================] - 13s 260ms/step - loss: 5.8270 - acc: 0.8025 - val_loss: 5.9234 - val_acc: 0.7120\n",
      "Epoch 37/200\n",
      "50/50 [==============================] - 13s 256ms/step - loss: 5.7789 - acc: 0.8073 - val_loss: 5.8634 - val_acc: 0.7253\n",
      "Epoch 38/200\n",
      "50/50 [==============================] - 13s 258ms/step - loss: 5.7174 - acc: 0.8213 - val_loss: 5.8563 - val_acc: 0.7153\n",
      "Epoch 39/200\n",
      "50/50 [==============================] - 13s 259ms/step - loss: 5.6464 - acc: 0.8334 - val_loss: 5.7717 - val_acc: 0.7260\n",
      "Epoch 40/200\n",
      "50/50 [==============================] - 13s 257ms/step - loss: 5.6140 - acc: 0.8203 - val_loss: 5.7415 - val_acc: 0.7180\n",
      "Epoch 41/200\n",
      "50/50 [==============================] - 13s 256ms/step - loss: 5.5566 - acc: 0.8324 - val_loss: 5.6947 - val_acc: 0.7187\n",
      "Epoch 42/200\n",
      "50/50 [==============================] - 13s 260ms/step - loss: 5.5224 - acc: 0.8300 - val_loss: 5.6547 - val_acc: 0.7347\n",
      "Epoch 43/200\n",
      "50/50 [==============================] - 13s 258ms/step - loss: 5.4652 - acc: 0.8373 - val_loss: 5.6214 - val_acc: 0.7387\n",
      "Epoch 44/200\n",
      "50/50 [==============================] - 13s 260ms/step - loss: 5.4086 - acc: 0.8522 - val_loss: 5.5851 - val_acc: 0.7400\n",
      "Epoch 45/200\n",
      "50/50 [==============================] - 13s 260ms/step - loss: 5.3558 - acc: 0.8572 - val_loss: 5.5351 - val_acc: 0.7393\n",
      "Epoch 46/200\n",
      "50/50 [==============================] - 13s 255ms/step - loss: 5.3143 - acc: 0.8645 - val_loss: 5.4876 - val_acc: 0.7360\n",
      "Epoch 47/200\n",
      "50/50 [==============================] - 13s 261ms/step - loss: 5.2693 - acc: 0.8628 - val_loss: 5.4731 - val_acc: 0.7340\n",
      "Epoch 48/200\n",
      "50/50 [==============================] - 13s 259ms/step - loss: 5.2454 - acc: 0.8523 - val_loss: 5.4236 - val_acc: 0.7287\n",
      "Epoch 49/200\n",
      "50/50 [==============================] - 13s 257ms/step - loss: 5.2052 - acc: 0.8565 - val_loss: 5.3998 - val_acc: 0.7300\n",
      "Epoch 50/200\n",
      "50/50 [==============================] - 13s 258ms/step - loss: 5.1573 - acc: 0.8744 - val_loss: 5.3700 - val_acc: 0.7473\n",
      "Epoch 51/200\n",
      "50/50 [==============================] - 13s 254ms/step - loss: 5.1064 - acc: 0.8747 - val_loss: 5.3843 - val_acc: 0.7273\n",
      "Epoch 52/200\n",
      "50/50 [==============================] - 13s 258ms/step - loss: 5.0695 - acc: 0.8884 - val_loss: 5.2949 - val_acc: 0.7487\n",
      "Epoch 53/200\n",
      "50/50 [==============================] - 13s 259ms/step - loss: 5.0149 - acc: 0.8872 - val_loss: 5.2821 - val_acc: 0.7480\n",
      "Epoch 54/200\n",
      "50/50 [==============================] - 13s 256ms/step - loss: 4.9820 - acc: 0.8924 - val_loss: 5.2402 - val_acc: 0.7500\n",
      "Epoch 55/200\n",
      "50/50 [==============================] - 13s 259ms/step - loss: 4.9439 - acc: 0.8975 - val_loss: 5.2282 - val_acc: 0.7447\n",
      "Epoch 56/200\n",
      "50/50 [==============================] - 13s 260ms/step - loss: 4.8978 - acc: 0.9009 - val_loss: 5.1996 - val_acc: 0.7407\n",
      "Epoch 57/200\n",
      "50/50 [==============================] - 13s 255ms/step - loss: 4.8835 - acc: 0.8914 - val_loss: 5.1555 - val_acc: 0.7433\n",
      "Epoch 58/200\n",
      "50/50 [==============================] - 13s 259ms/step - loss: 4.8359 - acc: 0.9033 - val_loss: 5.1467 - val_acc: 0.7507\n",
      "Epoch 59/200\n",
      "50/50 [==============================] - 13s 259ms/step - loss: 4.8038 - acc: 0.9053 - val_loss: 5.1211 - val_acc: 0.7480\n",
      "Epoch 60/200\n",
      "50/50 [==============================] - 13s 257ms/step - loss: 4.7652 - acc: 0.9097 - val_loss: 5.0687 - val_acc: 0.7513\n",
      "Epoch 61/200\n",
      "50/50 [==============================] - 13s 258ms/step - loss: 4.7245 - acc: 0.9158 - val_loss: 5.0538 - val_acc: 0.7447\n",
      "Epoch 62/200\n",
      "50/50 [==============================] - 13s 256ms/step - loss: 4.7067 - acc: 0.9085 - val_loss: 5.0220 - val_acc: 0.7520\n",
      "Epoch 63/200\n",
      "50/50 [==============================] - 13s 259ms/step - loss: 4.6705 - acc: 0.9137 - val_loss: 5.0347 - val_acc: 0.7453\n",
      "Epoch 64/200\n",
      "50/50 [==============================] - 13s 256ms/step - loss: 4.6321 - acc: 0.9181 - val_loss: 5.0404 - val_acc: 0.7533\n",
      "Epoch 65/200\n",
      "50/50 [==============================] - 13s 260ms/step - loss: 4.5937 - acc: 0.9272 - val_loss: 5.0352 - val_acc: 0.7427\n",
      "Epoch 66/200\n",
      "50/50 [==============================] - 13s 259ms/step - loss: 4.5699 - acc: 0.9289 - val_loss: 4.9669 - val_acc: 0.7493\n",
      "Epoch 67/200\n",
      "50/50 [==============================] - 13s 258ms/step - loss: 4.5356 - acc: 0.9288 - val_loss: 4.9843 - val_acc: 0.7480\n",
      "Epoch 68/200\n",
      "50/50 [==============================] - 13s 258ms/step - loss: 4.5348 - acc: 0.9184 - val_loss: 5.0025 - val_acc: 0.7380\n",
      "Epoch 69/200\n",
      "50/50 [==============================] - 13s 260ms/step - loss: 4.4848 - acc: 0.9331 - val_loss: 4.9598 - val_acc: 0.7467\n",
      "Epoch 70/200\n",
      "50/50 [==============================] - 13s 258ms/step - loss: 4.4497 - acc: 0.9344 - val_loss: 4.8884 - val_acc: 0.7453\n",
      "Epoch 71/200\n",
      "50/50 [==============================] - 13s 259ms/step - loss: 4.4269 - acc: 0.9319 - val_loss: 4.8921 - val_acc: 0.7513\n",
      "Epoch 72/200\n",
      "50/50 [==============================] - 13s 258ms/step - loss: 4.3858 - acc: 0.9445 - val_loss: 4.9102 - val_acc: 0.7440\n",
      "Epoch 73/200\n",
      "50/50 [==============================] - 13s 259ms/step - loss: 4.3776 - acc: 0.9327 - val_loss: 4.8342 - val_acc: 0.7440\n",
      "Epoch 74/200\n",
      "50/50 [==============================] - 13s 258ms/step - loss: 4.3660 - acc: 0.9283 - val_loss: 4.8408 - val_acc: 0.7507\n",
      "Epoch 75/200\n",
      "50/50 [==============================] - 13s 256ms/step - loss: 4.3201 - acc: 0.9431 - val_loss: 4.8384 - val_acc: 0.7547\n",
      "Epoch 76/200\n",
      "50/50 [==============================] - 13s 259ms/step - loss: 4.3085 - acc: 0.9378 - val_loss: 4.7741 - val_acc: 0.7540\n",
      "Epoch 77/200\n",
      "50/50 [==============================] - 13s 258ms/step - loss: 4.2724 - acc: 0.9470 - val_loss: 4.7859 - val_acc: 0.7560\n",
      "Epoch 78/200\n",
      "50/50 [==============================] - 13s 257ms/step - loss: 4.2366 - acc: 0.9513 - val_loss: 4.7848 - val_acc: 0.7567\n",
      "Epoch 79/200\n",
      "50/50 [==============================] - 13s 258ms/step - loss: 4.2264 - acc: 0.9447 - val_loss: 4.7252 - val_acc: 0.7540\n",
      "Epoch 80/200\n",
      "50/50 [==============================] - 13s 258ms/step - loss: 4.1902 - acc: 0.9545 - val_loss: 4.7369 - val_acc: 0.7567\n",
      "Epoch 81/200\n",
      "50/50 [==============================] - 13s 257ms/step - loss: 4.1729 - acc: 0.9547 - val_loss: 4.8001 - val_acc: 0.7507\n",
      "Epoch 82/200\n",
      "50/50 [==============================] - 13s 254ms/step - loss: 4.1641 - acc: 0.9450 - val_loss: 4.7234 - val_acc: 0.7527\n",
      "Epoch 83/200\n",
      "50/50 [==============================] - 13s 259ms/step - loss: 4.1279 - acc: 0.9513 - val_loss: 4.7310 - val_acc: 0.7620\n",
      "Epoch 84/200\n",
      "50/50 [==============================] - 13s 257ms/step - loss: 4.1031 - acc: 0.9605 - val_loss: 4.7142 - val_acc: 0.7540\n",
      "Epoch 85/200\n",
      "50/50 [==============================] - 13s 260ms/step - loss: 4.0844 - acc: 0.9567 - val_loss: 4.6854 - val_acc: 0.7540\n",
      "Epoch 86/200\n",
      "50/50 [==============================] - 13s 260ms/step - loss: 4.0671 - acc: 0.9565 - val_loss: 4.6790 - val_acc: 0.7533\n",
      "Epoch 87/200\n",
      "50/50 [==============================] - 13s 258ms/step - loss: 4.0421 - acc: 0.9582 - val_loss: 4.6876 - val_acc: 0.7553\n",
      "Epoch 88/200\n",
      "50/50 [==============================] - 13s 260ms/step - loss: 4.0251 - acc: 0.9580 - val_loss: 4.6588 - val_acc: 0.7547\n",
      "Epoch 89/200\n",
      "50/50 [==============================] - 13s 256ms/step - loss: 4.0041 - acc: 0.9581 - val_loss: 4.6113 - val_acc: 0.7633\n",
      "Epoch 90/200\n",
      "50/50 [==============================] - 13s 260ms/step - loss: 3.9881 - acc: 0.9616 - val_loss: 4.6116 - val_acc: 0.7573\n",
      "Epoch 91/200\n",
      "50/50 [==============================] - 13s 258ms/step - loss: 3.9678 - acc: 0.9589 - val_loss: 4.6764 - val_acc: 0.7500\n",
      "Epoch 92/200\n",
      "50/50 [==============================] - 13s 257ms/step - loss: 3.9430 - acc: 0.9666 - val_loss: 4.5958 - val_acc: 0.7480\n",
      "Epoch 93/200\n",
      "50/50 [==============================] - 13s 259ms/step - loss: 3.9162 - acc: 0.9670 - val_loss: 4.7421 - val_acc: 0.7467\n",
      "Epoch 94/200\n",
      "50/50 [==============================] - 13s 257ms/step - loss: 3.9251 - acc: 0.9545 - val_loss: 4.6185 - val_acc: 0.7493\n",
      "Epoch 95/200\n",
      "50/50 [==============================] - 13s 262ms/step - loss: 3.8809 - acc: 0.9688 - val_loss: 4.6895 - val_acc: 0.7473\n",
      "Epoch 96/200\n",
      "50/50 [==============================] - 13s 258ms/step - loss: 3.8799 - acc: 0.9597 - val_loss: 4.6320 - val_acc: 0.7527\n",
      "Epoch 97/200\n",
      "50/50 [==============================] - 13s 260ms/step - loss: 3.8500 - acc: 0.9697 - val_loss: 4.6743 - val_acc: 0.7567\n",
      "Epoch 98/200\n",
      "50/50 [==============================] - 13s 257ms/step - loss: 3.8446 - acc: 0.9630 - val_loss: 4.5462 - val_acc: 0.7553\n",
      "Epoch 99/200\n",
      "50/50 [==============================] - 13s 258ms/step - loss: 3.8227 - acc: 0.9649 - val_loss: 4.5996 - val_acc: 0.7607\n",
      "Epoch 100/200\n",
      "50/50 [==============================] - 13s 260ms/step - loss: 3.8024 - acc: 0.9667 - val_loss: 4.5318 - val_acc: 0.7567\n",
      "Epoch 101/200\n",
      "50/50 [==============================] - 13s 256ms/step - loss: 3.7987 - acc: 0.9635 - val_loss: 4.5337 - val_acc: 0.7600\n"
     ]
    },
    {
     "name": "stdout",
     "output_type": "stream",
     "text": [
      "Epoch 102/200\n",
      "50/50 [==============================] - 13s 257ms/step - loss: 3.7720 - acc: 0.9665 - val_loss: 4.4998 - val_acc: 0.7607\n",
      "Epoch 103/200\n",
      "50/50 [==============================] - 13s 260ms/step - loss: 3.7539 - acc: 0.9712 - val_loss: 4.6290 - val_acc: 0.7467\n",
      "Epoch 104/200\n",
      "50/50 [==============================] - 13s 253ms/step - loss: 3.7474 - acc: 0.9694 - val_loss: 4.5875 - val_acc: 0.7540\n",
      "Epoch 105/200\n",
      "50/50 [==============================] - 13s 253ms/step - loss: 3.7228 - acc: 0.9730 - val_loss: 4.5236 - val_acc: 0.7487\n",
      "Epoch 106/200\n",
      "50/50 [==============================] - 13s 254ms/step - loss: 3.7015 - acc: 0.9724 - val_loss: 4.6030 - val_acc: 0.7513\n",
      "Epoch 107/200\n",
      "50/50 [==============================] - 13s 259ms/step - loss: 3.6879 - acc: 0.9719 - val_loss: 4.5042 - val_acc: 0.7533\n",
      "Epoch 108/200\n",
      "50/50 [==============================] - 13s 260ms/step - loss: 3.6910 - acc: 0.9661 - val_loss: 4.5422 - val_acc: 0.7500\n",
      "Epoch 109/200\n",
      "50/50 [==============================] - 13s 258ms/step - loss: 3.6615 - acc: 0.9729 - val_loss: 4.5428 - val_acc: 0.7547\n",
      "Epoch 110/200\n",
      "50/50 [==============================] - 13s 258ms/step - loss: 3.6372 - acc: 0.9797 - val_loss: 4.5346 - val_acc: 0.7500\n",
      "Epoch 111/200\n",
      "50/50 [==============================] - 13s 257ms/step - loss: 3.6312 - acc: 0.9722 - val_loss: 4.4245 - val_acc: 0.7527\n",
      "Epoch 112/200\n",
      "50/50 [==============================] - 13s 259ms/step - loss: 3.6124 - acc: 0.9787 - val_loss: 4.5081 - val_acc: 0.7640\n",
      "Epoch 113/200\n",
      "50/50 [==============================] - 13s 258ms/step - loss: 3.5996 - acc: 0.9791 - val_loss: 4.5055 - val_acc: 0.7580\n",
      "Epoch 114/200\n",
      "50/50 [==============================] - 13s 262ms/step - loss: 3.5872 - acc: 0.9769 - val_loss: 4.4179 - val_acc: 0.7613\n",
      "Epoch 115/200\n",
      "50/50 [==============================] - 13s 258ms/step - loss: 3.5824 - acc: 0.9724 - val_loss: 4.4199 - val_acc: 0.7667\n",
      "Epoch 116/200\n",
      "50/50 [==============================] - 13s 257ms/step - loss: 3.5578 - acc: 0.9792 - val_loss: 4.4618 - val_acc: 0.7580\n",
      "Epoch 117/200\n",
      "50/50 [==============================] - 13s 257ms/step - loss: 3.5555 - acc: 0.9741 - val_loss: 4.4394 - val_acc: 0.7633\n",
      "Epoch 118/200\n",
      "50/50 [==============================] - 13s 259ms/step - loss: 3.5326 - acc: 0.9791 - val_loss: 4.3799 - val_acc: 0.7560\n",
      "Epoch 119/200\n",
      "50/50 [==============================] - 13s 257ms/step - loss: 3.5195 - acc: 0.9778 - val_loss: 4.5323 - val_acc: 0.7527\n",
      "Epoch 120/200\n",
      "50/50 [==============================] - 13s 260ms/step - loss: 3.5086 - acc: 0.9759 - val_loss: 4.3641 - val_acc: 0.7633\n",
      "Epoch 121/200\n",
      "50/50 [==============================] - 13s 258ms/step - loss: 3.4965 - acc: 0.9760 - val_loss: 4.4210 - val_acc: 0.7540\n",
      "Epoch 122/200\n",
      "50/50 [==============================] - 13s 258ms/step - loss: 3.4826 - acc: 0.9788 - val_loss: 4.4720 - val_acc: 0.7493\n",
      "Epoch 123/200\n",
      "50/50 [==============================] - 13s 259ms/step - loss: 3.4743 - acc: 0.9745 - val_loss: 4.4036 - val_acc: 0.7500\n",
      "Epoch 124/200\n",
      "50/50 [==============================] - 13s 257ms/step - loss: 3.4599 - acc: 0.9759 - val_loss: 4.3972 - val_acc: 0.7540\n",
      "Epoch 125/200\n",
      "50/50 [==============================] - 13s 257ms/step - loss: 3.4412 - acc: 0.9800 - val_loss: 4.3321 - val_acc: 0.7527\n",
      "Epoch 126/200\n",
      "50/50 [==============================] - 13s 257ms/step - loss: 3.4438 - acc: 0.9752 - val_loss: 4.2888 - val_acc: 0.7587\n",
      "Epoch 127/200\n",
      "50/50 [==============================] - 13s 260ms/step - loss: 3.4272 - acc: 0.9778 - val_loss: 4.4272 - val_acc: 0.7553\n",
      "Epoch 128/200\n",
      "50/50 [==============================] - 13s 260ms/step - loss: 3.4102 - acc: 0.9814 - val_loss: 4.3804 - val_acc: 0.7507\n",
      "Epoch 129/200\n",
      "50/50 [==============================] - 13s 257ms/step - loss: 3.3899 - acc: 0.9825 - val_loss: 4.3124 - val_acc: 0.7593\n",
      "Epoch 130/200\n",
      "50/50 [==============================] - 13s 259ms/step - loss: 3.3894 - acc: 0.9791 - val_loss: 4.2730 - val_acc: 0.7667\n",
      "Epoch 131/200\n",
      "50/50 [==============================] - 13s 258ms/step - loss: 3.3681 - acc: 0.9822 - val_loss: 4.3635 - val_acc: 0.7547\n",
      "Epoch 132/200\n",
      "50/50 [==============================] - 13s 258ms/step - loss: 3.3510 - acc: 0.9853 - val_loss: 4.3198 - val_acc: 0.7593\n",
      "Epoch 133/200\n",
      "50/50 [==============================] - 13s 258ms/step - loss: 3.3461 - acc: 0.9828 - val_loss: 4.2396 - val_acc: 0.7587\n",
      "Epoch 134/200\n",
      "50/50 [==============================] - 13s 258ms/step - loss: 3.3444 - acc: 0.9811 - val_loss: 4.3021 - val_acc: 0.7567\n",
      "Epoch 135/200\n",
      "50/50 [==============================] - 13s 259ms/step - loss: 3.3304 - acc: 0.9817 - val_loss: 4.3923 - val_acc: 0.7587\n",
      "Epoch 136/200\n",
      "50/50 [==============================] - 13s 259ms/step - loss: 3.3208 - acc: 0.9781 - val_loss: 4.2500 - val_acc: 0.7620\n",
      "Epoch 137/200\n",
      "50/50 [==============================] - 13s 257ms/step - loss: 3.3110 - acc: 0.9791 - val_loss: 4.4251 - val_acc: 0.7380\n",
      "Epoch 138/200\n",
      "50/50 [==============================] - 13s 256ms/step - loss: 3.2909 - acc: 0.9830 - val_loss: 4.2700 - val_acc: 0.7613\n",
      "Epoch 139/200\n",
      "50/50 [==============================] - 13s 259ms/step - loss: 3.2864 - acc: 0.9825 - val_loss: 4.2799 - val_acc: 0.7607\n",
      "Epoch 140/200\n",
      "50/50 [==============================] - 13s 259ms/step - loss: 3.2771 - acc: 0.9822 - val_loss: 4.3987 - val_acc: 0.7467\n",
      "Epoch 141/200\n",
      "50/50 [==============================] - 13s 256ms/step - loss: 3.2604 - acc: 0.9834 - val_loss: 4.3647 - val_acc: 0.7600\n",
      "Epoch 142/200\n",
      "50/50 [==============================] - 13s 254ms/step - loss: 3.2492 - acc: 0.9841 - val_loss: 4.3735 - val_acc: 0.7553\n",
      "Epoch 143/200\n",
      "50/50 [==============================] - 13s 258ms/step - loss: 3.2471 - acc: 0.9800 - val_loss: 4.2669 - val_acc: 0.7473\n",
      "Epoch 144/200\n",
      "50/50 [==============================] - 13s 259ms/step - loss: 3.2347 - acc: 0.9819 - val_loss: 4.2088 - val_acc: 0.7527\n",
      "Epoch 145/200\n",
      "50/50 [==============================] - 13s 260ms/step - loss: 3.2573 - acc: 0.9672 - val_loss: 4.1471 - val_acc: 0.7567\n",
      "Epoch 146/200\n",
      "50/50 [==============================] - 13s 256ms/step - loss: 3.2207 - acc: 0.9807 - val_loss: 4.2606 - val_acc: 0.7660\n",
      "Epoch 147/200\n",
      "50/50 [==============================] - 13s 256ms/step - loss: 3.2010 - acc: 0.9838 - val_loss: 4.1788 - val_acc: 0.7620\n",
      "Epoch 148/200\n",
      "50/50 [==============================] - 13s 255ms/step - loss: 3.1899 - acc: 0.9850 - val_loss: 4.2431 - val_acc: 0.7567\n",
      "Epoch 149/200\n",
      "50/50 [==============================] - 13s 257ms/step - loss: 3.1772 - acc: 0.9891 - val_loss: 4.3455 - val_acc: 0.7513\n",
      "Epoch 150/200\n",
      "50/50 [==============================] - 13s 261ms/step - loss: 3.1743 - acc: 0.9834 - val_loss: 4.2185 - val_acc: 0.7580\n",
      "Epoch 151/200\n",
      "50/50 [==============================] - 13s 252ms/step - loss: 3.1639 - acc: 0.9847 - val_loss: 4.2008 - val_acc: 0.7493\n",
      "Epoch 152/200\n",
      "50/50 [==============================] - 13s 254ms/step - loss: 3.1549 - acc: 0.9859 - val_loss: 4.3065 - val_acc: 0.7460\n",
      "Epoch 153/200\n",
      "50/50 [==============================] - 13s 255ms/step - loss: 3.1378 - acc: 0.9884 - val_loss: 4.2912 - val_acc: 0.7520\n",
      "Epoch 154/200\n",
      "50/50 [==============================] - 13s 253ms/step - loss: 3.1342 - acc: 0.9867 - val_loss: 4.2106 - val_acc: 0.7540\n",
      "Epoch 155/200\n",
      "50/50 [==============================] - 13s 252ms/step - loss: 3.1238 - acc: 0.9852 - val_loss: 4.3454 - val_acc: 0.7540\n",
      "Epoch 156/200\n",
      "50/50 [==============================] - 13s 255ms/step - loss: 3.1133 - acc: 0.9878 - val_loss: 4.2723 - val_acc: 0.7480\n",
      "Epoch 157/200\n",
      "50/50 [==============================] - 13s 256ms/step - loss: 3.0975 - acc: 0.9885 - val_loss: 4.1444 - val_acc: 0.7587\n",
      "Epoch 158/200\n",
      "50/50 [==============================] - 13s 254ms/step - loss: 3.0941 - acc: 0.9858 - val_loss: 4.1594 - val_acc: 0.7533\n",
      "Epoch 159/200\n",
      "50/50 [==============================] - 13s 257ms/step - loss: 3.0873 - acc: 0.9857 - val_loss: 4.1711 - val_acc: 0.7647\n",
      "Epoch 160/200\n",
      "50/50 [==============================] - 13s 261ms/step - loss: 3.0726 - acc: 0.9884 - val_loss: 4.2202 - val_acc: 0.7633\n",
      "Epoch 161/200\n",
      "50/50 [==============================] - 13s 254ms/step - loss: 3.0693 - acc: 0.9827 - val_loss: 4.1556 - val_acc: 0.7607\n",
      "Epoch 162/200\n",
      "50/50 [==============================] - 13s 256ms/step - loss: 3.0535 - acc: 0.9875 - val_loss: 4.2551 - val_acc: 0.7427\n",
      "Epoch 163/200\n",
      "50/50 [==============================] - 13s 254ms/step - loss: 3.0496 - acc: 0.9874 - val_loss: 4.1055 - val_acc: 0.7613\n",
      "Epoch 164/200\n",
      "50/50 [==============================] - 13s 254ms/step - loss: 3.0455 - acc: 0.9866 - val_loss: 4.1195 - val_acc: 0.7587\n",
      "Epoch 165/200\n",
      "50/50 [==============================] - 13s 254ms/step - loss: 3.0314 - acc: 0.9853 - val_loss: 4.1967 - val_acc: 0.7580\n",
      "Epoch 166/200\n",
      "50/50 [==============================] - 13s 254ms/step - loss: 3.0267 - acc: 0.9850 - val_loss: 4.1624 - val_acc: 0.7573\n",
      "Epoch 167/200\n",
      "50/50 [==============================] - 13s 254ms/step - loss: 3.0145 - acc: 0.9844 - val_loss: 4.2238 - val_acc: 0.7533\n",
      "Epoch 168/200\n",
      "50/50 [==============================] - 13s 255ms/step - loss: 3.0072 - acc: 0.9849 - val_loss: 4.1386 - val_acc: 0.7687\n",
      "Epoch 169/200\n",
      "50/50 [==============================] - 13s 254ms/step - loss: 2.9970 - acc: 0.9831 - val_loss: 4.1475 - val_acc: 0.7533\n",
      "Epoch 170/200\n",
      "50/50 [==============================] - 13s 256ms/step - loss: 2.9821 - acc: 0.9897 - val_loss: 4.1073 - val_acc: 0.7527\n",
      "Epoch 171/200\n",
      "50/50 [==============================] - 13s 253ms/step - loss: 2.9828 - acc: 0.9860 - val_loss: 4.0629 - val_acc: 0.7627\n",
      "Epoch 172/200\n",
      "50/50 [==============================] - 13s 257ms/step - loss: 2.9683 - acc: 0.9878 - val_loss: 4.1063 - val_acc: 0.7580\n",
      "Epoch 173/200\n",
      "50/50 [==============================] - 13s 254ms/step - loss: 2.9584 - acc: 0.9894 - val_loss: 4.1329 - val_acc: 0.7627\n",
      "Epoch 174/200\n",
      "50/50 [==============================] - 13s 255ms/step - loss: 2.9525 - acc: 0.9872 - val_loss: 4.2010 - val_acc: 0.7560\n",
      "Epoch 175/200\n",
      "50/50 [==============================] - 13s 253ms/step - loss: 2.9456 - acc: 0.9884 - val_loss: 4.0746 - val_acc: 0.7613\n",
      "Epoch 176/200\n",
      "50/50 [==============================] - 13s 262ms/step - loss: 2.9388 - acc: 0.9859 - val_loss: 3.9878 - val_acc: 0.7580\n",
      "Epoch 177/200\n",
      "50/50 [==============================] - 13s 258ms/step - loss: 2.9276 - acc: 0.9881 - val_loss: 4.0736 - val_acc: 0.7647\n",
      "Epoch 178/200\n",
      "50/50 [==============================] - 13s 260ms/step - loss: 2.9142 - acc: 0.9887 - val_loss: 4.1446 - val_acc: 0.7613\n",
      "Epoch 179/200\n",
      "50/50 [==============================] - 13s 262ms/step - loss: 2.9249 - acc: 0.9825 - val_loss: 3.9024 - val_acc: 0.7587\n",
      "Epoch 180/200\n",
      "50/50 [==============================] - 13s 257ms/step - loss: 2.9007 - acc: 0.9897 - val_loss: 4.1549 - val_acc: 0.7447\n",
      "Epoch 181/200\n",
      "50/50 [==============================] - 13s 259ms/step - loss: 2.8944 - acc: 0.9859 - val_loss: 4.1448 - val_acc: 0.7533\n",
      "Epoch 182/200\n",
      "50/50 [==============================] - 13s 259ms/step - loss: 2.8865 - acc: 0.9878 - val_loss: 4.0031 - val_acc: 0.7653\n",
      "Epoch 183/200\n",
      "50/50 [==============================] - 13s 262ms/step - loss: 2.8748 - acc: 0.9888 - val_loss: 3.9406 - val_acc: 0.7613\n",
      "Epoch 184/200\n",
      "50/50 [==============================] - 13s 259ms/step - loss: 2.8853 - acc: 0.9795 - val_loss: 4.1406 - val_acc: 0.7527\n",
      "Epoch 185/200\n",
      "50/50 [==============================] - 13s 261ms/step - loss: 2.8700 - acc: 0.9852 - val_loss: 3.9707 - val_acc: 0.7553\n",
      "Epoch 186/200\n",
      "50/50 [==============================] - 13s 258ms/step - loss: 2.8547 - acc: 0.9884 - val_loss: 4.0616 - val_acc: 0.7627\n",
      "Epoch 187/200\n",
      "50/50 [==============================] - 13s 260ms/step - loss: 2.8436 - acc: 0.9864 - val_loss: 4.0733 - val_acc: 0.7540\n",
      "Epoch 188/200\n",
      "50/50 [==============================] - 13s 257ms/step - loss: 2.8471 - acc: 0.9850 - val_loss: 3.9421 - val_acc: 0.7640\n",
      "Epoch 189/200\n",
      "50/50 [==============================] - 13s 259ms/step - loss: 2.8311 - acc: 0.9853 - val_loss: 3.9606 - val_acc: 0.7653\n",
      "Epoch 190/200\n",
      "50/50 [==============================] - 13s 258ms/step - loss: 2.8237 - acc: 0.9880 - val_loss: 3.9290 - val_acc: 0.7620\n",
      "Epoch 191/200\n",
      "50/50 [==============================] - 13s 255ms/step - loss: 2.8121 - acc: 0.9872 - val_loss: 4.0275 - val_acc: 0.7613\n",
      "Epoch 192/200\n",
      "50/50 [==============================] - 13s 259ms/step - loss: 2.8020 - acc: 0.9891 - val_loss: 3.8746 - val_acc: 0.7667\n",
      "Epoch 193/200\n",
      "50/50 [==============================] - 13s 256ms/step - loss: 2.8054 - acc: 0.9865 - val_loss: 3.9553 - val_acc: 0.7693\n",
      "Epoch 194/200\n",
      "50/50 [==============================] - 13s 256ms/step - loss: 2.8014 - acc: 0.9839 - val_loss: 3.8924 - val_acc: 0.7560\n",
      "Epoch 195/200\n",
      "50/50 [==============================] - 13s 260ms/step - loss: 2.7827 - acc: 0.9891 - val_loss: 3.9333 - val_acc: 0.7627\n",
      "Epoch 196/200\n",
      "50/50 [==============================] - 13s 257ms/step - loss: 2.7767 - acc: 0.9867 - val_loss: 3.9705 - val_acc: 0.7607\n",
      "Epoch 197/200\n",
      "50/50 [==============================] - 13s 261ms/step - loss: 2.7628 - acc: 0.9903 - val_loss: 3.9432 - val_acc: 0.7607\n",
      "Epoch 198/200\n",
      "50/50 [==============================] - 13s 259ms/step - loss: 2.7607 - acc: 0.9853 - val_loss: 3.8042 - val_acc: 0.7607\n",
      "Epoch 199/200\n",
      "50/50 [==============================] - 13s 257ms/step - loss: 2.7470 - acc: 0.9911 - val_loss: 3.8919 - val_acc: 0.7567\n",
      "Epoch 200/200\n",
      "50/50 [==============================] - 13s 259ms/step - loss: 2.7435 - acc: 0.9888 - val_loss: 3.9299 - val_acc: 0.7547\n"
     ]
    }
   ],
   "source": [
    "#convolutional layers\n",
    "conv_layer_1 = Conv2D(32,(3,3), activation='relu', input_shape = (224,224,3), kernel_regularizer=regularizers.l2(0.01))\n",
    "conv_layer_2 = Conv2D(32,(3,3), activation='relu', kernel_regularizer=regularizers.l2(0.01))\n",
    "conv_layer_3 = Conv2D(32,(3,3), activation='relu', kernel_regularizer=regularizers.l2(0.01))\n",
    "conv_layer_2_1 = Conv2D(64,(3,3), activation='relu', kernel_regularizer=regularizers.l2(0.01))\n",
    "conv_layer_2_2 = Conv2D(64,(3,3), activation='relu', kernel_regularizer=regularizers.l2(0.01))\n",
    "conv_layer_2_3 = Conv2D(64,(3,3), activation='relu', kernel_regularizer=regularizers.l2(0.01))\n",
    "conv_layer_3_1 = Conv2D(128,(3,3), activation='relu', kernel_regularizer=regularizers.l2(0.01))\n",
    "conv_layer_3_2 = Conv2D(128,(3,3), activation='relu', kernel_regularizer=regularizers.l2(0.01))\n",
    "conv_layer_3_3 = Conv2D(128,(3,3), activation='relu', kernel_regularizer=regularizers.l2(0.01))\n",
    "conv_layer_4_1 = Conv2D(512,(3,3), activation='relu', kernel_regularizer=regularizers.l2(0.01))\n",
    "conv_layer_4_2 = Conv2D(512,(3,3), activation='relu', kernel_regularizer=regularizers.l2(0.01))\n",
    "conv_layer_4_3 = Conv2D(512,(3,3), activation='relu', kernel_regularizer=regularizers.l2(0.01))\n",
    "\n",
    "#maxpooling layers\n",
    "maxpool_layer_1 = keras.layers.MaxPooling2D(pool_size=(3, 3), strides=2, padding='valid', data_format=None)\n",
    "maxpool_layer_2 = keras.layers.MaxPooling2D(pool_size=(3, 3), strides=2, padding='valid', data_format=None)\n",
    "maxpool_layer_3 = keras.layers.MaxPooling2D(pool_size=(3, 3), strides=2, padding='valid', data_format=None)\n",
    "maxpool_layer_4 = keras.layers.MaxPooling2D(pool_size=(3, 3), strides=2, padding='valid', data_format=None)\n",
    "\n",
    "#dropoutlayer\n",
    "dropout_layer_1 = keras.layers.Dropout(0.4, noise_shape=None, seed=None)\n",
    "dropout_layer_2 = keras.layers.Dropout(0.4, noise_shape=None, seed=None)\n",
    "dropout_layer_2_2 = keras.layers.Dropout(0.4, noise_shape=None, seed=None)\n",
    "dropout_layer_3 = keras.layers.Dropout(0.3, noise_shape=None, seed=None)\n",
    "dropout_layer_4 = keras.layers.Dropout(0.2, noise_shape=None, seed=None)\n",
    "#flattening layer\n",
    "flatening_layer = Flatten()\n",
    "\n",
    "#dense layers\n",
    "dense_layer_1 = Dense(70, activation='relu',kernel_regularizer=regularizers.l2(0.015))\n",
    "dense_layer_2 = Dense(70, activation='relu',kernel_regularizer=regularizers.l2(0.015))\n",
    "dense_layer_3 = Dense(2, activation='softmax',kernel_regularizer=regularizers.l2(0.015))\n",
    "\n",
    "#model architecture initialization\n",
    "model_layer_list = [conv_layer_1, conv_layer_2, conv_layer_3,\n",
    "                    maxpool_layer_1, \n",
    "                    conv_layer_2_1, conv_layer_2_2, conv_layer_2_3,\n",
    "                    maxpool_layer_2, \n",
    "                    conv_layer_3_1, conv_layer_3_2, conv_layer_3_3,\n",
    "                    maxpool_layer_3, \n",
    "                    flatening_layer,\n",
    "                    dense_layer_1,\n",
    "                    dropout_layer_3,\n",
    "                    dense_layer_2,\n",
    "                    dropout_layer_4,\n",
    "                    dense_layer_3]\n",
    "\n",
    "best_model = Sequential(model_layer_list)\n",
    "\n",
    "#model optimizer initialisation\n",
    "best_model.compile(Adam(lr=0.00001),loss='categorical_crossentropy',metrics=['accuracy'])\n",
    "\n",
    "#model architecture overview\n",
    "best_model.summary()\n",
    "tb = TensorBoard(log_dir='./logs/best_setting',\n",
    "                            histogram_freq=0,\n",
    "                            batch_size=32,\n",
    "                            write_graph=True,\n",
    "                            write_grads=True,\n",
    "                            write_images=True,\n",
    "                            embeddings_freq=0,\n",
    "                            embeddings_layer_names=None,\n",
    "                            embeddings_metadata=None,\n",
    "                            embeddings_data=None)\n",
    "best_history_graph = best_model.fit_generator(train_batches, steps_per_epoch = 50,\n",
    "                                            validation_data = validation_batches,\n",
    "                    validation_steps = 20, epochs=200, verbose=1, callbacks = [tb])\n",
    "\n",
    "# saving history data to file\n",
    "try:\n",
    "    history =best_history_graph.history\n",
    "except AttributeError:\n",
    "    print('History is already an dictionary')\n",
    "    \n",
    "path = r\"C:\\Users\\sandr\\Documents\\Skola\\Deep Neural Networks\\Deep-Neural-Network\\Home Assignments\\HA1\\Training history\\Best\"\n",
    "            \n",
    "list_files = next(os.walk(path))[2] \n",
    "name = '\\History_graph_best ' +  str(len(list_files)+1)\n",
    "with open(path + name + '.pkl', 'wb') as f:\n",
    "        pickle.dump(history, f)\n",
    "f.close()\n",
    "\n",
    "#saving models to file\n",
    "model_path = r'C:\\Users\\sandr\\Documents\\Skola\\Deep Neural Networks\\Deep-Neural-Network\\Home Assignments\\HA1\\models\\Best' \n",
    "list_files = next(os.walk(model_path))[2] \n",
    "model_name = '\\Keras model best CNN ' +  str(len(list_files)+1)\n",
    "best_model.save(model_path + model_name)"
   ]
  },
  {
   "cell_type": "markdown",
   "metadata": {},
   "source": [
    "Create one figure with two axes. In one of them, plot the loss in the training and the validation datasets. In the other one, plot the accuracy in the training and validation datasets."
   ]
  },
  {
   "cell_type": "code",
   "execution_count": 5,
   "metadata": {},
   "outputs": [
    {
     "data": {
      "image/png": "[encoded data removed]",
      "text/plain": [
       "<matplotlib.figure.Figure at 0x23ef4de62b0>"
      ]
     },
     "metadata": {
      "needs_background": "light"
     },
     "output_type": "display_data"
    }
   ],
   "source": [
    "path = r'C:\\Users\\sandr\\Documents\\Skola\\Deep Neural Networks\\Deep-Neural-Network\\Home Assignments\\HA1\\Training history\\Best'\n",
    "list_files = os.listdir(path)\n",
    "name = '\\\\History_graph_best ' +  str(len(list_files))   \n",
    "with open(path + name + '.pkl', 'rb') as f:\n",
    "        history_graph = pickle.load(f)\n",
    "f.close()\n",
    "x = np.linspace(0,len(history_graph['loss']),len(history_graph['loss']))\n",
    "\n",
    "plt.subplot(2,1,1)\n",
    "plt.plot(x, history_graph['loss'])\n",
    "plt.plot(x, history_graph['val_loss'])\n",
    "plt.legend(['Training loss','Validation loss'])\n",
    "\n",
    "plt.subplot(2,1,2)\n",
    "plt.plot(x, history_graph['acc'])\n",
    "plt.plot(x, history_graph['val_acc'])\n",
    "plt.legend(['Training Accurasy','Validation Accurasy'])\n",
    "\n",
    "plt.show()"
   ]
  },
  {
   "cell_type": "markdown",
   "metadata": {},
   "source": [
    "[Save your model](https://keras.io/getting-started/faq/#how-can-i-save-a-keras-model) to disk as a HDF5 file (the architecture, weights and optimizer state). This is simply so you can use it again easily in the later parts of the notebook, without having to keep it in memory or re-training it. The actual `.h5` files you create are not relevant to your ping-pong submission."
   ]
  },
  {
   "cell_type": "code",
   "execution_count": null,
   "metadata": {},
   "outputs": [],
   "source": [
    "#saving models to file\n",
    "model_path = r'C:\\Users\\sandr\\Documents\\Skola\\Deep Neural Networks\\Deep-Neural-Network\\Home Assignments\\HA1\\models\\Best' \n",
    "list_files = next(os.walk(model_path))[2] \n",
    "model_name = '\\Keras model best CNN ' +  str(len(list_files)+1)\n",
    "best_model.save(model_path + model_name)"
   ]
  },
  {
   "cell_type": "markdown",
   "metadata": {},
   "source": [
    "---\n",
    "## 5. Transfer Learning"
   ]
  },
  {
   "cell_type": "markdown",
   "metadata": {},
   "source": [
    "Now, instead of trying to come up with a good architecture for this task, we'll use the VGG16 architecture, but with the top layers removed (the fully connected + classification layers). We'll substitute them with a single fully connected layer, and a classification layer that makes sense for our problem.\n",
    "\n",
    "However, this model has a very high capacity, and will probably suffer a lot from overfitting if we try to train it from scratch, using only our small subset of data. Instead, we'll start the optimization with the weights obtained after training VGG16 on the ImageNet dataset.\n",
    "\n",
    "Start by loading the VGG16 model without the top layers, from the `applications` submodule from Keras. Make sure to also load the weights obtained from the ImageNet pretraining."
   ]
  },
  {
   "cell_type": "code",
   "execution_count": 7,
   "metadata": {},
   "outputs": [],
   "source": [
    "vgg16_model = keras.applications.vgg16.VGG16(include_top=False, weights='imagenet',input_shape =(224,224,3))"
   ]
  },
  {
   "cell_type": "markdown",
   "metadata": {},
   "source": [
    "Create a new model with the layers you want to add on top of VGG. The kernels and bias in these layers should be initialized randomly."
   ]
  },
  {
   "cell_type": "code",
   "execution_count": 8,
   "metadata": {},
   "outputs": [],
   "source": [
    "#creating the top layer\n",
    "layer1 = Dense(100, activation='relu',kernel_regularizer=regularizers.l2(0.01))\n",
    "layer2 = Dense(2, activation='softmax',kernel_regularizer=regularizers.l2(0.001))\n",
    "top_model = Sequential([layer1,layer2])"
   ]
  },
  {
   "cell_type": "markdown",
   "metadata": {},
   "source": [
    "Now add the new model on top of VGG.\n",
    "\n",
    "Tip:\n",
    "- The VGG model you loaded from the `applications` submodule is from the [`Model`](https://keras.io/models/model/) class, not the `Sequential` class, so it doesn't have some methods you're used to (like `add`, for instance). It might be helpful to read [this introduction to the Model class](https://keras.io/getting-started/functional-api-guide/)."
   ]
  },
  {
   "cell_type": "code",
   "execution_count": 9,
   "metadata": {},
   "outputs": [],
   "source": [
    "# converting vgg16_model to sequential model model_vgg16\n",
    "model_vgg16 = Sequential()\n",
    "for i in vgg16_model.layers:\n",
    "    model_vgg16.add(i)\n",
    "model_vgg16.add(Flatten())\n",
    "for i in top_model.layers:\n",
    "    model_vgg16.add(i)"
   ]
  },
  {
   "cell_type": "markdown",
   "metadata": {},
   "source": [
    "### 5.1 Using VGG features"
   ]
  },
  {
   "cell_type": "markdown",
   "metadata": {},
   "source": [
    "Now we're almost ready to train the new model. However, since the top layers of this architecture are being initialized randomly, it's sometimes possible for them to generate large gradients that can wreck the pretraining of the bottom layers. To avoid this, freeze all the VGG layers in your architecture (i.e. signal to the optimizer that these should not be changed during optimization) by setting the `trainable` attribute of them to `False`."
   ]
  },
  {
   "cell_type": "code",
   "execution_count": 10,
   "metadata": {},
   "outputs": [],
   "source": [
    "for i in model_vgg16.layers:\n",
    "    i.trainable = False\n",
    "model_vgg16.layers[-1].trainable = True\n",
    "model_vgg16.layers[-2].trainable = True"
   ]
  },
  {
   "cell_type": "markdown",
   "metadata": {},
   "source": [
    "Create the callbacks (if any) you would like to use for this training here."
   ]
  },
  {
   "cell_type": "code",
   "execution_count": null,
   "metadata": {},
   "outputs": [],
   "source": [
    "tb = TensorBoard(log_dir='./logs/transfer_vgg16',\n",
    "                            histogram_freq=0,\n",
    "                            batch_size=32,\n",
    "                            write_graph=True,\n",
    "                            write_grads=True,\n",
    "                            write_images=True,\n",
    "                            embeddings_freq=0,\n",
    "                            embeddings_layer_names=None,\n",
    "                            embeddings_metadata=None,\n",
    "                            embeddings_data=None)\n",
    "es = EarlyStopping(monitor='val_loss',\n",
    "                   min_delta=0.02,\n",
    "                   patience=5,\n",
    "                   verbose=0,\n",
    "                   mode='auto',\n",
    "                   baseline=None,\n",
    "                   restore_best_weights=True)"
   ]
  },
  {
   "cell_type": "markdown",
   "metadata": {},
   "source": [
    "Compile the model and train it."
   ]
  },
  {
   "cell_type": "code",
   "execution_count": 52,
   "metadata": {},
   "outputs": [
    {
     "name": "stdout",
     "output_type": "stream",
     "text": [
      "Epoch 1/100\n",
      " - 14s - loss: 7.3055 - acc: 0.5318 - val_loss: 6.2345 - val_acc: 0.5820\n",
      "Epoch 2/100\n",
      " - 13s - loss: 5.2058 - acc: 0.6500 - val_loss: 4.9535 - val_acc: 0.6967\n",
      "Epoch 3/100\n",
      " - 13s - loss: 4.1762 - acc: 0.7507 - val_loss: 4.2922 - val_acc: 0.7453\n",
      "Epoch 4/100\n",
      " - 13s - loss: 3.6397 - acc: 0.8065 - val_loss: 3.8971 - val_acc: 0.7860\n",
      "Epoch 5/100\n",
      " - 13s - loss: 3.2677 - acc: 0.8439 - val_loss: 3.6597 - val_acc: 0.8080\n",
      "Epoch 6/100\n",
      " - 13s - loss: 3.1093 - acc: 0.8622 - val_loss: 3.4843 - val_acc: 0.8313\n",
      "Epoch 7/100\n",
      " - 13s - loss: 2.8936 - acc: 0.8862 - val_loss: 3.3760 - val_acc: 0.8367\n",
      "Epoch 8/100\n",
      " - 13s - loss: 2.7785 - acc: 0.8986 - val_loss: 3.2788 - val_acc: 0.8447\n",
      "Epoch 9/100\n",
      " - 13s - loss: 2.6750 - acc: 0.9138 - val_loss: 3.2062 - val_acc: 0.8540\n",
      "Epoch 10/100\n",
      " - 13s - loss: 2.5401 - acc: 0.9296 - val_loss: 3.1636 - val_acc: 0.8613\n",
      "Epoch 11/100\n",
      " - 13s - loss: 2.5467 - acc: 0.9349 - val_loss: 3.1219 - val_acc: 0.8667\n",
      "Epoch 12/100\n",
      " - 13s - loss: 2.4744 - acc: 0.9420 - val_loss: 3.0904 - val_acc: 0.8700\n",
      "Epoch 13/100\n",
      " - 13s - loss: 2.4166 - acc: 0.9498 - val_loss: 3.0628 - val_acc: 0.8700\n",
      "Epoch 14/100\n",
      " - 13s - loss: 2.3984 - acc: 0.9543 - val_loss: 3.0443 - val_acc: 0.8733\n",
      "Epoch 15/100\n",
      " - 13s - loss: 2.3512 - acc: 0.9585 - val_loss: 3.0235 - val_acc: 0.8747\n",
      "Epoch 16/100\n",
      " - 13s - loss: 2.3445 - acc: 0.9650 - val_loss: 3.0076 - val_acc: 0.8767\n",
      "Epoch 17/100\n",
      " - 13s - loss: 2.3179 - acc: 0.9679 - val_loss: 2.9937 - val_acc: 0.8773\n",
      "Epoch 18/100\n",
      " - 13s - loss: 2.3153 - acc: 0.9714 - val_loss: 2.9810 - val_acc: 0.8780\n",
      "Epoch 19/100\n",
      " - 13s - loss: 2.2715 - acc: 0.9734 - val_loss: 2.9671 - val_acc: 0.8787\n",
      "Epoch 20/100\n",
      " - 13s - loss: 2.2345 - acc: 0.9791 - val_loss: 2.9564 - val_acc: 0.8787\n",
      "Epoch 21/100\n",
      " - 13s - loss: 2.2771 - acc: 0.9784 - val_loss: 2.9461 - val_acc: 0.8800\n",
      "Epoch 22/100\n",
      " - 13s - loss: 2.2659 - acc: 0.9773 - val_loss: 2.9376 - val_acc: 0.8813\n",
      "Epoch 23/100\n",
      " - 13s - loss: 2.2504 - acc: 0.9794 - val_loss: 2.9312 - val_acc: 0.8827\n",
      "Epoch 24/100\n",
      " - 13s - loss: 2.2498 - acc: 0.9801 - val_loss: 2.9244 - val_acc: 0.8833\n",
      "Epoch 25/100\n",
      " - 13s - loss: 2.1948 - acc: 0.9842 - val_loss: 2.9176 - val_acc: 0.8840\n",
      "Epoch 26/100\n",
      " - 13s - loss: 2.2417 - acc: 0.9822 - val_loss: 2.9133 - val_acc: 0.8853\n",
      "Epoch 27/100\n",
      " - 13s - loss: 2.2178 - acc: 0.9842 - val_loss: 2.9069 - val_acc: 0.8860\n",
      "Epoch 28/100\n",
      " - 13s - loss: 2.2206 - acc: 0.9839 - val_loss: 2.9051 - val_acc: 0.8867\n",
      "Epoch 29/100\n",
      " - 13s - loss: 2.1974 - acc: 0.9854 - val_loss: 2.8970 - val_acc: 0.8860\n",
      "Epoch 30/100\n",
      " - 13s - loss: 2.1675 - acc: 0.9866 - val_loss: 2.8942 - val_acc: 0.8880\n",
      "Epoch 31/100\n",
      " - 13s - loss: 2.2091 - acc: 0.9840 - val_loss: 2.8896 - val_acc: 0.8893\n",
      "Epoch 32/100\n",
      " - 13s - loss: 2.2092 - acc: 0.9843 - val_loss: 2.8828 - val_acc: 0.8887\n",
      "Epoch 33/100\n",
      " - 13s - loss: 2.1791 - acc: 0.9863 - val_loss: 2.8784 - val_acc: 0.8887\n",
      "Epoch 34/100\n",
      " - 13s - loss: 2.1765 - acc: 0.9866 - val_loss: 2.8745 - val_acc: 0.8900\n",
      "Epoch 35/100\n",
      " - 13s - loss: 2.1695 - acc: 0.9871 - val_loss: 2.8700 - val_acc: 0.8893\n",
      "Epoch 36/100\n",
      " - 13s - loss: 2.1770 - acc: 0.9866 - val_loss: 2.8661 - val_acc: 0.8900\n",
      "Epoch 37/100\n",
      " - 13s - loss: 2.1796 - acc: 0.9863 - val_loss: 2.8621 - val_acc: 0.8900\n",
      "Epoch 38/100\n",
      " - 13s - loss: 2.1773 - acc: 0.9863 - val_loss: 2.8580 - val_acc: 0.8900\n",
      "Epoch 39/100\n",
      " - 13s - loss: 2.1611 - acc: 0.9871 - val_loss: 2.8537 - val_acc: 0.8907\n",
      "Epoch 40/100\n",
      " - 13s - loss: 2.1823 - acc: 0.9857 - val_loss: 2.8493 - val_acc: 0.8907\n",
      "Epoch 41/100\n",
      " - 13s - loss: 2.1658 - acc: 0.9866 - val_loss: 2.8453 - val_acc: 0.8907\n",
      "Epoch 42/100\n",
      " - 13s - loss: 2.1304 - acc: 0.9886 - val_loss: 2.8409 - val_acc: 0.8900\n",
      "Epoch 43/100\n",
      " - 13s - loss: 2.1750 - acc: 0.9857 - val_loss: 2.8365 - val_acc: 0.8913\n",
      "Epoch 44/100\n",
      " - 13s - loss: 2.1488 - acc: 0.9871 - val_loss: 2.8321 - val_acc: 0.8907\n",
      "Epoch 45/100\n",
      " - 13s - loss: 2.1415 - acc: 0.9874 - val_loss: 2.8274 - val_acc: 0.8907\n",
      "Epoch 46/100\n",
      " - 13s - loss: 2.1763 - acc: 0.9851 - val_loss: 2.8223 - val_acc: 0.8913\n",
      "Epoch 47/100\n",
      " - 13s - loss: 2.1764 - acc: 0.9849 - val_loss: 2.8178 - val_acc: 0.8907\n",
      "Epoch 48/100\n",
      " - 13s - loss: 2.1263 - acc: 0.9878 - val_loss: 2.8129 - val_acc: 0.8913\n",
      "Epoch 49/100\n",
      " - 13s - loss: 2.1578 - acc: 0.9857 - val_loss: 2.8077 - val_acc: 0.8913\n",
      "Epoch 50/100\n",
      " - 13s - loss: 2.1167 - acc: 0.9880 - val_loss: 2.8029 - val_acc: 0.8907\n",
      "Epoch 51/100\n",
      " - 13s - loss: 2.1369 - acc: 0.9866 - val_loss: 2.7972 - val_acc: 0.8920\n",
      "Epoch 52/100\n",
      " - 13s - loss: 2.1615 - acc: 0.9848 - val_loss: 2.7919 - val_acc: 0.8913\n",
      "Epoch 53/100\n",
      " - 13s - loss: 2.0825 - acc: 0.9895 - val_loss: 2.7863 - val_acc: 0.8920\n",
      "Epoch 54/100\n",
      " - 13s - loss: 2.1352 - acc: 0.9860 - val_loss: 2.7804 - val_acc: 0.8920\n",
      "Epoch 55/100\n",
      " - 13s - loss: 2.1312 - acc: 0.9860 - val_loss: 2.7746 - val_acc: 0.8927\n",
      "Epoch 56/100\n",
      " - 13s - loss: 2.1318 - acc: 0.9857 - val_loss: 2.7687 - val_acc: 0.8927\n",
      "Epoch 57/100\n",
      " - 13s - loss: 2.1369 - acc: 0.9851 - val_loss: 2.7626 - val_acc: 0.8927\n",
      "Epoch 58/100\n",
      " - 13s - loss: 2.0759 - acc: 0.9886 - val_loss: 2.7563 - val_acc: 0.8927\n",
      "Epoch 59/100\n",
      " - 13s - loss: 2.0807 - acc: 0.9880 - val_loss: 2.7495 - val_acc: 0.8933\n",
      "Epoch 60/100\n",
      " - 13s - loss: 2.1135 - acc: 0.9857 - val_loss: 2.7430 - val_acc: 0.8940\n",
      "Epoch 61/100\n",
      " - 13s - loss: 2.1086 - acc: 0.9857 - val_loss: 2.7361 - val_acc: 0.8947\n",
      "Epoch 62/100\n",
      " - 13s - loss: 2.0705 - acc: 0.9877 - val_loss: 2.7288 - val_acc: 0.8967\n",
      "Epoch 63/100\n",
      " - 13s - loss: 2.1074 - acc: 0.9851 - val_loss: 2.7216 - val_acc: 0.8967\n",
      "Epoch 64/100\n",
      " - 13s - loss: 2.0360 - acc: 0.9892 - val_loss: 2.7139 - val_acc: 0.8973\n",
      "Epoch 65/100\n",
      " - 13s - loss: 2.1102 - acc: 0.9842 - val_loss: 2.7060 - val_acc: 0.8973\n",
      "Epoch 66/100\n",
      " - 13s - loss: 2.0572 - acc: 0.9871 - val_loss: 2.6982 - val_acc: 0.8973\n",
      "Epoch 67/100\n",
      " - 13s - loss: 2.0698 - acc: 0.9860 - val_loss: 2.6900 - val_acc: 0.8973\n",
      "Epoch 68/100\n",
      " - 13s - loss: 2.0209 - acc: 0.9886 - val_loss: 2.6970 - val_acc: 0.8933\n",
      "Epoch 69/100\n",
      " - 13s - loss: 2.0547 - acc: 0.9849 - val_loss: 2.6537 - val_acc: 0.8960\n",
      "Epoch 70/100\n",
      " - 13s - loss: 2.0136 - acc: 0.9877 - val_loss: 2.6405 - val_acc: 0.9000\n",
      "Epoch 71/100\n",
      " - 13s - loss: 1.9718 - acc: 0.9898 - val_loss: 2.6389 - val_acc: 0.8980\n",
      "Epoch 72/100\n",
      " - 13s - loss: 1.9833 - acc: 0.9895 - val_loss: 2.6220 - val_acc: 0.9000\n",
      "Epoch 73/100\n",
      " - 13s - loss: 1.9818 - acc: 0.9892 - val_loss: 2.6108 - val_acc: 0.9000\n",
      "Epoch 74/100\n",
      " - 13s - loss: 1.9754 - acc: 0.9892 - val_loss: 2.6021 - val_acc: 0.9007\n",
      "Epoch 75/100\n",
      " - 13s - loss: 1.9594 - acc: 0.9898 - val_loss: 2.5937 - val_acc: 0.9007\n",
      "Epoch 76/100\n",
      " - 13s - loss: 1.9620 - acc: 0.9892 - val_loss: 2.5850 - val_acc: 0.9007\n",
      "Epoch 77/100\n",
      " - 13s - loss: 1.9362 - acc: 0.9904 - val_loss: 2.5760 - val_acc: 0.9013\n",
      "Epoch 78/100\n",
      " - 13s - loss: 1.9336 - acc: 0.9901 - val_loss: 2.5670 - val_acc: 0.9020\n",
      "Epoch 79/100\n",
      " - 13s - loss: 1.9638 - acc: 0.9877 - val_loss: 2.5582 - val_acc: 0.9020\n",
      "Epoch 80/100\n",
      " - 13s - loss: 1.9184 - acc: 0.9901 - val_loss: 2.5486 - val_acc: 0.9020\n",
      "Epoch 81/100\n",
      " - 13s - loss: 1.9058 - acc: 0.9904 - val_loss: 2.5390 - val_acc: 0.9027\n",
      "Epoch 82/100\n",
      " - 13s - loss: 1.9117 - acc: 0.9895 - val_loss: 2.5290 - val_acc: 0.9027\n",
      "Epoch 83/100\n",
      " - 13s - loss: 1.9221 - acc: 0.9883 - val_loss: 2.5190 - val_acc: 0.9027\n",
      "Epoch 84/100\n",
      " - 13s - loss: 1.8804 - acc: 0.9904 - val_loss: 2.5087 - val_acc: 0.9033\n",
      "Epoch 85/100\n",
      " - 13s - loss: 1.8573 - acc: 0.9912 - val_loss: 2.4982 - val_acc: 0.9027\n",
      "Epoch 86/100\n",
      " - 13s - loss: 1.9281 - acc: 0.9863 - val_loss: 2.4868 - val_acc: 0.9027\n",
      "Epoch 87/100\n",
      " - 13s - loss: 1.8480 - acc: 0.9907 - val_loss: 2.4760 - val_acc: 0.9033\n",
      "Epoch 88/100\n",
      " - 13s - loss: 1.8571 - acc: 0.9895 - val_loss: 2.4641 - val_acc: 0.9033\n",
      "Epoch 89/100\n",
      " - 13s - loss: 1.8753 - acc: 0.9877 - val_loss: 2.4528 - val_acc: 0.9033\n",
      "Epoch 90/100\n",
      " - 13s - loss: 1.8086 - acc: 0.9912 - val_loss: 2.4403 - val_acc: 0.9033\n",
      "Epoch 91/100\n",
      " - 13s - loss: 1.8444 - acc: 0.9883 - val_loss: 2.4214 - val_acc: 0.9040\n",
      "Epoch 92/100\n",
      " - 13s - loss: 1.7771 - acc: 0.9915 - val_loss: 2.3882 - val_acc: 0.9100\n",
      "Epoch 93/100\n",
      " - 13s - loss: 1.7858 - acc: 0.9909 - val_loss: 2.3691 - val_acc: 0.9100\n",
      "Epoch 94/100\n",
      " - 13s - loss: 1.7398 - acc: 0.9933 - val_loss: 2.3580 - val_acc: 0.9120\n",
      "Epoch 95/100\n",
      " - 13s - loss: 1.7689 - acc: 0.9909 - val_loss: 2.3480 - val_acc: 0.9120\n",
      "Epoch 96/100\n",
      " - 13s - loss: 1.7696 - acc: 0.9904 - val_loss: 2.3376 - val_acc: 0.9120\n"
     ]
    },
    {
     "name": "stdout",
     "output_type": "stream",
     "text": [
      "Epoch 97/100\n",
      " - 13s - loss: 1.6947 - acc: 0.9945 - val_loss: 2.3277 - val_acc: 0.9113\n",
      "Epoch 98/100\n",
      " - 13s - loss: 1.7702 - acc: 0.9892 - val_loss: 2.3172 - val_acc: 0.9113\n",
      "Epoch 99/100\n",
      " - 13s - loss: 1.6808 - acc: 0.9942 - val_loss: 2.3064 - val_acc: 0.9100\n",
      "Epoch 100/100\n",
      " - 13s - loss: 1.7230 - acc: 0.9909 - val_loss: 2.2955 - val_acc: 0.9093\n"
     ]
    }
   ],
   "source": [
    "# compiling model\n",
    "model_vgg16.compile(Adam(lr=0.000001),loss='categorical_crossentropy',metrics=['accuracy'])\n",
    "\n",
    "# training model\n",
    "transfer_vgg16_history_graph = model_vgg16.fit_generator(train_batches, steps_per_epoch = 107,\n",
    "                    validation_data = validation_batches,\n",
    "                    validation_steps = 50, epochs=100, verbose=2)\n",
    "\n",
    "# saving history data to file\n",
    "try:\n",
    "    history =transfer_vgg16_history_graph.history\n",
    "except AttributeError:\n",
    "    print('History is already an dictionary')\n",
    "    \n",
    "path = r\"C:\\Users\\sandr\\Documents\\Skola\\Deep Neural Networks\\Deep-Neural-Network\\Home Assignments\\HA1\\Training history\\Transfer VGG16\"\n",
    "            \n",
    "list_files = next(os.walk(path))[2] \n",
    "name = '\\History_graph_transfer_vgg16 ' +  str(len(list_files)+1)\n",
    "with open(path + name + '.pkl', 'wb') as f:\n",
    "        pickle.dump(history, f)\n",
    "f.close()\n",
    "\n",
    "#saving models to file\n",
    "model_path = r'C:\\Users\\sandr\\Documents\\Skola\\Deep Neural Networks\\Deep-Neural-Network\\Home Assignments\\HA1\\models\\Transfer VGG16' \n",
    "list_files = next(os.walk(model_path))[2] \n",
    "model_name = '\\Keras model transfer vgg16 CNN ' +  str(len(list_files)+1)\n",
    "best_model.save(model_path + model_name)"
   ]
  },
  {
   "cell_type": "markdown",
   "metadata": {},
   "source": [
    "Create one figure with two axes. In one of them, plot the loss in the training and the validation datasets. In the other one, plot the accuracy in the training and validation datasets."
   ]
  },
  {
   "cell_type": "code",
   "execution_count": 14,
   "metadata": {},
   "outputs": [
    {
     "data": {
      "image/png": "[encoded data removed]",
      "text/plain": [
       "<matplotlib.figure.Figure at 0x23ef4de6ac8>"
      ]
     },
     "metadata": {
      "needs_background": "light"
     },
     "output_type": "display_data"
    }
   ],
   "source": [
    "path = r'C:\\Users\\sandr\\Documents\\Skola\\Deep Neural Networks\\Deep-Neural-Network\\Home Assignments\\HA1\\Training history\\Transfer VGG16'\n",
    "list_files = os.listdir(path)\n",
    "name = '\\\\History_graph_transfer_vgg16 ' +  str(len(list_files))   \n",
    "with open(path + name + '.pkl', 'rb') as f:\n",
    "        history_graph = pickle.load(f)\n",
    "f.close()\n",
    "x = np.linspace(0,len(history_graph['loss']),len(history_graph['loss']))\n",
    "\n",
    "plt.subplot(2,1,1)\n",
    "plt.plot(x, history_graph['loss'])\n",
    "plt.plot(x, history_graph['val_loss'])\n",
    "plt.legend(['Training loss','Validation loss'])\n",
    "\n",
    "plt.subplot(2,1,2)\n",
    "plt.plot(x, history_graph['acc'])\n",
    "plt.plot(x, history_graph['val_acc'])\n",
    "plt.legend(['Training Accurasy','Validation Accurasy'])\n",
    "\n",
    "plt.show()"
   ]
  },
  {
   "cell_type": "markdown",
   "metadata": {},
   "source": [
    "Plot the accuracy in the test and validation set, using the model obtained in step 4 and the one using transfer learning."
   ]
  },
  {
   "cell_type": "code",
   "execution_count": 7,
   "metadata": {},
   "outputs": [
    {
     "data": {
      "image/png": "[encoded data removed]",
      "text/plain": [
       "<matplotlib.figure.Figure at 0x2010c74f048>"
      ]
     },
     "metadata": {
      "needs_background": "light"
     },
     "output_type": "display_data"
    }
   ],
   "source": [
    "path_transfer = r'C:\\Users\\sandr\\Documents\\Skola\\Deep Neural Networks\\Deep-Neural-Network\\Home Assignments\\HA1\\Training history\\Transfer VGG16'\n",
    "list_files_transfer = os.listdir(path_transfer)\n",
    "name_transfer = '\\\\History_graph_transfer_vgg16 ' +  str(len(list_files_transfer))   \n",
    "\n",
    "path_best = r'C:\\Users\\sandr\\Documents\\Skola\\Deep Neural Networks\\Deep-Neural-Network\\Home Assignments\\HA1\\Training history\\Best'\n",
    "list_files_best = os.listdir(path_best)\n",
    "name_best = '\\\\History_graph_best ' +  '11'  \n",
    "\n",
    "with open(path_transfer + name_transfer + '.pkl', 'rb') as f:\n",
    "        history_graph_transfer = pickle.load(f)\n",
    "f.close()\n",
    "with open(path_best + name_best + '.pkl', 'rb') as f:\n",
    "        history_graph_best = pickle.load(f)\n",
    "f.close()\n",
    "\n",
    "x_transfer = np.linspace(0,len(history_graph_transfer['loss']),len(history_graph_transfer['loss']))\n",
    "x_best = np.linspace(0,len(history_graph_best['loss']),len(history_graph_best['loss']))\n",
    "\n",
    "plt.plot(x_transfer, history_graph_transfer['val_acc'])\n",
    "plt.plot(x_best, history_graph_best['val_acc'])\n",
    "plt.legend(['Transfer learning val Accurasy','Our best models val Accurasy'])\n",
    "\n",
    "plt.show()"
   ]
  },
  {
   "cell_type": "markdown",
   "metadata": {},
   "source": [
    "Compare these results. Which approach worked best, starting from scratch or doing transfer learning? Explain how you evaluated this.\n",
    "\n",
    "**Your answer**: (Transfer learning does obviously work much better then starting from scratch. Not only does the model using transferlearning train mutch faster, as sean in the plot, but creating the model does go much faster as well. The best model that we got whent through several iterations of architectural changes to get the final result of about 86% val_acc. However in the first try with the model using transferlearning we got 92% val_acc)"
   ]
  },
  {
   "cell_type": "markdown",
   "metadata": {},
   "source": [
    "What are the main differences between the ImageNet dataset and the Dogs vs Cats dataset we used?\n",
    "\n",
    "**Your answer**: (ImageNet is a much larger data set then Dogs vs Cats. In the ImageNet data set there is 1000 classes and the Dogs vs Cats dataset is only two classe. Thus one could say that the Dogs vs Cats is a subset of ImageNet, although ImageNet might not be comprised of the same pictures of cats and dogs. ImageNet is also devided in to different breeds of cats an dogs. Thus creating subclases in the dogs class and cat class)"
   ]
  },
  {
   "cell_type": "markdown",
   "metadata": {},
   "source": [
    "Even though there are considerable differences between these datasets, why is it that transfer learning is still a good idea?\n",
    "\n",
    "**Your answer**: (In this case we can assume that VGG16 have learnd the spesific features of cats and dogs in its convolutional layer. So even though several other features are learnd for other classes ve can still use those that we want for our classificatioen of cats and dogs.)"
   ]
  },
  {
   "cell_type": "markdown",
   "metadata": {},
   "source": [
    "In which scenario would transfer learning be unsuitable?\n",
    "\n",
    "**Your answer**: (fill in here)"
   ]
  },
  {
   "cell_type": "markdown",
   "metadata": {},
   "source": [
    "Save the model to a HDF5 file."
   ]
  },
  {
   "cell_type": "code",
   "execution_count": null,
   "metadata": {},
   "outputs": [],
   "source": [
    "#saving models to file\n",
    "model_path = r'C:\\Users\\sandr\\Documents\\Skola\\Deep Neural Networks\\Deep-Neural-Network\\Home Assignments\\HA1\\models\\Transfer VGG16' \n",
    "list_files = next(os.walk(model_path))[2] \n",
    "model_name = '\\Keras model transfer vgg16 CNN ' +  str(len(list_files)+1)\n",
    "best_model.save(model_path + model_name)"
   ]
  },
  {
   "cell_type": "markdown",
   "metadata": {},
   "source": [
    "### 5.2 Fine-tuning"
   ]
  },
  {
   "cell_type": "markdown",
   "metadata": {},
   "source": [
    "Now that we have a better starting point for the top layers, we can train the entire network. Unfreeze the bottom layers.\n",
    "\n",
    "Tip:\n",
    "- Always recompile your model after changing anything in it!"
   ]
  },
  {
   "cell_type": "code",
   "execution_count": null,
   "metadata": {},
   "outputs": [],
   "source": [
    "for i in model_vgg16.layers:\n",
    "    i.trainable = true\n",
    "\n",
    "model_vgg16.compile(Adam(lr=0.000001),loss='categorical_crossentropy',metrics=['accuracy'])"
   ]
  },
  {
   "cell_type": "markdown",
   "metadata": {},
   "source": [
    "Create the callbacks (if any) you would like to use for this training here."
   ]
  },
  {
   "cell_type": "code",
   "execution_count": null,
   "metadata": {},
   "outputs": [],
   "source": [
    "tb = TensorBoard(log_dir='./logs/transfer_vgg16',\n",
    "                            histogram_freq=0,\n",
    "                            batch_size=32,\n",
    "                            write_graph=True,\n",
    "                            write_grads=True,\n",
    "                            write_images=True,\n",
    "                            embeddings_freq=0,\n",
    "                            embeddings_layer_names=None,\n",
    "                            embeddings_metadata=None,\n",
    "                            embeddings_data=None)\n",
    "es = EarlyStopping(monitor='val_loss',\n",
    "                   min_delta=0.02,\n",
    "                   patience=5,\n",
    "                   verbose=0,\n",
    "                   mode='auto',\n",
    "                   baseline=None,\n",
    "                   restore_best_weights=True)"
   ]
  },
  {
   "cell_type": "markdown",
   "metadata": {},
   "source": [
    "Compile and train the model.\n",
    "\n",
    "Tip:\n",
    "- Even though we not have a decent starting point for the optimization, it's still possible that a bad hyper-parameter choice wrecks the preinitialization. Make sure to use a small learning rate for this step."
   ]
  },
  {
   "cell_type": "code",
   "execution_count": null,
   "metadata": {},
   "outputs": [],
   "source": [
    "transfer_vgg16_history_graph = model_vgg16.fit_generator(train_batches, steps_per_epoch = 107,\n",
    "                    validation_data = validation_batches,\n",
    "                    validation_steps = 50, epochs=100, verbose=2, callbacks=[tb, es])\n",
    "\n",
    "# saving history data to file\n",
    "try:\n",
    "    history =transfer_vgg16_history_graph.history\n",
    "except AttributeError:\n",
    "    print('History is already an dictionary')\n",
    "    \n",
    "path = r\"C:\\Users\\sandr\\Documents\\Skola\\Deep Neural Networks\\Deep-Neural-Network\\Home Assignments\\HA1\\Training history\\Transfer VGG16\"\n",
    "            \n",
    "list_files = next(os.walk(path))[2] \n",
    "name = '\\History_graph_transfer_vgg16 ' +  str(len(list_files)+1)\n",
    "with open(path + name + '.pkl', 'wb') as f:\n",
    "        pickle.dump(history, f)\n",
    "f.close()"
   ]
  },
  {
   "cell_type": "markdown",
   "metadata": {},
   "source": [
    "Plot the accuracy in the test and validation set, using the model trained with freezed layers and the one you just trained."
   ]
  },
  {
   "cell_type": "code",
   "execution_count": null,
   "metadata": {},
   "outputs": [],
   "source": [
    "path_transfer = r'C:\\Users\\sandr\\Documents\\Skola\\Deep Neural Networks\\Deep-Neural-Network\\Home Assignments\\HA1\\Training history\\Transfer VGG16'\n",
    "list_files_transfer = os.listdir(path_transfer)\n",
    "name_transfer = '\\\\History_graph_transfer_vgg16 ' +  str(len(list_files_transfer))   \n",
    "\n",
    "path_best = r'C:\\Users\\sandr\\Documents\\Skola\\Deep Neural Networks\\Deep-Neural-Network\\Home Assignments\\HA1\\Training history\\Best'\n",
    "list_files_best = os.listdir(path_best)\n",
    "name_best = '\\\\History_graph_best ' +  '11'  \n",
    "\n",
    "with open(path_transfer + name_transfer + '.pkl', 'rb') as f:\n",
    "        history_graph_transfer = pickle.load(f)\n",
    "f.close()\n",
    "with open(path_best + name_best + '.pkl', 'rb') as f:\n",
    "        history_graph_best = pickle.load(f)\n",
    "f.close()\n",
    "\n",
    "x_transfer = np.linspace(0,len(history_graph_transfer['loss']),len(history_graph_transfer['loss']))\n",
    "x_best = np.linspace(0,len(history_graph_best['loss']),len(history_graph_best['loss']))\n",
    "\n",
    "plt.plot(x_transfer, history_graph_transfer['val_acc'])\n",
    "plt.plot(x_best, history_graph_best['val_acc'])\n",
    "plt.legend(['Transfer learning val Accurasy','Our best models val Accurasy'])\n",
    "\n",
    "plt.show()"
   ]
  },
  {
   "cell_type": "markdown",
   "metadata": {},
   "source": [
    "Did the model's performance improve? Why (why not)?\n",
    "\n",
    "**Your answer**: (fill in here)"
   ]
  },
  {
   "cell_type": "markdown",
   "metadata": {},
   "source": [
    "Save the model to a HDF5 file."
   ]
  },
  {
   "cell_type": "code",
   "execution_count": null,
   "metadata": {},
   "outputs": [],
   "source": [
    "#saving models to file\n",
    "model_path = r'C:\\Users\\sandr\\Documents\\Skola\\Deep Neural Networks\\Deep-Neural-Network\\Home Assignments\\HA1\\models\\Transfer VGG16' \n",
    "list_files = next(os.walk(model_path))[2] \n",
    "model_name = '\\Keras model transfer vgg16 CNN ' +  str(len(list_files)+1)\n",
    "best_model.save(model_path + model_name)"
   ]
  },
  {
   "cell_type": "markdown",
   "metadata": {},
   "source": [
    "### 5.3 Improving the top model (optional)"
   ]
  },
  {
   "cell_type": "markdown",
   "metadata": {},
   "source": [
    "Improve the architecture for the layers you add on top of VGG16. Try different ideas, and consider comparing them using tensorboard. When you're happy with one architecture, copy it in the cell below and train it here."
   ]
  },
  {
   "cell_type": "code",
   "execution_count": null,
   "metadata": {},
   "outputs": [],
   "source": []
  },
  {
   "cell_type": "markdown",
   "metadata": {},
   "source": [
    "Plot the accuracy in the test and validation set, using the model trained in step 5.2 and the one you just trained."
   ]
  },
  {
   "cell_type": "code",
   "execution_count": null,
   "metadata": {},
   "outputs": [],
   "source": []
  },
  {
   "cell_type": "markdown",
   "metadata": {},
   "source": [
    "Save the model to a HDF5 file."
   ]
  },
  {
   "cell_type": "code",
   "execution_count": null,
   "metadata": {},
   "outputs": [],
   "source": []
  },
  {
   "cell_type": "markdown",
   "metadata": {},
   "source": [
    "## 6. Final training"
   ]
  },
  {
   "cell_type": "markdown",
   "metadata": {},
   "source": [
    "Now we'll train the model that achieved the best performance so far using the entire dataset.\n",
    "\n",
    "**Note**: start the optimization with the weights you obtained training in the smaller subset, i.e. *not* from scratch."
   ]
  },
  {
   "cell_type": "markdown",
   "metadata": {},
   "source": [
    "First, create two new data generators, one for training samples and one for validation samples. This time, they'll load data from the folders for the entire dataset."
   ]
  },
  {
   "cell_type": "code",
   "execution_count": null,
   "metadata": {},
   "outputs": [],
   "source": [
    "train_path = 'train'\n",
    "validation_path = 'val'\n",
    "\n",
    "#Batch size\n",
    "batch_s = 64\n",
    "\n",
    "#picture resolution/size\n",
    "img_hight = 224\n",
    "img_width = 224\n",
    "img_size = (img_hight, img_width)\n",
    "\n",
    "train_batches = keras.preprocessing.image.ImageDataGenerator().flow_from_directory(train_path,\n",
    "                                                                                   target_size = img_size,\n",
    "                                                                                   classes=['cats','dogs'], \n",
    "                                                                                   batch_size = batch_s)\n",
    "\n",
    "validation_batches = keras.preprocessing.image.ImageDataGenerator().flow_from_directory(validation_path,\n",
    "                                                                                        target_size = img_size,\n",
    "                                                                                        classes=['cats','dogs'],\n",
    "                                                                                        batch_size = batch_s)"
   ]
  },
  {
   "cell_type": "markdown",
   "metadata": {},
   "source": [
    "Create the callbacks you would like to use. This optimization might take a long time, so TensorBoard is advised ;)."
   ]
  },
  {
   "cell_type": "code",
   "execution_count": null,
   "metadata": {},
   "outputs": [],
   "source": [
    "tb = TensorBoard(log_dir='./logs/transfer_vgg16',\n",
    "                            histogram_freq=0,\n",
    "                            batch_size=32,\n",
    "                            write_graph=True,\n",
    "                            write_grads=True,\n",
    "                            write_images=True,\n",
    "                            embeddings_freq=0,\n",
    "                            embeddings_layer_names=None,\n",
    "                            embeddings_metadata=None,\n",
    "                            embeddings_data=None)\n",
    "es = EarlyStopping(monitor='val_loss',\n",
    "                   min_delta=0.02,\n",
    "                   patience=5,\n",
    "                   verbose=0,\n",
    "                   mode='auto',\n",
    "                   baseline=None,\n",
    "                   restore_best_weights=True)"
   ]
  },
  {
   "cell_type": "markdown",
   "metadata": {},
   "source": [
    "Train your model."
   ]
  },
  {
   "cell_type": "code",
   "execution_count": null,
   "metadata": {},
   "outputs": [],
   "source": [
    "transfer_vgg16_history_graph = model_vgg16.fit_generator(train_batches, steps_per_epoch = 107,\n",
    "                    validation_data = validation_batches,\n",
    "                    validation_steps = 50, epochs=100, verbose=2, callbacks=[tb, es])"
   ]
  },
  {
   "cell_type": "markdown",
   "metadata": {},
   "source": [
    "Plot the accuracy on the training and validation set, obtained when you trained this model on the smaller subset of data, and when you trained it now, with the entire dataset."
   ]
  },
  {
   "cell_type": "code",
   "execution_count": null,
   "metadata": {},
   "outputs": [],
   "source": []
  },
  {
   "cell_type": "markdown",
   "metadata": {},
   "source": [
    "What can you conclude from these plots?\n",
    "\n",
    "**Your answer**: (fill in here)"
   ]
  },
  {
   "cell_type": "markdown",
   "metadata": {},
   "source": [
    "## 7. Evaluation on test set"
   ]
  },
  {
   "cell_type": "markdown",
   "metadata": {},
   "source": [
    "Now we'll evaluate your final model, obtained in step 6, on the test set. As mentioned before, the samples in the test set are not labeled, so we can't compute any performance metrics ourselves. Instead, we'll create a .csv file containing the predictions for each sample, and submit it to Kaggle for evaluation."
   ]
  },
  {
   "cell_type": "markdown",
   "metadata": {},
   "source": [
    "Compute the predictions for all samples in the test set according to your best model, and save it in a .csv file with the format expected by the competition.\n",
    "\n",
    "Tip:\n",
    "- There is a `sample_submission.csv` file available for download in the same place where you downloaded the data from. Take a look at it to better understand what is the expected format here.\n",
    "- Take a look at the .csv file you generated and make sure it's reasonable before submitting it to Kaggle. You're only allowed a few submissions per day.\n",
    "\n",
    "Hints:\n",
    "- The Python module `os` has a `listdir` function, which returns the filenames of all files in a given path.\n",
    "- If you don't know how to create and write to files with Python, Google can help.\n",
    "- Keras has a submodule called `preprocessing.image`, with some handy functions (for instance `load_img` and `img_to_array`).\n",
    "- Alternatively, it's possible to use data generators for this task as well, but be careful about the order of your predictions (if you get a bad score at Kaggle, this is probably why)."
   ]
  },
  {
   "cell_type": "code",
   "execution_count": null,
   "metadata": {},
   "outputs": [],
   "source": []
  },
  {
   "cell_type": "markdown",
   "metadata": {},
   "source": [
    "Now that you created your submission file, submit it to Kaggle for evaluation. The [old competition](https://www.kaggle.com/c/dogs-vs-cats) does not allow submissions any more, so submit your file to the [new one](https://www.kaggle.com/c/dogs-vs-cats-redux-kernels-edition). Kaggle evaluates your submission according to your log-loss score. What is the score you obtained?\n",
    "\n",
    "**Your answer**: (fill in here)\n",
    "\n",
    "What was the username you used for this submission?\n",
    "\n",
    "**Your answer**: (fill in here)"
   ]
  }
 ],
 "metadata": {
  "kernelspec": {
   "display_name": "Python 3",
   "language": "python",
   "name": "python3"
  },
  "language_info": {
   "codemirror_mode": {
    "name": "ipython",
    "version": 3
   },
   "file_extension": ".py",
   "mimetype": "text/x-python",
   "name": "python",
   "nbconvert_exporter": "python",
   "pygments_lexer": "ipython3",
   "version": "3.6.4"
  }
 },
 "nbformat": 4,
 "nbformat_minor": 2
}
