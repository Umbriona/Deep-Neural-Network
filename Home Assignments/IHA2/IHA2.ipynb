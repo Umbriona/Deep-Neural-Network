{
 "cells": [
  {
   "cell_type": "markdown",
   "metadata": {},
   "source": [
    "# IHA2 - Catching Pokemon"
   ]
  },
  {
   "cell_type": "markdown",
   "metadata": {},
   "source": [
    "![](http://tibetanitech.com/wp-content/uploads/2016/09/Pokemon-GO.jpg)"
   ]
  },
  {
   "cell_type": "markdown",
   "metadata": {},
   "source": [
    "In this home assignment, you'll apply roughly the same principles we used when doing logistic regression on the Iris dataset, but on a new and very interesting dataset. We'll use the [Predict'em All](https://www.kaggle.com/semioniy/predictemall) dataset from Kaggle (download the dataset directly from them). This dataset consists of roughly 293,000 [pokemon](http://www.pokemongo.com/) sightings (historical appearances of Pokemon in the Pokemon Go game), having coordinates, time, weather, population density, distance to pokestops/ gyms etc. as features. A comprehensive list of all the features is available at [the dataset's homepage](https://www.kaggle.com/semioniy/predictemall)\n",
    "\n",
    "The context is simple: you are a Pokemon hunter, and there are only three Pokemon left for you to complete your collection. You'll do anything to capture them, including changing where you'll spend your next holidays! You know that some Pokemon only spawn in certain places of the world. Since you like machine learning so much, you figure it would be a great idea to train a classifier that, based on a location's latitude and longitude, can tell us which Pokemon is more likely to appear there.\n",
    "\n",
    "The assignment is broken down into six steps.\n",
    "\n",
    "1. Loading the data and extracting the desired subset of it\n",
    "2. Visualization of the dataset\n",
    "3. Preprocessing\n",
    "4. Training\n",
    "5. Evaluation\n",
    "6. Exploration\n",
    "\n",
    "\n",
    "Feel free to add cells wherever you see fit, and play around with this notebook as much as you want when developing the solutions. However, the solution you upload to ping-pong must have the exact format shown here, with only the cells present here.\n",
    "\n",
    "Don't restrict yourself only to what was taught so far. Some of the tasks might require you to search for new information. [The python docs](https://docs.python.org/3/), [keras docs](https://keras.io/), [stackoverflow](https://stackoverflow.com/), and Google are your friends!"
   ]
  },
  {
   "cell_type": "markdown",
   "metadata": {},
   "source": [
    "## 0. Imports"
   ]
  },
  {
   "cell_type": "markdown",
   "metadata": {},
   "source": [
    "Import any necessary modules here."
   ]
  },
  {
   "cell_type": "code",
   "execution_count": 2,
   "metadata": {},
   "outputs": [
    {
     "name": "stderr",
     "output_type": "stream",
     "text": [
      "C:\\Users\\sandr\\Anaconda3\\lib\\site-packages\\h5py\\__init__.py:36: FutureWarning: Conversion of the second argument of issubdtype from `float` to `np.floating` is deprecated. In future, it will be treated as `np.float64 == np.dtype(float).type`.\n",
      "  from ._conv import register_converters as _register_converters\n",
      "Using TensorFlow backend.\n"
     ]
    }
   ],
   "source": [
    "import pandas as pd\n",
    "import numpy as np\n",
    "import matplotlib.pyplot as plt\n",
    "import keras\n",
    "from keras.models import Sequential\n",
    "from keras.layers import Activation\n",
    "from keras.layers.core import Dense\n",
    "from keras.optimizers import Adam\n",
    "from keras.optimizers import SGD\n",
    "from keras.metrics import categorical_crossentropy\n",
    "\n",
    "from sklearn import preprocessing\n",
    "from sklearn.metrics import confusion_matrix"
   ]
  },
  {
   "cell_type": "markdown",
   "metadata": {},
   "source": [
    "## 1. Loading and extracting subset"
   ]
  },
  {
   "cell_type": "markdown",
   "metadata": {},
   "source": [
    "Load the `'300k.csv'` file using pandas."
   ]
  },
  {
   "cell_type": "code",
   "execution_count": 8,
   "metadata": {},
   "outputs": [
    {
     "data": {
      "text/html": [
       "<div>\n",
       "<style scoped>\n",
       "    .dataframe tbody tr th:only-of-type {\n",
       "        vertical-align: middle;\n",
       "    }\n",
       "\n",
       "    .dataframe tbody tr th {\n",
       "        vertical-align: top;\n",
       "    }\n",
       "\n",
       "    .dataframe thead th {\n",
       "        text-align: right;\n",
       "    }\n",
       "</style>\n",
       "<table border=\"1\" class=\"dataframe\">\n",
       "  <thead>\n",
       "    <tr style=\"text-align: right;\">\n",
       "      <th></th>\n",
       "      <th>pokemonId</th>\n",
       "      <th>latitude</th>\n",
       "      <th>longitude</th>\n",
       "      <th>appearedLocalTime</th>\n",
       "      <th>_id</th>\n",
       "      <th>cellId_90m</th>\n",
       "      <th>cellId_180m</th>\n",
       "      <th>cellId_370m</th>\n",
       "      <th>cellId_730m</th>\n",
       "      <th>cellId_1460m</th>\n",
       "      <th>...</th>\n",
       "      <th>cooc_143</th>\n",
       "      <th>cooc_144</th>\n",
       "      <th>cooc_145</th>\n",
       "      <th>cooc_146</th>\n",
       "      <th>cooc_147</th>\n",
       "      <th>cooc_148</th>\n",
       "      <th>cooc_149</th>\n",
       "      <th>cooc_150</th>\n",
       "      <th>cooc_151</th>\n",
       "      <th>class</th>\n",
       "    </tr>\n",
       "  </thead>\n",
       "  <tbody>\n",
       "    <tr>\n",
       "      <th>0</th>\n",
       "      <td>16</td>\n",
       "      <td>20.525745</td>\n",
       "      <td>-97.460829</td>\n",
       "      <td>2016-09-08T03:57:45</td>\n",
       "      <td>NTgxMDkzOTk4MTM5MjUwMjIzNw==</td>\n",
       "      <td>9645139108510564000</td>\n",
       "      <td>9645139108711890000</td>\n",
       "      <td>9645139108443455000</td>\n",
       "      <td>9645139109517197000</td>\n",
       "      <td>9645139113812165000</td>\n",
       "      <td>...</td>\n",
       "      <td>False</td>\n",
       "      <td>False</td>\n",
       "      <td>False</td>\n",
       "      <td>False</td>\n",
       "      <td>False</td>\n",
       "      <td>False</td>\n",
       "      <td>False</td>\n",
       "      <td>False</td>\n",
       "      <td>False</td>\n",
       "      <td>16</td>\n",
       "    </tr>\n",
       "    <tr>\n",
       "      <th>1</th>\n",
       "      <td>133</td>\n",
       "      <td>20.523695</td>\n",
       "      <td>-97.461167</td>\n",
       "      <td>2016-09-08T03:57:37</td>\n",
       "      <td>OTQ1NDgzODc1MjM3NDEzMTI2MQ==</td>\n",
       "      <td>9645139109852742000</td>\n",
       "      <td>9645139109785633000</td>\n",
       "      <td>9645139110590940000</td>\n",
       "      <td>9645139109517197000</td>\n",
       "      <td>9645139113812165000</td>\n",
       "      <td>...</td>\n",
       "      <td>False</td>\n",
       "      <td>False</td>\n",
       "      <td>False</td>\n",
       "      <td>False</td>\n",
       "      <td>False</td>\n",
       "      <td>False</td>\n",
       "      <td>False</td>\n",
       "      <td>False</td>\n",
       "      <td>False</td>\n",
       "      <td>133</td>\n",
       "    </tr>\n",
       "    <tr>\n",
       "      <th>2</th>\n",
       "      <td>16</td>\n",
       "      <td>38.903590</td>\n",
       "      <td>-77.199780</td>\n",
       "      <td>2016-09-08T03:57:25</td>\n",
       "      <td>NTQ0OTQ0NDA1Nzg2ODg3OTg2OQ==</td>\n",
       "      <td>9923201472785285000</td>\n",
       "      <td>9923201472986612000</td>\n",
       "      <td>9923201473791918000</td>\n",
       "      <td>9923201477013144000</td>\n",
       "      <td>9923201481308110000</td>\n",
       "      <td>...</td>\n",
       "      <td>False</td>\n",
       "      <td>False</td>\n",
       "      <td>False</td>\n",
       "      <td>False</td>\n",
       "      <td>False</td>\n",
       "      <td>False</td>\n",
       "      <td>False</td>\n",
       "      <td>False</td>\n",
       "      <td>False</td>\n",
       "      <td>16</td>\n",
       "    </tr>\n",
       "    <tr>\n",
       "      <th>3</th>\n",
       "      <td>13</td>\n",
       "      <td>47.665903</td>\n",
       "      <td>-122.312561</td>\n",
       "      <td>2016-09-08T03:56:22</td>\n",
       "      <td>NTU2MTU1NDM4NzA2MDk1MDcxNw==</td>\n",
       "      <td>6093392705025474600</td>\n",
       "      <td>6093392705092583400</td>\n",
       "      <td>6093392705897889800</td>\n",
       "      <td>6093392702676664300</td>\n",
       "      <td>6093392715561566200</td>\n",
       "      <td>...</td>\n",
       "      <td>False</td>\n",
       "      <td>False</td>\n",
       "      <td>False</td>\n",
       "      <td>False</td>\n",
       "      <td>False</td>\n",
       "      <td>False</td>\n",
       "      <td>False</td>\n",
       "      <td>False</td>\n",
       "      <td>False</td>\n",
       "      <td>13</td>\n",
       "    </tr>\n",
       "    <tr>\n",
       "      <th>4</th>\n",
       "      <td>133</td>\n",
       "      <td>47.666454</td>\n",
       "      <td>-122.311628</td>\n",
       "      <td>2016-09-08T03:56:08</td>\n",
       "      <td>MTY2ODg4MTAzMTczMDE0MTUwNTM=</td>\n",
       "      <td>6093392707709829100</td>\n",
       "      <td>6093392707776938000</td>\n",
       "      <td>6093392708045373400</td>\n",
       "      <td>6093392711266598900</td>\n",
       "      <td>6093392715561566200</td>\n",
       "      <td>...</td>\n",
       "      <td>False</td>\n",
       "      <td>False</td>\n",
       "      <td>False</td>\n",
       "      <td>False</td>\n",
       "      <td>False</td>\n",
       "      <td>False</td>\n",
       "      <td>False</td>\n",
       "      <td>False</td>\n",
       "      <td>False</td>\n",
       "      <td>133</td>\n",
       "    </tr>\n",
       "  </tbody>\n",
       "</table>\n",
       "<p>5 rows × 208 columns</p>\n",
       "</div>"
      ],
      "text/plain": [
       "   pokemonId   latitude   longitude    appearedLocalTime  \\\n",
       "0         16  20.525745  -97.460829  2016-09-08T03:57:45   \n",
       "1        133  20.523695  -97.461167  2016-09-08T03:57:37   \n",
       "2         16  38.903590  -77.199780  2016-09-08T03:57:25   \n",
       "3         13  47.665903 -122.312561  2016-09-08T03:56:22   \n",
       "4        133  47.666454 -122.311628  2016-09-08T03:56:08   \n",
       "\n",
       "                            _id           cellId_90m          cellId_180m  \\\n",
       "0  NTgxMDkzOTk4MTM5MjUwMjIzNw==  9645139108510564000  9645139108711890000   \n",
       "1  OTQ1NDgzODc1MjM3NDEzMTI2MQ==  9645139109852742000  9645139109785633000   \n",
       "2  NTQ0OTQ0NDA1Nzg2ODg3OTg2OQ==  9923201472785285000  9923201472986612000   \n",
       "3  NTU2MTU1NDM4NzA2MDk1MDcxNw==  6093392705025474600  6093392705092583400   \n",
       "4  MTY2ODg4MTAzMTczMDE0MTUwNTM=  6093392707709829100  6093392707776938000   \n",
       "\n",
       "           cellId_370m          cellId_730m         cellId_1460m  ...    \\\n",
       "0  9645139108443455000  9645139109517197000  9645139113812165000  ...     \n",
       "1  9645139110590940000  9645139109517197000  9645139113812165000  ...     \n",
       "2  9923201473791918000  9923201477013144000  9923201481308110000  ...     \n",
       "3  6093392705897889800  6093392702676664300  6093392715561566200  ...     \n",
       "4  6093392708045373400  6093392711266598900  6093392715561566200  ...     \n",
       "\n",
       "   cooc_143  cooc_144 cooc_145  cooc_146  cooc_147 cooc_148  cooc_149  \\\n",
       "0     False     False    False     False     False    False     False   \n",
       "1     False     False    False     False     False    False     False   \n",
       "2     False     False    False     False     False    False     False   \n",
       "3     False     False    False     False     False    False     False   \n",
       "4     False     False    False     False     False    False     False   \n",
       "\n",
       "   cooc_150  cooc_151  class  \n",
       "0     False     False     16  \n",
       "1     False     False    133  \n",
       "2     False     False     16  \n",
       "3     False     False     13  \n",
       "4     False     False    133  \n",
       "\n",
       "[5 rows x 208 columns]"
      ]
     },
     "execution_count": 8,
     "metadata": {},
     "output_type": "execute_result"
    }
   ],
   "source": [
    "df = pd.read_csv('300k.csv', low_memory=False)\n",
    "df.head()"
   ]
  },
  {
   "cell_type": "markdown",
   "metadata": {},
   "source": [
    "Create a new `DataFrame` with only the columns `latitude`, `longitude`, and `class`."
   ]
  },
  {
   "cell_type": "code",
   "execution_count": 8,
   "metadata": {},
   "outputs": [
    {
     "data": {
      "text/html": [
       "<div>\n",
       "<style scoped>\n",
       "    .dataframe tbody tr th:only-of-type {\n",
       "        vertical-align: middle;\n",
       "    }\n",
       "\n",
       "    .dataframe tbody tr th {\n",
       "        vertical-align: top;\n",
       "    }\n",
       "\n",
       "    .dataframe thead th {\n",
       "        text-align: right;\n",
       "    }\n",
       "</style>\n",
       "<table border=\"1\" class=\"dataframe\">\n",
       "  <thead>\n",
       "    <tr style=\"text-align: right;\">\n",
       "      <th></th>\n",
       "      <th>latitude</th>\n",
       "      <th>longitude</th>\n",
       "      <th>class</th>\n",
       "    </tr>\n",
       "  </thead>\n",
       "  <tbody>\n",
       "    <tr>\n",
       "      <th>0</th>\n",
       "      <td>20.525745</td>\n",
       "      <td>-97.460829</td>\n",
       "      <td>16</td>\n",
       "    </tr>\n",
       "    <tr>\n",
       "      <th>1</th>\n",
       "      <td>20.523695</td>\n",
       "      <td>-97.461167</td>\n",
       "      <td>133</td>\n",
       "    </tr>\n",
       "    <tr>\n",
       "      <th>2</th>\n",
       "      <td>38.903590</td>\n",
       "      <td>-77.199780</td>\n",
       "      <td>16</td>\n",
       "    </tr>\n",
       "    <tr>\n",
       "      <th>3</th>\n",
       "      <td>47.665903</td>\n",
       "      <td>-122.312561</td>\n",
       "      <td>13</td>\n",
       "    </tr>\n",
       "    <tr>\n",
       "      <th>4</th>\n",
       "      <td>47.666454</td>\n",
       "      <td>-122.311628</td>\n",
       "      <td>133</td>\n",
       "    </tr>\n",
       "  </tbody>\n",
       "</table>\n",
       "</div>"
      ],
      "text/plain": [
       "    latitude   longitude  class\n",
       "0  20.525745  -97.460829     16\n",
       "1  20.523695  -97.461167    133\n",
       "2  38.903590  -77.199780     16\n",
       "3  47.665903 -122.312561     13\n",
       "4  47.666454 -122.311628    133"
      ]
     },
     "execution_count": 8,
     "metadata": {},
     "output_type": "execute_result"
    }
   ],
   "source": [
    "dfnew = df[['latitude','longitude','class']]\n",
    "dfnew.head()"
   ]
  },
  {
   "cell_type": "markdown",
   "metadata": {},
   "source": [
    "Note that the `class` column specifies which pokemon it is. However, it only has the numerical id of the pokemon. For convenience, use the following dictionary to convert between ids and names."
   ]
  },
  {
   "cell_type": "code",
   "execution_count": 12,
   "metadata": {},
   "outputs": [],
   "source": [
    "name_dict={1: 'Bulbasaur', 2: 'Ivysaur', 3: 'Venusaur', 4: 'Charmander', 5: 'Charmeleon', 6: 'Charizard', 7: 'Squirtle', 8: \n",
    "          'Wartortle', 9: 'Blastoise', 10: 'Caterpie', 11: 'Metapod', 12: 'Butterfree', 13: 'Weedle', 14: 'Kakuna', \n",
    "          15: 'Beedrill', 16: 'Pidgey', 17: 'Pidgeotto', 18: 'Pidgeot', 19: 'Rattata', 20: 'Raticate', 21: 'Spearow',\n",
    "          22: 'Fearow', 23: 'Ekans', 24: 'Arbok', 25: 'Pikachu', 26: 'Raichu', 27: 'Sandshrew', 28: 'Sandslash', \n",
    "          29: 'Nidoran F', 30: 'Nidorina', 31: 'Nidoqueen',32: 'Nidoran M', 33: 'Nidorino', 34: 'Nidoking', 35: 'Clefairy',\n",
    "          36: 'Clefable', 37: 'Vulpix', 38: 'Ninetales', 39: 'Jigglypuff', 40: 'Wigglytuff', 41: 'Zubat', 42: 'Golbat', \n",
    "          43: 'Oddish', 44: 'Gloom', 45: 'Vileplume', 46: 'Paras', 47: 'Parasect', 48: 'Venonat', 49: 'Venomoth',\n",
    "          50: 'Diglett', 51: 'Dugtrio', 52: 'Meowth', 53: 'Persian', 54: 'Psyduck',55: 'Golduck', 56: 'Mankey', \n",
    "          57: 'Primeape', 58: 'Growlithe', 59: 'Arcanine', 60: 'Poliwag', 61: 'Poliwhirl', 62: 'Poliwrath',\n",
    "          63: 'Abra', 64: 'Kadabra', 65: 'Alakazam', 66: 'Machop', 67: 'Machoke', 68: 'Machamp', 69: 'Bellsprout', \n",
    "          70: 'Weepinbell', 71: 'Victreebel', 72: 'Tentacool', 73: 'Tentacruel', 74: 'Geodude', 75: 'Graveler',\n",
    "          76: 'Golem', 77: 'Ponyta', 78: 'Rapidash', 79: 'Slowpoke', 80: 'Slowbro', 81: 'Magnemite', 82: 'Magneton',\n",
    "          83: \"Farfetch'd\", 84: 'Doduo', 85: 'Dodrio', 86: 'Seel', 87: 'Dewgong', 88: 'Grimer', 89: 'Muk', \n",
    "          90: 'Shellder', 91: 'Cloyster', 92: 'Gastly', 93: 'Haunter', 94: 'Gengar', 95: 'Onix', 96: 'Drowzee',\n",
    "          97: 'Hypno', 98: 'Krabby', 99: 'Kingler', 100: 'Voltorb', 101: 'Electrode', 102: 'Exeggcute', 103: 'Exeggutor', \n",
    "          104: 'Cubone', 105: 'Marowak', 106: 'Hitmonlee', 107: 'Hitmonchan', 108: 'Lickitung', 109: 'Koffing',\n",
    "          110: 'Weezing', 111: 'Rhyhorn', 112: 'Rhydon', 113: 'Chansey', 114: 'Tangela', 115: 'Kangaskhan', 116: 'Horsea', \n",
    "          117: 'Seadra', 118: 'Goldeen', 119: 'Seaking', 120: 'Staryu', 121: 'Starmie', 122: 'Mr. Mime', 123: 'Scyther', \n",
    "          124: 'Jynx', 125: 'Electabuzz', 126: 'Magmar', 127: 'Pinsir', 128: 'Tauros', 129: 'Magikarp', 130: 'Gyarados', \n",
    "          131: 'Lapras', 132: 'Ditto', 133: 'Eevee', 134: 'Vaporeon', 135: 'Jolteon', 136: 'Flareon', 137: 'Porygon', \n",
    "          138: 'Omanyte', 139: 'Omastar', 140: 'Kabuto', 141: 'Kabutops', 142: 'Aerodactyl', 143: 'Snorlax', 144: 'Articuno',\n",
    "          145: 'Zapdos', 146: 'Moltres', 147: 'Dratini', 148: 'Dragonair', 149: 'Dragonite', 150: 'Mewtwo', 'Bulbasaur': 1, 'Ivysaur': 2, 'Venusaur': 3, 'Charmander': 4, 'Charmeleon': 5, 'Charizard': 6, 'Squirtle': 7, 'Wartortle': 8, 'Blastoise': 9, 'Caterpie': 10, 'Metapod': 11, 'Butterfree': 12, 'Weedle': 13, 'Kakuna': 14, 'Beedrill': 15, 'Pidgey': 16, 'Pidgeotto': 17, 'Pidgeot': 18, 'Rattata': 19, 'Raticate': 20, 'Spearow': 21, 'Fearow': 22, 'Ekans': 23, 'Arbok': 24, 'Pikachu': 25, 'Raichu': 26, 'Sandshrew': 27, 'Sandslash': 28, 'Nidoran F': 29, 'Nidorina': 30, 'Nidoqueen': 31, 'Nidoran M': 32, 'Nidorino': 33, 'Nidoking': 34, 'Clefairy': 35, 'Clefable': 36, 'Vulpix': 37, 'Ninetales': 38, 'Jigglypuff': 39, 'Wigglytuff': 40, 'Zubat': 41, 'Golbat': 42, 'Oddish': 43, 'Gloom': 44, 'Vileplume': 45, 'Paras': 46, 'Parasect': 47, 'Venonat': 48, 'Venomoth': 49, 'Diglett': 50, 'Dugtrio': 51, 'Meowth': 52, 'Persian': 53, 'Psyduck': 54, 'Golduck': 55, 'Mankey': 56, 'Primeape': 57, 'Growlithe': 58, 'Arcanine': 59, 'Poliwag': 60, 'Poliwhirl': 61, 'Poliwrath': 62, 'Abra': 63, 'Kadabra': 64, 'Alakazam': 65, 'Machop': 66, 'Machoke': 67, 'Machamp': 68, 'Bellsprout': 69, 'Weepinbell': 70, 'Victreebel': 71, 'Tentacool': 72, 'Tentacruel': 73, 'Geodude': 74, 'Graveler': 75, 'Golem': 76, 'Ponyta': 77, 'Rapidash': 78, 'Slowpoke': 79, 'Slowbro': 80, 'Magnemite': 81, 'Magneton': 82, 'Farfetch\\'d': 83, 'Doduo': 84, 'Dodrio': 85, 'Seel': 86, 'Dewgong': 87, 'Grimer': 88, 'Muk': 89, 'Shellder': 90, 'Cloyster': 91, 'Gastly': 92, 'Haunter': 93, 'Gengar': 94, 'Onix': 95, 'Drowzee': 96, 'Hypno': 97, 'Krabby': 98, 'Kingler': 99, 'Voltorb': 100, 'Electrode': 101, 'Exeggcute': 102, 'Exeggutor': 103, 'Cubone': 104, 'Marowak': 105, 'Hitmonlee': 106, 'Hitmonchan': 107, 'Lickitung': 108, 'Koffing': 109, 'Weezing': 110, 'Rhyhorn': 111, 'Rhydon': 112, 'Chansey': 113, 'Tangela': 114, 'Kangaskhan': 115, 'Horsea': 116, 'Seadra': 117, 'Goldeen': 118, 'Seaking': 119, 'Staryu': 120, 'Starmie': 121, 'Mr. Mime': 122, 'Scyther': 123, 'Jynx': 124, 'Electabuzz': 125, 'Magmar': 126, 'Pinsir': 127, 'Tauros': 128, 'Magikarp': 129, 'Gyarados': 130, 'Lapras': 131, 'Ditto': 132, 'Eevee': 133, 'Vaporeon': 134, 'Jolteon': 135, 'Flareon': 136, 'Porygon': 137, 'Omanyte': 138, 'Omastar': 139, 'Kabuto': 140, 'Kabutops': 141, 'Aerodactyl': 142, 'Snorlax': 143, 'Articuno': 144, 'Zapdos': 145, 'Moltres': 146, 'Dratini': 147, 'Dragonair': 148, 'Dragonite': 149, 'Mewtwo': 150}"
   ]
  },
  {
   "cell_type": "code",
   "execution_count": 10,
   "metadata": {},
   "outputs": [
    {
     "name": "stdout",
     "output_type": "stream",
     "text": [
      "94\n",
      "Gengar\n"
     ]
    }
   ],
   "source": [
    "# example usage (you can index either by name or id)\n",
    "print(name_dict['Gengar'])\n",
    "print(name_dict[94])"
   ]
  },
  {
   "cell_type": "markdown",
   "metadata": {},
   "source": [
    "We are only interested in three specific pokemon: Diglett, Seel, and Tauros."
   ]
  },
  {
   "cell_type": "markdown",
   "metadata": {},
   "source": [
    "<table style=\"width:100%\">\n",
    "  <tr>\n",
    "    <th> <center>Diglett</center> </th>\n",
    "    <th> <center>Seel</center> </th> \n",
    "    <th> <center>Tauros</center> </th>\n",
    "  </tr>\n",
    "  <tr>\n",
    "    <td>![Diglett](https://assets.pokemon.com/assets/cms2/img/pokedex/full/050_f2.png)</td>\n",
    "    <td>![Seel](https://pokemon.gamepedia.com/media/pokemon.gamepedia.com/thumb/f/f1/Seel.png/200px-Seel.png?version=2c32fbe0af2d0da707e5dbcb40472fbf)</td>\n",
    "    <td>![Tauros](https://vignette2.wikia.nocookie.net/pokemon/images/0/01/128Tauros_AG_anime.png/revision/latest?cb=20140924030616)</td>\n",
    "  </tr>\n",
    "</table>\n",
    "\n"
   ]
  },
  {
   "cell_type": "markdown",
   "metadata": {},
   "source": [
    "Filter the dataset to contain only these pokemon."
   ]
  },
  {
   "cell_type": "code",
   "execution_count": 11,
   "metadata": {},
   "outputs": [],
   "source": [
    "\n",
    "dfnewfilterd = dfnew[dfnew['class'].isin([name_dict['Diglett'], name_dict['Seel'], name_dict['Tauros']])]"
   ]
  },
  {
   "cell_type": "markdown",
   "metadata": {},
   "source": [
    "## 2. Visualization of the dataset"
   ]
  },
  {
   "cell_type": "markdown",
   "metadata": {},
   "source": [
    "Plot histogram of the number of occurrences of each class."
   ]
  },
  {
   "cell_type": "code",
   "execution_count": 12,
   "metadata": {},
   "outputs": [
    {
     "data": {
      "image/png": "[encoded data removed]",
      "text/plain": [
       "<matplotlib.figure.Figure at 0x1a9084ba7f0>"
      ]
     },
     "metadata": {},
     "output_type": "display_data"
    }
   ],
   "source": [
    "plt.hist(dfnewfilterd['class'])\n",
    "plt.show()"
   ]
  },
  {
   "cell_type": "markdown",
   "metadata": {},
   "source": [
    "# Is the dataset balanced?\n",
    "\n",
    "**Your answer**: (Yes)"
   ]
  },
  {
   "cell_type": "markdown",
   "metadata": {},
   "source": [
    "Plot a scatter plot where the first dimension is latitude, the second is longitude, and each point is a Pokemon. Further, the color of each point should represent which Pokemon it is. Lastly, the marker at each point should be an `'x'`. Make sure to label each axis.\n",
    "\n",
    "Hints:\n",
    "\n",
    "- The `scatter` method from `matplotlib` accepts an argument called `c`.\n",
    "- The `scatter` method also accepts an argument called `marker`."
   ]
  },
  {
   "cell_type": "code",
   "execution_count": 13,
   "metadata": {},
   "outputs": [
    {
     "data": {
      "image/png": "[encoded data removed]",
      "text/plain": [
       "<matplotlib.figure.Figure at 0x1a9007dbc88>"
      ]
     },
     "metadata": {},
     "output_type": "display_data"
    }
   ],
   "source": [
    "\n",
    "fig, ax = plt.subplots()\n",
    "tempdf = dfnewfilterd.set_index('class')\n",
    "for classes in ['Diglett', 'Seel', 'Tauros']:\n",
    "    ax.scatter(tempdf.loc[name_dict[classes]]['latitude'],tempdf.loc[name_dict[classes]]['longitude'], label=classes, alpha = 0.3)\n",
    "\n",
    "ax.legend()\n",
    "plt.show()"
   ]
  },
  {
   "cell_type": "markdown",
   "metadata": {},
   "source": [
    "Is there any other visualization you think would be useful? If so, insert it here."
   ]
  },
  {
   "cell_type": "code",
   "execution_count": null,
   "metadata": {},
   "outputs": [],
   "source": []
  },
  {
   "cell_type": "markdown",
   "metadata": {},
   "source": [
    "How hard do you think the problem is? Which classes can/cannot be easily separated?\n",
    "\n",
    "**Your answer**: (The problem is not linearly separable with zero loss but both Tauros and Seel are pretty well clusterd as one would expect from those two particular Pokémon's. Diglett on the other hand seem to have a much higher variance appering in relatively the same rate in both the Touros nest as well as the Seel nest. Diglett will thus be the hard one to predict, however the large varience for Digglet and the relative low varience for Seel and Tauros might make it much easier to classify Diglett the one might originaly expect   )\n",
    "\n",
    "Which accuracy do you expect to achieve?\n",
    "\n",
    "**Your answer**: (For bot Tauros and Seel I'm confident we will achive a higeh predictive accuracy for simply because of the relatively low varience of these two nests. Digglet on the other hand might be harder but then again the large spread of Diglett relative to the other two might actualy make it much easier to predict then one might expect. For some hard numbers I would estimate us geting around 95% predictive acuracy on Tauros about 80% on Seal and 75% on Diglett. But then again, looking at the requirement for this task it seams that I am way to optemistic in my predictions )"
   ]
  },
  {
   "cell_type": "markdown",
   "metadata": {},
   "source": [
    "## 3. Preprocessing"
   ]
  },
  {
   "cell_type": "markdown",
   "metadata": {},
   "source": [
    "Prepare input and output vectors."
   ]
  },
  {
   "cell_type": "code",
   "execution_count": 14,
   "metadata": {},
   "outputs": [],
   "source": [
    "input_vec = dfnewfilterd[['latitude', 'longitude']].as_matrix()[1:]\n",
    "input_vec_scaled = preprocessing.scale(input_vec)\n",
    "\n",
    "class_vec = dfnewfilterd['class'].as_matrix()[1:]\n",
    "class_vec[class_vec == name_dict['Diglett']] = 0\n",
    "class_vec[class_vec == name_dict['Seel']] = 1\n",
    "class_vec[class_vec == name_dict['Tauros']] = 2"
   ]
  },
  {
   "cell_type": "markdown",
   "metadata": {},
   "source": [
    "Separate your data into training and test sets. 20% of the data should be in the test set."
   ]
  },
  {
   "cell_type": "code",
   "execution_count": 15,
   "metadata": {},
   "outputs": [
    {
     "name": "stdout",
     "output_type": "stream",
     "text": [
      "1666\n",
      "[0 1 2]\n"
     ]
    }
   ],
   "source": [
    "#np.random.shuffle(input_vec_scaled)\n",
    "#np.random.shuffle(class_vec)\n",
    "index = round(len(class_vec)*0.8)\n",
    "print(index)\n",
    "input_vec_train, input_vec_test = [input_vec_scaled[:index,:], input_vec_scaled[index:,:]]\n",
    "\n",
    "class_vec_train, class_vec_test = [class_vec[:index], class_vec[index:]]\n",
    "print(np.unique(class_vec_train))"
   ]
  },
  {
   "cell_type": "code",
   "execution_count": 16,
   "metadata": {},
   "outputs": [
    {
     "name": "stderr",
     "output_type": "stream",
     "text": [
      "No handles with labels found to put in legend.\n"
     ]
    },
    {
     "data": {
      "image/png": "[encoded data removed]",
      "text/plain": [
       "<matplotlib.figure.Figure at 0x1a9008152e8>"
      ]
     },
     "metadata": {},
     "output_type": "display_data"
    }
   ],
   "source": [
    "fig, ax = plt.subplots()\n",
    "\n",
    "ax.scatter(input_vec_train[:,0],input_vec_train[:,1], c=class_vec_train, alpha = 0.3)\n",
    "\n",
    "ax.legend()\n",
    "plt.show()"
   ]
  },
  {
   "cell_type": "code",
   "execution_count": 17,
   "metadata": {},
   "outputs": [
    {
     "data": {
      "image/png": "[encoded data removed]",
      "text/plain": [
       "<matplotlib.figure.Figure at 0x1a900853908>"
      ]
     },
     "metadata": {},
     "output_type": "display_data"
    }
   ],
   "source": [
    "plt.hist(class_vec_train)\n",
    "plt.show()"
   ]
  },
  {
   "cell_type": "markdown",
   "metadata": {},
   "source": [
    "## 4. Training"
   ]
  },
  {
   "cell_type": "markdown",
   "metadata": {},
   "source": [
    "Choose an architecture for your network."
   ]
  },
  {
   "cell_type": "code",
   "execution_count": 18,
   "metadata": {},
   "outputs": [],
   "source": [
    "l1 = Dense(40, input_shape = (2,), activation = 'relu')\n",
    "l2 = Dense(20, activation = 'relu')\n",
    "l3 = Dense(20, activation = 'relu')\n",
    "l4 = Dense(3, activation = 'softmax')\n",
    "model = Sequential([l1, l2, l3, l4])\n",
    "model.compile(SGD(lr=0.005, momentum=0.0, decay=0.0, nesterov=False),loss='categorical_crossentropy',metrics=['accuracy'])"
   ]
  },
  {
   "cell_type": "markdown",
   "metadata": {},
   "source": [
    "Train the network. When training, separate 25% of your training data into a validation set."
   ]
  },
  {
   "cell_type": "code",
   "execution_count": 19,
   "metadata": {},
   "outputs": [
    {
     "name": "stdout",
     "output_type": "stream",
     "text": [
      "Train on 1249 samples, validate on 417 samples\n",
      "Epoch 1/200\n",
      "1249/1249 [==============================] - 1s 480us/step - loss: 1.1012 - acc: 0.3131 - val_loss: 1.0657 - val_acc: 0.4676\n",
      "Epoch 2/200\n",
      "1249/1249 [==============================] - 0s 60us/step - loss: 1.0796 - acc: 0.4091 - val_loss: 1.0473 - val_acc: 0.5492\n",
      "Epoch 3/200\n",
      "1249/1249 [==============================] - 0s 61us/step - loss: 1.0583 - acc: 0.4964 - val_loss: 1.0269 - val_acc: 0.6091\n",
      "Epoch 4/200\n",
      "1249/1249 [==============================] - 0s 62us/step - loss: 1.0373 - acc: 0.5396 - val_loss: 1.0067 - val_acc: 0.6259\n",
      "Epoch 5/200\n",
      "1249/1249 [==============================] - 0s 60us/step - loss: 1.0175 - acc: 0.5837 - val_loss: 0.9864 - val_acc: 0.6547\n",
      "Epoch 6/200\n",
      "1249/1249 [==============================] - 0s 62us/step - loss: 0.9993 - acc: 0.6005 - val_loss: 0.9667 - val_acc: 0.6211\n",
      "Epoch 7/200\n",
      "1249/1249 [==============================] - 0s 66us/step - loss: 0.9833 - acc: 0.5925 - val_loss: 0.9481 - val_acc: 0.6235\n",
      "Epoch 8/200\n",
      "1249/1249 [==============================] - 0s 70us/step - loss: 0.9684 - acc: 0.5989 - val_loss: 0.9305 - val_acc: 0.6259\n",
      "Epoch 9/200\n",
      "1249/1249 [==============================] - 0s 69us/step - loss: 0.9547 - acc: 0.5949 - val_loss: 0.9139 - val_acc: 0.6259\n",
      "Epoch 10/200\n",
      "1249/1249 [==============================] - 0s 66us/step - loss: 0.9418 - acc: 0.5973 - val_loss: 0.8977 - val_acc: 0.6259\n",
      "Epoch 11/200\n",
      "1249/1249 [==============================] - 0s 62us/step - loss: 0.9298 - acc: 0.5965 - val_loss: 0.8828 - val_acc: 0.6259\n",
      "Epoch 12/200\n",
      "1249/1249 [==============================] - 0s 82us/step - loss: 0.9190 - acc: 0.5941 - val_loss: 0.8685 - val_acc: 0.6235\n",
      "Epoch 13/200\n",
      "1249/1249 [==============================] - 0s 74us/step - loss: 0.9090 - acc: 0.5973 - val_loss: 0.8552 - val_acc: 0.6163\n",
      "Epoch 14/200\n",
      "1249/1249 [==============================] - 0s 70us/step - loss: 0.9001 - acc: 0.5957 - val_loss: 0.8434 - val_acc: 0.6139\n",
      "Epoch 15/200\n",
      "1249/1249 [==============================] - 0s 78us/step - loss: 0.8919 - acc: 0.5949 - val_loss: 0.8329 - val_acc: 0.6163\n",
      "Epoch 16/200\n",
      "1249/1249 [==============================] - 0s 62us/step - loss: 0.8845 - acc: 0.5925 - val_loss: 0.8234 - val_acc: 0.6211\n",
      "Epoch 17/200\n",
      "1249/1249 [==============================] - 0s 60us/step - loss: 0.8778 - acc: 0.5981 - val_loss: 0.8147 - val_acc: 0.6307\n",
      "Epoch 18/200\n",
      "1249/1249 [==============================] - 0s 62us/step - loss: 0.8713 - acc: 0.6045 - val_loss: 0.8074 - val_acc: 0.6163\n",
      "Epoch 19/200\n",
      "1249/1249 [==============================] - 0s 68us/step - loss: 0.8655 - acc: 0.6101 - val_loss: 0.8002 - val_acc: 0.6355\n",
      "Epoch 20/200\n",
      "1249/1249 [==============================] - 0s 67us/step - loss: 0.8601 - acc: 0.6229 - val_loss: 0.7941 - val_acc: 0.6451\n",
      "Epoch 21/200\n",
      "1249/1249 [==============================] - 0s 63us/step - loss: 0.8552 - acc: 0.6293 - val_loss: 0.7893 - val_acc: 0.6499\n",
      "Epoch 22/200\n",
      "1249/1249 [==============================] - 0s 62us/step - loss: 0.8507 - acc: 0.6365 - val_loss: 0.7837 - val_acc: 0.6523\n",
      "Epoch 23/200\n",
      "1249/1249 [==============================] - 0s 63us/step - loss: 0.8462 - acc: 0.6357 - val_loss: 0.7790 - val_acc: 0.6499\n",
      "Epoch 24/200\n",
      "1249/1249 [==============================] - 0s 62us/step - loss: 0.8421 - acc: 0.6413 - val_loss: 0.7753 - val_acc: 0.6547\n",
      "Epoch 25/200\n",
      "1249/1249 [==============================] - 0s 66us/step - loss: 0.8382 - acc: 0.6405 - val_loss: 0.7726 - val_acc: 0.6547\n",
      "Epoch 26/200\n",
      "1249/1249 [==============================] - 0s 62us/step - loss: 0.8345 - acc: 0.6429 - val_loss: 0.7696 - val_acc: 0.6547\n",
      "Epoch 27/200\n",
      "1249/1249 [==============================] - 0s 62us/step - loss: 0.8310 - acc: 0.6477 - val_loss: 0.7663 - val_acc: 0.6499\n",
      "Epoch 28/200\n",
      "1249/1249 [==============================] - 0s 61us/step - loss: 0.8274 - acc: 0.6453 - val_loss: 0.7632 - val_acc: 0.6499\n",
      "Epoch 29/200\n",
      "1249/1249 [==============================] - 0s 62us/step - loss: 0.8241 - acc: 0.6501 - val_loss: 0.7606 - val_acc: 0.6523\n",
      "Epoch 30/200\n",
      "1249/1249 [==============================] - 0s 63us/step - loss: 0.8210 - acc: 0.6493 - val_loss: 0.7580 - val_acc: 0.6547\n",
      "Epoch 31/200\n",
      "1249/1249 [==============================] - 0s 62us/step - loss: 0.8180 - acc: 0.6477 - val_loss: 0.7562 - val_acc: 0.6547\n",
      "Epoch 32/200\n",
      "1249/1249 [==============================] - 0s 63us/step - loss: 0.8151 - acc: 0.6477 - val_loss: 0.7547 - val_acc: 0.6475\n",
      "Epoch 33/200\n",
      "1249/1249 [==============================] - 0s 66us/step - loss: 0.8122 - acc: 0.6501 - val_loss: 0.7515 - val_acc: 0.6523\n",
      "Epoch 34/200\n",
      "1249/1249 [==============================] - 0s 64us/step - loss: 0.8093 - acc: 0.6501 - val_loss: 0.7493 - val_acc: 0.6475\n",
      "Epoch 35/200\n",
      "1249/1249 [==============================] - 0s 62us/step - loss: 0.8066 - acc: 0.6501 - val_loss: 0.7482 - val_acc: 0.6499\n",
      "Epoch 36/200\n",
      "1249/1249 [==============================] - 0s 67us/step - loss: 0.8040 - acc: 0.6509 - val_loss: 0.7459 - val_acc: 0.6475\n",
      "Epoch 37/200\n",
      "1249/1249 [==============================] - 0s 73us/step - loss: 0.8015 - acc: 0.6501 - val_loss: 0.7443 - val_acc: 0.6523\n",
      "Epoch 38/200\n",
      "1249/1249 [==============================] - 0s 74us/step - loss: 0.7990 - acc: 0.6517 - val_loss: 0.7426 - val_acc: 0.6475\n",
      "Epoch 39/200\n",
      "1249/1249 [==============================] - 0s 66us/step - loss: 0.7966 - acc: 0.6517 - val_loss: 0.7419 - val_acc: 0.6619\n",
      "Epoch 40/200\n",
      "1249/1249 [==============================] - 0s 73us/step - loss: 0.7942 - acc: 0.6517 - val_loss: 0.7410 - val_acc: 0.6523\n",
      "Epoch 41/200\n",
      "1249/1249 [==============================] - 0s 69us/step - loss: 0.7919 - acc: 0.6533 - val_loss: 0.7392 - val_acc: 0.6523\n",
      "Epoch 42/200\n",
      "1249/1249 [==============================] - 0s 62us/step - loss: 0.7898 - acc: 0.6517 - val_loss: 0.7385 - val_acc: 0.6619\n",
      "Epoch 43/200\n",
      "1249/1249 [==============================] - 0s 62us/step - loss: 0.7875 - acc: 0.6549 - val_loss: 0.7367 - val_acc: 0.6619\n",
      "Epoch 44/200\n",
      "1249/1249 [==============================] - 0s 63us/step - loss: 0.7852 - acc: 0.6541 - val_loss: 0.7357 - val_acc: 0.6619\n",
      "Epoch 45/200\n",
      "1249/1249 [==============================] - 0s 62us/step - loss: 0.7832 - acc: 0.6573 - val_loss: 0.7347 - val_acc: 0.6619\n",
      "Epoch 46/200\n",
      "1249/1249 [==============================] - 0s 67us/step - loss: 0.7812 - acc: 0.6541 - val_loss: 0.7349 - val_acc: 0.6619\n",
      "Epoch 47/200\n",
      "1249/1249 [==============================] - 0s 64us/step - loss: 0.7792 - acc: 0.6557 - val_loss: 0.7342 - val_acc: 0.6595\n",
      "Epoch 48/200\n",
      "1249/1249 [==============================] - 0s 62us/step - loss: 0.7774 - acc: 0.6589 - val_loss: 0.7335 - val_acc: 0.6619\n",
      "Epoch 49/200\n",
      "1249/1249 [==============================] - 0s 61us/step - loss: 0.7756 - acc: 0.6549 - val_loss: 0.7324 - val_acc: 0.6595\n",
      "Epoch 50/200\n",
      "1249/1249 [==============================] - 0s 68us/step - loss: 0.7735 - acc: 0.6525 - val_loss: 0.7305 - val_acc: 0.6595\n",
      "Epoch 51/200\n",
      "1249/1249 [==============================] - 0s 67us/step - loss: 0.7718 - acc: 0.6557 - val_loss: 0.7298 - val_acc: 0.6571\n",
      "Epoch 52/200\n",
      "1249/1249 [==============================] - 0s 63us/step - loss: 0.7701 - acc: 0.6509 - val_loss: 0.7289 - val_acc: 0.6571\n",
      "Epoch 53/200\n",
      "1249/1249 [==============================] - 0s 70us/step - loss: 0.7684 - acc: 0.6501 - val_loss: 0.7283 - val_acc: 0.6571\n",
      "Epoch 54/200\n",
      "1249/1249 [==============================] - 0s 66us/step - loss: 0.7667 - acc: 0.6493 - val_loss: 0.7274 - val_acc: 0.6451\n",
      "Epoch 55/200\n",
      "1249/1249 [==============================] - 0s 63us/step - loss: 0.7652 - acc: 0.6373 - val_loss: 0.7272 - val_acc: 0.6547\n",
      "Epoch 56/200\n",
      "1249/1249 [==============================] - 0s 63us/step - loss: 0.7635 - acc: 0.6461 - val_loss: 0.7274 - val_acc: 0.6451\n",
      "Epoch 57/200\n",
      "1249/1249 [==============================] - 0s 62us/step - loss: 0.7619 - acc: 0.6397 - val_loss: 0.7250 - val_acc: 0.6451\n",
      "Epoch 58/200\n",
      "1249/1249 [==============================] - 0s 62us/step - loss: 0.7604 - acc: 0.6381 - val_loss: 0.7243 - val_acc: 0.6427\n",
      "Epoch 59/200\n",
      "1249/1249 [==============================] - 0s 62us/step - loss: 0.7590 - acc: 0.6357 - val_loss: 0.7226 - val_acc: 0.6451\n",
      "Epoch 60/200\n",
      "1249/1249 [==============================] - 0s 61us/step - loss: 0.7576 - acc: 0.6397 - val_loss: 0.7219 - val_acc: 0.6571\n",
      "Epoch 61/200\n",
      "1249/1249 [==============================] - 0s 62us/step - loss: 0.7563 - acc: 0.6461 - val_loss: 0.7222 - val_acc: 0.6571\n",
      "Epoch 62/200\n",
      "1249/1249 [==============================] - 0s 59us/step - loss: 0.7550 - acc: 0.6645 - val_loss: 0.7217 - val_acc: 0.6571\n",
      "Epoch 63/200\n",
      "1249/1249 [==============================] - 0s 65us/step - loss: 0.7538 - acc: 0.6589 - val_loss: 0.7209 - val_acc: 0.6571\n",
      "Epoch 64/200\n",
      "1249/1249 [==============================] - 0s 61us/step - loss: 0.7526 - acc: 0.6621 - val_loss: 0.7202 - val_acc: 0.6571\n",
      "Epoch 65/200\n",
      "1249/1249 [==============================] - 0s 62us/step - loss: 0.7513 - acc: 0.6653 - val_loss: 0.7209 - val_acc: 0.6571\n",
      "Epoch 66/200\n",
      "1249/1249 [==============================] - 0s 64us/step - loss: 0.7499 - acc: 0.6669 - val_loss: 0.7203 - val_acc: 0.6667\n",
      "Epoch 67/200\n",
      "1249/1249 [==============================] - 0s 69us/step - loss: 0.7485 - acc: 0.6701 - val_loss: 0.7201 - val_acc: 0.6811\n",
      "Epoch 68/200\n",
      "1249/1249 [==============================] - 0s 70us/step - loss: 0.7473 - acc: 0.6677 - val_loss: 0.7194 - val_acc: 0.6811\n",
      "Epoch 69/200\n",
      "1249/1249 [==============================] - 0s 73us/step - loss: 0.7460 - acc: 0.6741 - val_loss: 0.7183 - val_acc: 0.6882\n",
      "Epoch 70/200\n",
      "1249/1249 [==============================] - 0s 74us/step - loss: 0.7450 - acc: 0.6709 - val_loss: 0.7181 - val_acc: 0.6667\n",
      "Epoch 71/200\n",
      "1249/1249 [==============================] - 0s 73us/step - loss: 0.7436 - acc: 0.6805 - val_loss: 0.7190 - val_acc: 0.6667\n",
      "Epoch 72/200\n",
      "1249/1249 [==============================] - 0s 72us/step - loss: 0.7425 - acc: 0.6749 - val_loss: 0.7178 - val_acc: 0.6667\n",
      "Epoch 73/200\n",
      "1249/1249 [==============================] - 0s 69us/step - loss: 0.7414 - acc: 0.6749 - val_loss: 0.7166 - val_acc: 0.6954\n",
      "Epoch 74/200\n",
      "1249/1249 [==============================] - 0s 70us/step - loss: 0.7403 - acc: 0.6805 - val_loss: 0.7167 - val_acc: 0.6954\n",
      "Epoch 75/200\n",
      "1249/1249 [==============================] - 0s 70us/step - loss: 0.7391 - acc: 0.6861 - val_loss: 0.7166 - val_acc: 0.6715\n",
      "Epoch 76/200\n",
      "1249/1249 [==============================] - 0s 72us/step - loss: 0.7382 - acc: 0.6757 - val_loss: 0.7156 - val_acc: 0.6667\n",
      "Epoch 77/200\n",
      "1249/1249 [==============================] - 0s 77us/step - loss: 0.7366 - acc: 0.6853 - val_loss: 0.7175 - val_acc: 0.7098\n",
      "Epoch 78/200\n",
      "1249/1249 [==============================] - 0s 78us/step - loss: 0.7361 - acc: 0.6894 - val_loss: 0.7179 - val_acc: 0.7122\n",
      "Epoch 79/200\n",
      "1249/1249 [==============================] - 0s 79us/step - loss: 0.7351 - acc: 0.6958 - val_loss: 0.7163 - val_acc: 0.6882\n",
      "Epoch 80/200\n",
      "1249/1249 [==============================] - 0s 73us/step - loss: 0.7342 - acc: 0.6910 - val_loss: 0.7156 - val_acc: 0.7050\n",
      "Epoch 81/200\n",
      "1249/1249 [==============================] - 0s 72us/step - loss: 0.7337 - acc: 0.6894 - val_loss: 0.7160 - val_acc: 0.6978\n",
      "Epoch 82/200\n",
      "1249/1249 [==============================] - 0s 70us/step - loss: 0.7324 - acc: 0.6982 - val_loss: 0.7137 - val_acc: 0.6930\n",
      "Epoch 83/200\n",
      "1249/1249 [==============================] - 0s 74us/step - loss: 0.7316 - acc: 0.6974 - val_loss: 0.7144 - val_acc: 0.7026\n",
      "Epoch 84/200\n",
      "1249/1249 [==============================] - 0s 73us/step - loss: 0.7307 - acc: 0.6966 - val_loss: 0.7153 - val_acc: 0.7098\n",
      "Epoch 85/200\n",
      "1249/1249 [==============================] - 0s 67us/step - loss: 0.7299 - acc: 0.7062 - val_loss: 0.7154 - val_acc: 0.7122\n",
      "Epoch 86/200\n",
      "1249/1249 [==============================] - 0s 68us/step - loss: 0.7293 - acc: 0.6982 - val_loss: 0.7150 - val_acc: 0.7146\n",
      "Epoch 87/200\n",
      "1249/1249 [==============================] - 0s 70us/step - loss: 0.7288 - acc: 0.7038 - val_loss: 0.7139 - val_acc: 0.7170\n",
      "Epoch 88/200\n",
      "1249/1249 [==============================] - 0s 69us/step - loss: 0.7283 - acc: 0.7038 - val_loss: 0.7122 - val_acc: 0.7170\n",
      "Epoch 89/200\n",
      "1249/1249 [==============================] - 0s 73us/step - loss: 0.7272 - acc: 0.7046 - val_loss: 0.7122 - val_acc: 0.7074\n",
      "Epoch 90/200\n",
      "1249/1249 [==============================] - 0s 70us/step - loss: 0.7266 - acc: 0.7014 - val_loss: 0.7122 - val_acc: 0.7002\n",
      "Epoch 91/200\n",
      "1249/1249 [==============================] - 0s 72us/step - loss: 0.7261 - acc: 0.7078 - val_loss: 0.7115 - val_acc: 0.7170\n",
      "Epoch 92/200\n",
      "1249/1249 [==============================] - 0s 73us/step - loss: 0.7255 - acc: 0.7022 - val_loss: 0.7118 - val_acc: 0.7170\n",
      "Epoch 93/200\n",
      "1249/1249 [==============================] - 0s 72us/step - loss: 0.7246 - acc: 0.7038 - val_loss: 0.7126 - val_acc: 0.7170\n",
      "Epoch 94/200\n",
      "1249/1249 [==============================] - 0s 70us/step - loss: 0.7242 - acc: 0.7030 - val_loss: 0.7113 - val_acc: 0.7170\n",
      "Epoch 95/200\n",
      "1249/1249 [==============================] - 0s 69us/step - loss: 0.7238 - acc: 0.7110 - val_loss: 0.7120 - val_acc: 0.7170\n",
      "Epoch 96/200\n",
      "1249/1249 [==============================] - 0s 70us/step - loss: 0.7230 - acc: 0.7094 - val_loss: 0.7096 - val_acc: 0.7170\n",
      "Epoch 97/200\n",
      "1249/1249 [==============================] - 0s 68us/step - loss: 0.7227 - acc: 0.7070 - val_loss: 0.7107 - val_acc: 0.7170\n",
      "Epoch 98/200\n",
      "1249/1249 [==============================] - 0s 72us/step - loss: 0.7218 - acc: 0.7094 - val_loss: 0.7104 - val_acc: 0.7170\n",
      "Epoch 99/200\n",
      "1249/1249 [==============================] - 0s 74us/step - loss: 0.7215 - acc: 0.7054 - val_loss: 0.7126 - val_acc: 0.7170\n",
      "Epoch 100/200\n",
      "1249/1249 [==============================] - 0s 70us/step - loss: 0.7210 - acc: 0.7054 - val_loss: 0.7130 - val_acc: 0.7170\n",
      "Epoch 101/200\n",
      "1249/1249 [==============================] - 0s 71us/step - loss: 0.7206 - acc: 0.7094 - val_loss: 0.7122 - val_acc: 0.7170\n",
      "Epoch 102/200\n",
      "1249/1249 [==============================] - 0s 66us/step - loss: 0.7199 - acc: 0.7094 - val_loss: 0.7120 - val_acc: 0.7170\n",
      "Epoch 103/200\n",
      "1249/1249 [==============================] - 0s 62us/step - loss: 0.7192 - acc: 0.6974 - val_loss: 0.7137 - val_acc: 0.7122\n",
      "Epoch 104/200\n",
      "1249/1249 [==============================] - 0s 66us/step - loss: 0.7195 - acc: 0.7054 - val_loss: 0.7107 - val_acc: 0.7170\n",
      "Epoch 105/200\n",
      "1249/1249 [==============================] - 0s 62us/step - loss: 0.7190 - acc: 0.7054 - val_loss: 0.7129 - val_acc: 0.7170\n",
      "Epoch 106/200\n",
      "1249/1249 [==============================] - 0s 65us/step - loss: 0.7180 - acc: 0.7086 - val_loss: 0.7096 - val_acc: 0.7170\n",
      "Epoch 107/200\n",
      "1249/1249 [==============================] - 0s 72us/step - loss: 0.7178 - acc: 0.7062 - val_loss: 0.7112 - val_acc: 0.7170\n",
      "Epoch 108/200\n",
      "1249/1249 [==============================] - 0s 67us/step - loss: 0.7173 - acc: 0.7078 - val_loss: 0.7107 - val_acc: 0.7170\n",
      "Epoch 109/200\n",
      "1249/1249 [==============================] - 0s 62us/step - loss: 0.7169 - acc: 0.7054 - val_loss: 0.7112 - val_acc: 0.7194\n",
      "Epoch 110/200\n",
      "1249/1249 [==============================] - 0s 63us/step - loss: 0.7169 - acc: 0.7102 - val_loss: 0.7112 - val_acc: 0.7194\n",
      "Epoch 111/200\n",
      "1249/1249 [==============================] - 0s 69us/step - loss: 0.7161 - acc: 0.7070 - val_loss: 0.7101 - val_acc: 0.7170\n",
      "Epoch 112/200\n",
      "1249/1249 [==============================] - 0s 69us/step - loss: 0.7158 - acc: 0.7070 - val_loss: 0.7105 - val_acc: 0.7170\n",
      "Epoch 113/200\n",
      "1249/1249 [==============================] - 0s 65us/step - loss: 0.7157 - acc: 0.7086 - val_loss: 0.7109 - val_acc: 0.7194\n",
      "Epoch 114/200\n",
      "1249/1249 [==============================] - 0s 66us/step - loss: 0.7149 - acc: 0.7094 - val_loss: 0.7114 - val_acc: 0.7170\n",
      "Epoch 115/200\n",
      "1249/1249 [==============================] - 0s 68us/step - loss: 0.7148 - acc: 0.7062 - val_loss: 0.7106 - val_acc: 0.7170\n",
      "Epoch 116/200\n",
      "1249/1249 [==============================] - 0s 62us/step - loss: 0.7144 - acc: 0.7078 - val_loss: 0.7104 - val_acc: 0.7194\n",
      "Epoch 117/200\n",
      "1249/1249 [==============================] - 0s 63us/step - loss: 0.7138 - acc: 0.7054 - val_loss: 0.7102 - val_acc: 0.7170\n",
      "Epoch 118/200\n",
      "1249/1249 [==============================] - 0s 63us/step - loss: 0.7135 - acc: 0.7054 - val_loss: 0.7092 - val_acc: 0.7194\n",
      "Epoch 119/200\n",
      "1249/1249 [==============================] - 0s 62us/step - loss: 0.7135 - acc: 0.7086 - val_loss: 0.7082 - val_acc: 0.7170\n"
     ]
    },
    {
     "name": "stdout",
     "output_type": "stream",
     "text": [
      "Epoch 120/200\n",
      "1249/1249 [==============================] - 0s 64us/step - loss: 0.7132 - acc: 0.7062 - val_loss: 0.7100 - val_acc: 0.7194\n",
      "Epoch 121/200\n",
      "1249/1249 [==============================] - 0s 63us/step - loss: 0.7127 - acc: 0.7070 - val_loss: 0.7085 - val_acc: 0.7194\n",
      "Epoch 122/200\n",
      "1249/1249 [==============================] - 0s 62us/step - loss: 0.7121 - acc: 0.7086 - val_loss: 0.7083 - val_acc: 0.7194\n",
      "Epoch 123/200\n",
      "1249/1249 [==============================] - 0s 68us/step - loss: 0.7121 - acc: 0.7062 - val_loss: 0.7102 - val_acc: 0.7170\n",
      "Epoch 124/200\n",
      "1249/1249 [==============================] - 0s 67us/step - loss: 0.7124 - acc: 0.7094 - val_loss: 0.7103 - val_acc: 0.7170\n",
      "Epoch 125/200\n",
      "1249/1249 [==============================] - 0s 65us/step - loss: 0.7110 - acc: 0.7102 - val_loss: 0.7109 - val_acc: 0.7194\n",
      "Epoch 126/200\n",
      "1249/1249 [==============================] - 0s 63us/step - loss: 0.7108 - acc: 0.7094 - val_loss: 0.7106 - val_acc: 0.7194\n",
      "Epoch 127/200\n",
      "1249/1249 [==============================] - 0s 62us/step - loss: 0.7107 - acc: 0.7086 - val_loss: 0.7081 - val_acc: 0.7170\n",
      "Epoch 128/200\n",
      "1249/1249 [==============================] - 0s 62us/step - loss: 0.7103 - acc: 0.7110 - val_loss: 0.7105 - val_acc: 0.7290\n",
      "Epoch 129/200\n",
      "1249/1249 [==============================] - 0s 62us/step - loss: 0.7102 - acc: 0.7102 - val_loss: 0.7109 - val_acc: 0.7290\n",
      "Epoch 130/200\n",
      "1249/1249 [==============================] - 0s 66us/step - loss: 0.7096 - acc: 0.7118 - val_loss: 0.7076 - val_acc: 0.7194\n",
      "Epoch 131/200\n",
      "1249/1249 [==============================] - 0s 69us/step - loss: 0.7096 - acc: 0.7110 - val_loss: 0.7071 - val_acc: 0.7194\n",
      "Epoch 132/200\n",
      "1249/1249 [==============================] - 0s 68us/step - loss: 0.7093 - acc: 0.7118 - val_loss: 0.7072 - val_acc: 0.7194\n",
      "Epoch 133/200\n",
      "1249/1249 [==============================] - 0s 68us/step - loss: 0.7088 - acc: 0.7102 - val_loss: 0.7085 - val_acc: 0.7290\n",
      "Epoch 134/200\n",
      "1249/1249 [==============================] - 0s 61us/step - loss: 0.7086 - acc: 0.7174 - val_loss: 0.7078 - val_acc: 0.7290\n",
      "Epoch 135/200\n",
      "1249/1249 [==============================] - 0s 62us/step - loss: 0.7084 - acc: 0.7110 - val_loss: 0.7083 - val_acc: 0.7290\n",
      "Epoch 136/200\n",
      "1249/1249 [==============================] - 0s 62us/step - loss: 0.7079 - acc: 0.7110 - val_loss: 0.7082 - val_acc: 0.7290\n",
      "Epoch 137/200\n",
      "1249/1249 [==============================] - 0s 63us/step - loss: 0.7078 - acc: 0.7110 - val_loss: 0.7083 - val_acc: 0.7290\n",
      "Epoch 138/200\n",
      "1249/1249 [==============================] - 0s 64us/step - loss: 0.7074 - acc: 0.7150 - val_loss: 0.7062 - val_acc: 0.7290\n",
      "Epoch 139/200\n",
      "1249/1249 [==============================] - 0s 69us/step - loss: 0.7070 - acc: 0.7174 - val_loss: 0.7054 - val_acc: 0.7290\n",
      "Epoch 140/200\n",
      "1249/1249 [==============================] - 0s 67us/step - loss: 0.7071 - acc: 0.7086 - val_loss: 0.7073 - val_acc: 0.7290\n",
      "Epoch 141/200\n",
      "1249/1249 [==============================] - 0s 69us/step - loss: 0.7064 - acc: 0.7126 - val_loss: 0.7065 - val_acc: 0.7290\n",
      "Epoch 142/200\n",
      "1249/1249 [==============================] - 0s 73us/step - loss: 0.7062 - acc: 0.7110 - val_loss: 0.7080 - val_acc: 0.7290\n",
      "Epoch 143/200\n",
      "1249/1249 [==============================] - 0s 77us/step - loss: 0.7059 - acc: 0.7110 - val_loss: 0.7100 - val_acc: 0.7290\n",
      "Epoch 144/200\n",
      "1249/1249 [==============================] - 0s 76us/step - loss: 0.7063 - acc: 0.7174 - val_loss: 0.7093 - val_acc: 0.7290\n",
      "Epoch 145/200\n",
      "1249/1249 [==============================] - 0s 78us/step - loss: 0.7057 - acc: 0.7174 - val_loss: 0.7059 - val_acc: 0.7314\n",
      "Epoch 146/200\n",
      "1249/1249 [==============================] - 0s 69us/step - loss: 0.7057 - acc: 0.7142 - val_loss: 0.7064 - val_acc: 0.7386\n",
      "Epoch 147/200\n",
      "1249/1249 [==============================] - 0s 70us/step - loss: 0.7053 - acc: 0.7150 - val_loss: 0.7086 - val_acc: 0.7386\n",
      "Epoch 148/200\n",
      "1249/1249 [==============================] - 0s 71us/step - loss: 0.7052 - acc: 0.7150 - val_loss: 0.7080 - val_acc: 0.7290\n",
      "Epoch 149/200\n",
      "1249/1249 [==============================] - 0s 69us/step - loss: 0.7045 - acc: 0.7182 - val_loss: 0.7094 - val_acc: 0.7290\n",
      "Epoch 150/200\n",
      "1249/1249 [==============================] - 0s 70us/step - loss: 0.7047 - acc: 0.7190 - val_loss: 0.7070 - val_acc: 0.7314\n",
      "Epoch 151/200\n",
      "1249/1249 [==============================] - 0s 69us/step - loss: 0.7046 - acc: 0.7134 - val_loss: 0.7059 - val_acc: 0.7386\n",
      "Epoch 152/200\n",
      "1249/1249 [==============================] - 0s 70us/step - loss: 0.7041 - acc: 0.7174 - val_loss: 0.7086 - val_acc: 0.7290\n",
      "Epoch 153/200\n",
      "1249/1249 [==============================] - 0s 70us/step - loss: 0.7040 - acc: 0.7190 - val_loss: 0.7066 - val_acc: 0.7290\n",
      "Epoch 154/200\n",
      "1249/1249 [==============================] - 0s 70us/step - loss: 0.7042 - acc: 0.7158 - val_loss: 0.7072 - val_acc: 0.7290\n",
      "Epoch 155/200\n",
      "1249/1249 [==============================] - 0s 71us/step - loss: 0.7035 - acc: 0.7206 - val_loss: 0.7096 - val_acc: 0.7290\n",
      "Epoch 156/200\n",
      "1249/1249 [==============================] - 0s 70us/step - loss: 0.7036 - acc: 0.7174 - val_loss: 0.7070 - val_acc: 0.7314\n",
      "Epoch 157/200\n",
      "1249/1249 [==============================] - 0s 71us/step - loss: 0.7030 - acc: 0.7238 - val_loss: 0.7065 - val_acc: 0.7290\n",
      "Epoch 158/200\n",
      "1249/1249 [==============================] - 0s 72us/step - loss: 0.7036 - acc: 0.7150 - val_loss: 0.7074 - val_acc: 0.7410\n",
      "Epoch 159/200\n",
      "1249/1249 [==============================] - 0s 76us/step - loss: 0.7027 - acc: 0.7230 - val_loss: 0.7076 - val_acc: 0.7314\n",
      "Epoch 160/200\n",
      "1249/1249 [==============================] - 0s 71us/step - loss: 0.7024 - acc: 0.7270 - val_loss: 0.7067 - val_acc: 0.7290\n",
      "Epoch 161/200\n",
      "1249/1249 [==============================] - 0s 74us/step - loss: 0.7021 - acc: 0.7182 - val_loss: 0.7089 - val_acc: 0.7290\n",
      "Epoch 162/200\n",
      "1249/1249 [==============================] - 0s 73us/step - loss: 0.7021 - acc: 0.7206 - val_loss: 0.7080 - val_acc: 0.7290\n",
      "Epoch 163/200\n",
      "1249/1249 [==============================] - 0s 72us/step - loss: 0.7020 - acc: 0.7198 - val_loss: 0.7066 - val_acc: 0.7458\n",
      "Epoch 164/200\n",
      "1249/1249 [==============================] - 0s 70us/step - loss: 0.7021 - acc: 0.7222 - val_loss: 0.7069 - val_acc: 0.7458\n",
      "Epoch 165/200\n",
      "1249/1249 [==============================] - 0s 70us/step - loss: 0.7017 - acc: 0.7222 - val_loss: 0.7057 - val_acc: 0.7410\n",
      "Epoch 166/200\n",
      "1249/1249 [==============================] - 0s 68us/step - loss: 0.7011 - acc: 0.7246 - val_loss: 0.7049 - val_acc: 0.7458\n",
      "Epoch 167/200\n",
      "1249/1249 [==============================] - 0s 69us/step - loss: 0.7012 - acc: 0.7230 - val_loss: 0.7053 - val_acc: 0.7458\n",
      "Epoch 168/200\n",
      "1249/1249 [==============================] - 0s 70us/step - loss: 0.7012 - acc: 0.7286 - val_loss: 0.7066 - val_acc: 0.7458\n",
      "Epoch 169/200\n",
      "1249/1249 [==============================] - 0s 77us/step - loss: 0.7009 - acc: 0.7278 - val_loss: 0.7064 - val_acc: 0.7410\n",
      "Epoch 170/200\n",
      "1249/1249 [==============================] - 0s 70us/step - loss: 0.7008 - acc: 0.7262 - val_loss: 0.7041 - val_acc: 0.7434\n",
      "Epoch 171/200\n",
      "1249/1249 [==============================] - 0s 69us/step - loss: 0.6998 - acc: 0.7246 - val_loss: 0.7069 - val_acc: 0.7290\n",
      "Epoch 172/200\n",
      "1249/1249 [==============================] - 0s 75us/step - loss: 0.6997 - acc: 0.7230 - val_loss: 0.7061 - val_acc: 0.7458\n",
      "Epoch 173/200\n",
      "1249/1249 [==============================] - 0s 72us/step - loss: 0.7002 - acc: 0.7262 - val_loss: 0.7058 - val_acc: 0.7482\n",
      "Epoch 174/200\n",
      "1249/1249 [==============================] - 0s 74us/step - loss: 0.7001 - acc: 0.7270 - val_loss: 0.7067 - val_acc: 0.7482\n",
      "Epoch 175/200\n",
      "1249/1249 [==============================] - 0s 68us/step - loss: 0.6995 - acc: 0.7302 - val_loss: 0.7063 - val_acc: 0.7410\n",
      "Epoch 176/200\n",
      "1249/1249 [==============================] - 0s 69us/step - loss: 0.6992 - acc: 0.7214 - val_loss: 0.7066 - val_acc: 0.7410\n",
      "Epoch 177/200\n",
      "1249/1249 [==============================] - 0s 69us/step - loss: 0.6989 - acc: 0.7270 - val_loss: 0.7104 - val_acc: 0.7290\n",
      "Epoch 178/200\n",
      "1249/1249 [==============================] - 0s 71us/step - loss: 0.6993 - acc: 0.7270 - val_loss: 0.7067 - val_acc: 0.7314\n",
      "Epoch 179/200\n",
      "1249/1249 [==============================] - 0s 70us/step - loss: 0.6994 - acc: 0.7238 - val_loss: 0.7061 - val_acc: 0.7482\n",
      "Epoch 180/200\n",
      "1249/1249 [==============================] - 0s 70us/step - loss: 0.6987 - acc: 0.7278 - val_loss: 0.7046 - val_acc: 0.7482\n",
      "Epoch 181/200\n",
      "1249/1249 [==============================] - 0s 71us/step - loss: 0.6993 - acc: 0.7270 - val_loss: 0.7044 - val_acc: 0.7482\n",
      "Epoch 182/200\n",
      "1249/1249 [==============================] - 0s 72us/step - loss: 0.6986 - acc: 0.7302 - val_loss: 0.7037 - val_acc: 0.7410\n",
      "Epoch 183/200\n",
      "1249/1249 [==============================] - 0s 83us/step - loss: 0.6987 - acc: 0.7222 - val_loss: 0.7057 - val_acc: 0.7410\n",
      "Epoch 184/200\n",
      "1249/1249 [==============================] - 0s 72us/step - loss: 0.6984 - acc: 0.7270 - val_loss: 0.7053 - val_acc: 0.7482\n",
      "Epoch 185/200\n",
      "1249/1249 [==============================] - 0s 72us/step - loss: 0.6983 - acc: 0.7294 - val_loss: 0.7059 - val_acc: 0.7482\n",
      "Epoch 186/200\n",
      "1249/1249 [==============================] - 0s 76us/step - loss: 0.6978 - acc: 0.7286 - val_loss: 0.7044 - val_acc: 0.7434\n",
      "Epoch 187/200\n",
      "1249/1249 [==============================] - 0s 70us/step - loss: 0.6982 - acc: 0.7278 - val_loss: 0.7048 - val_acc: 0.7410\n",
      "Epoch 188/200\n",
      "1249/1249 [==============================] - 0s 69us/step - loss: 0.6977 - acc: 0.7270 - val_loss: 0.7040 - val_acc: 0.7482\n",
      "Epoch 189/200\n",
      "1249/1249 [==============================] - 0s 72us/step - loss: 0.6972 - acc: 0.7254 - val_loss: 0.7050 - val_acc: 0.7410\n",
      "Epoch 190/200\n",
      "1249/1249 [==============================] - 0s 73us/step - loss: 0.6978 - acc: 0.7270 - val_loss: 0.7054 - val_acc: 0.7482\n",
      "Epoch 191/200\n",
      "1249/1249 [==============================] - 0s 74us/step - loss: 0.6967 - acc: 0.7310 - val_loss: 0.7066 - val_acc: 0.7482\n",
      "Epoch 192/200\n",
      "1249/1249 [==============================] - 0s 75us/step - loss: 0.6967 - acc: 0.7310 - val_loss: 0.7036 - val_acc: 0.7410\n",
      "Epoch 193/200\n",
      "1249/1249 [==============================] - 0s 71us/step - loss: 0.6971 - acc: 0.7278 - val_loss: 0.7053 - val_acc: 0.7386\n",
      "Epoch 194/200\n",
      "1249/1249 [==============================] - 0s 70us/step - loss: 0.6970 - acc: 0.7246 - val_loss: 0.7013 - val_acc: 0.7458\n",
      "Epoch 195/200\n",
      "1249/1249 [==============================] - 0s 70us/step - loss: 0.6968 - acc: 0.7278 - val_loss: 0.7042 - val_acc: 0.7482\n",
      "Epoch 196/200\n",
      "1249/1249 [==============================] - 0s 68us/step - loss: 0.6964 - acc: 0.7302 - val_loss: 0.7023 - val_acc: 0.7482\n",
      "Epoch 197/200\n",
      "1249/1249 [==============================] - 0s 66us/step - loss: 0.6968 - acc: 0.7294 - val_loss: 0.7018 - val_acc: 0.7482\n",
      "Epoch 198/200\n",
      "1249/1249 [==============================] - 0s 73us/step - loss: 0.6968 - acc: 0.7310 - val_loss: 0.7038 - val_acc: 0.7482\n",
      "Epoch 199/200\n",
      "1249/1249 [==============================] - 0s 72us/step - loss: 0.6961 - acc: 0.7286 - val_loss: 0.7031 - val_acc: 0.7482\n",
      "Epoch 200/200\n",
      "1249/1249 [==============================] - 0s 70us/step - loss: 0.6959 - acc: 0.7310 - val_loss: 0.7042 - val_acc: 0.7482\n"
     ]
    },
    {
     "data": {
      "text/plain": [
       "<keras.callbacks.History at 0x1a9007556d8>"
      ]
     },
     "execution_count": 19,
     "metadata": {},
     "output_type": "execute_result"
    }
   ],
   "source": [
    "one_hot_labels = keras.utils.to_categorical(class_vec_train, num_classes=3)\n",
    "\n",
    "model.fit(x = input_vec_train, y = one_hot_labels,  batch_size=30, epochs=200, verbose=1, validation_split=0.25, shuffle=True)"
   ]
  },
  {
   "cell_type": "markdown",
   "metadata": {},
   "source": [
    "For you to pass this assignment, you must obtain an accuracy on the validation set greater than 50%. It may be necessary to search for a good architecture by trying several different ones. If you want a challenge, try getting an accuracy greater than 63%."
   ]
  },
  {
   "cell_type": "markdown",
   "metadata": {},
   "source": [
    "## 5. Evaluation"
   ]
  },
  {
   "cell_type": "markdown",
   "metadata": {},
   "source": [
    "Once you achieved at least 50% accuracy in the validation set, we are done with training. Now we'll evaluate the performance of your classifier on the test set."
   ]
  },
  {
   "cell_type": "markdown",
   "metadata": {},
   "source": [
    "Compute the accuracy on the test set."
   ]
  },
  {
   "cell_type": "code",
   "execution_count": 20,
   "metadata": {},
   "outputs": [
    {
     "name": "stdout",
     "output_type": "stream",
     "text": [
      "416/416 [==============================] - 0s 82us/step\n",
      "[0.7553845145381414, 0.6923076958897022]\n"
     ]
    }
   ],
   "source": [
    "one_hot_labels_Test = keras.utils.to_categorical(class_vec_test, num_classes=3)\n",
    "score = model.evaluate(input_vec_test, one_hot_labels_Test, batch_size=10)\n",
    "print(score)"
   ]
  },
  {
   "cell_type": "markdown",
   "metadata": {},
   "source": [
    "Compute the confusion matrix of your predictions on the test set."
   ]
  },
  {
   "cell_type": "code",
   "execution_count": 29,
   "metadata": {},
   "outputs": [
    {
     "name": "stdout",
     "output_type": "stream",
     "text": [
      "[0 2 1 1 2 1 2 1 1 0 0 1 2 1 2 0 1 2 2 1 1 1 0 1 0 1 2 1 2 1 0 0 2 1 2 0 1\n",
      " 2 2 0 0 1 2 1 1 1 2 2 2 2 2 1 0 1 2 0 2 0 1 2 0 0 2 2 1 1 2 1 2 2 1 2 1 1\n",
      " 2 2 1 1 2 2 1 0 0 0 1 0 2 0 1 1 0 0 1 0 1 2 0 0 2 2 0 2 1 2 1 0 0 1 0 1 1\n",
      " 1 0 2 1 1 2 2 1 2 1 0 1 2 1 2 1 1 1 2 0 1 1 2 1 1 2 1 2 2 0 2 1 2 1 2 1 1\n",
      " 0 2 0 0 1 1 2 2 1 1 2 1 0 1 0 0 2 1 1 0 1 1 1 0 1 1 1 1 2 0 1 1 1 1 1 2 2\n",
      " 1 1 1 1 1 1 1 1 1 1 1 1 0 1 1 0 0 0 0 0 1 1 1 1 1 1 1 1 2 0 1 1 1 2 2 1 1\n",
      " 2 1 0 2 2 0 1 2 1 1 1 1 1 0 2 1 0 1 2 0 2 1 2 0 0 2 1 1 2 0 2 0 0 1 0 2 0\n",
      " 1 2 0 2 2 0 1 0 0 2 2 0 2 0 2 2 1 2 2 0 2 0 1 2 0 2 0 0 2 0 0 0 1 0 1 0 0\n",
      " 0 0 2 0 2 2 0 0 2 0 0 0 2 0 2 2 0 2 2 2 2 0 0 2 0 2 1 0 2 0 1 2 2 2 2 0 0\n",
      " 1 2 2 0 0 0 2 0 2 0 0 0 0 2 2 2 0 0 2 0 0 2 2 0 2 1 1 0 2 0 2 2 2 2 2 2 2\n",
      " 0 0 0 2 0 0 0 0 0 2 0 0 2 0 0 0 2 1 0 2 0 0 2 2 0 0 2 0 2 2 1 2 2 2 2 2 0\n",
      " 0 0 1 1 0 0 1 0 2]\n"
     ]
    }
   ],
   "source": [
    "\n",
    "predict_vec = np.argmax(model.predict(x = input_vec_test, batch_size=None, verbose=0, steps=None),axis=1)\n",
    "\n",
    "confusion_matrix(predict_vec,class_vec_test , labels=None, sample_weight=None)\n",
    "print(predict_vec)"
   ]
  },
  {
   "cell_type": "markdown",
   "metadata": {},
   "source": [
    "## 6. Exploration"
   ]
  },
  {
   "cell_type": "markdown",
   "metadata": {},
   "source": [
    "You have now trained and evaluated a neural network for this particular classification task. Can you provide a brief explanation as to how you could use it to decide where to travel, if you're interested in capturing the aforementioned Pokemons?\n",
    "\n",
    "**Answer**: (What you would do is to to form the desition boundary for the three classes and then go hunting for the specific pokémon in the region you predict it would be in.)"
   ]
  },
  {
   "cell_type": "markdown",
   "metadata": {},
   "source": [
    "Is(are) there any other feature(s) from the original dataset (e.g. hour of the day, pressure, wind speed, population density, etc.) which you think would be valuable to add as an input feature to your classifier to improve its performance? \n",
    "\n",
    "**Your answer**: (In pokemon go there is a bios for types during different weather. Diglett, Seel and Tauros are all in different weather groups so this would be  feature to try and see if it can contribute to the model. )"
   ]
  },
  {
   "cell_type": "markdown",
   "metadata": {},
   "source": [
    "To investigate your hypothesis, plot a histogram of the selected feature(s) for each one of the pokemons we're interested in. For example, if you think pressure and population density are valuable for prediction, plot 6 histograms. 3 of them will be the pressure histograms for each class ('Diglett', 'Seel' and 'Tauros'), and the other 3 will be the population density for each class."
   ]
  },
  {
   "cell_type": "code",
   "execution_count": 21,
   "metadata": {},
   "outputs": [
    {
     "data": {
      "image/png": "[encoded data removed]",
      "text/plain": [
       "<matplotlib.figure.Figure at 0x14501428400>"
      ]
     },
     "metadata": {},
     "output_type": "display_data"
    },
    {
     "data": {
      "image/png": "[encoded data removed]",
      "text/plain": [
       "<matplotlib.figure.Figure at 0x14501428f60>"
      ]
     },
     "metadata": {},
     "output_type": "display_data"
    },
    {
     "data": {
      "image/png": "[encoded data removed]",
      "text/plain": [
       "<matplotlib.figure.Figure at 0x14502f03208>"
      ]
     },
     "metadata": {},
     "output_type": "display_data"
    }
   ],
   "source": [
    "# fog, clear-night, partly-cloudy-night, partly-cloudy-day, cloudy, clear-day, rain, wind\n",
    "\n",
    "# investigation of weatherIcon\n",
    "df_investigation = df[['weatherIcon','class']]\n",
    "df_investigation = df_investigation[df_investigation['class'].isin([name_dict['Diglett'], name_dict['Seel'], name_dict['Tauros']])]\n",
    "df_investigation_Tauros = df_investigation[df_investigation['weatherIcon'].isin(['partly-cloudy-night','partly-cloudy-day'])]\n",
    "df_investigation_Seel = df_investigation[df_investigation['weatherIcon'].isin(['rain'])]\n",
    "df_investigation_Diglett = df_investigation[df_investigation['weatherIcon'].isin(['clear-night','clear-day'])]\n",
    "\n",
    "fig_1, ax_weather_1 = plt.subplots()\n",
    "fig_2, ax_weather_2 = plt.subplots()\n",
    "fig_3, ax_weather_3 = plt.subplots()\n",
    "ax_weather_1.hist(df_investigation_Diglett['class'])\n",
    "ax_weather_2.hist(df_investigation_Seel['class'])\n",
    "ax_weather_3.hist(df_investigation_Tauros['class'])\n",
    "plt.show()"
   ]
  },
  {
   "cell_type": "markdown",
   "metadata": {},
   "source": [
    "What does(do) this(ese) histogram(s) show you? Could it be beneficial to add this(ese) new feature(s) as input? Explain why/why not.\n",
    "\n",
    "**Your answer**: (fill in here)"
   ]
  },
  {
   "cell_type": "markdown",
   "metadata": {},
   "source": [
    "## 7. (optional)"
   ]
  },
  {
   "cell_type": "markdown",
   "metadata": {},
   "source": [
    "Assuming you found useful new features in the last part of this assignment, train a new classifier that uses these featues as well. Did the accuracy on the validation set improve? What's the highest accuracy you can achieve?"
   ]
  },
  {
   "cell_type": "code",
   "execution_count": null,
   "metadata": {},
   "outputs": [],
   "source": []
  }
 ],
 "metadata": {
  "kernelspec": {
   "display_name": "Python 3",
   "language": "python",
   "name": "python3"
  },
  "language_info": {
   "codemirror_mode": {
    "name": "ipython",
    "version": 3
   },
   "file_extension": ".py",
   "mimetype": "text/x-python",
   "name": "python",
   "nbconvert_exporter": "python",
   "pygments_lexer": "ipython3",
   "version": "3.6.4"
  }
 },
 "nbformat": 4,
 "nbformat_minor": 2
}
