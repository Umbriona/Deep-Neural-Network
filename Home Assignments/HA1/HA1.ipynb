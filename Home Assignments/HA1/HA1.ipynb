{
 "cells": [
  {
   "cell_type": "markdown",
   "metadata": {},
   "source": [
    "# HA1 - Cats and dogs"
   ]
  },
  {
   "cell_type": "markdown",
   "metadata": {},
   "source": [
    "<img src=\"http://lghttp.32478.nexcesscdn.net/80E972/organiclifestylemagazine/wp-content/uploads/2015/10/Cats-and-Dogs.jpg\" alt=\"Cats and dogs\" style=\"width: 5000px;\"/>"
   ]
  },
  {
   "cell_type": "markdown",
   "metadata": {},
   "source": [
    "For this home assignment, we'll use the Kaggle dataset for the [Dogs vs. Cats competition](https://www.kaggle.com/c/dogs-vs-cats). It comprises of 25k colored images of dogs and cats. Our goal with this dataset will be to create a classifier that can tell us if the input image is of a cat or a dog."
   ]
  },
  {
   "cell_type": "markdown",
   "metadata": {},
   "source": [
    "Requirements:\n",
    "- Whenever we ask you to plot anything, be sure to add a title and label the axes. If you're plotting more than one curve in the same plot, also add a legend.\n",
    "- When we ask you to train an architecture, train it for a reasonable number of epochs. \"Reasonable\" here means you should be fairly confident that training for a higher number of epochs wouldn't impact your conclusions regarding the model's performance.\n",
    "\n",
    "Tips:\n",
    "- If you get errors saying you've exhausted the GPU resources, well, then you exhausted the GPU resources ;). However, sometimes that's because TensorFlow didn't release a part of the GPU's memory. If you think your CNN should fit in your memory during training, try restarting the kernel and directly training only that architecture.\n",
    "- Every group has enough credits on google cloud to complete this assignment. However, this statement assumes you'll use your resources judiciously (e.g. always try the code first in your machine and make sure everything works properly before starting your instances) and **won't forget to stop your instance after using it,**  otherwise you might run out of credits.\n",
    "- Before starting, take a look at the images we'll be using. This is a hard task, don't get discouraged if your first models perform poorly (several participants in the original competition didn't achieve an accuracy higher than 60%)."
   ]
  },
  {
   "cell_type": "markdown",
   "metadata": {},
   "source": [
    "---\n",
    "## 0. Imports\n",
    "\n",
    "In the following cell, add all the imports you'll use in this assignment."
   ]
  },
  {
   "cell_type": "code",
   "execution_count": 1,
   "metadata": {},
   "outputs": [
    {
     "name": "stderr",
     "output_type": "stream",
     "text": [
      "Using TensorFlow backend.\n"
     ]
    }
   ],
   "source": [
    "import pandas as pd\n",
    "import numpy as np\n",
    "import matplotlib.pyplot as plt\n",
    "import keras\n",
    "from keras.models import Sequential\n",
    "from keras.layers import Activation\n",
    "from keras.layers.core import Dense\n",
    "from keras.layers.convolutional import Conv2D\n",
    "from keras.layers.core import Flatten\n",
    "from keras.optimizers import Adam\n",
    "from keras.optimizers import SGD\n",
    "from keras.metrics import categorical_crossentropy\n",
    "\n",
    "from sklearn import preprocessing\n",
    "from sklearn.metrics import confusion_matrix\n",
    "\n",
    "import pickle\n",
    "import os\n",
    "\n",
    "import matplotlib.pyplot as plt"
   ]
  },
  {
   "cell_type": "markdown",
   "metadata": {},
   "source": [
    "---\n",
    "## 1. Loading the data and preprocessing"
   ]
  },
  {
   "cell_type": "markdown",
   "metadata": {},
   "source": [
    "The first step is to head to the [Kaggle website for the cats and dogs competition](https://www.kaggle.com/c/dogs-vs-cats) and download the data from there. You should download both the `train.zip` and `test.zip` files. The split ratio between training and validation has not been made, you'll need to do it yourself. The `test.zip` file contains unlabeled data, so that participants in the contest are not able to train on this set.\n",
    "\n",
    "As mentioned in CL3, for this assignment you should use [data generators](https://keras.io/preprocessing/image/) to load the images to your CPU/GPU memory. Because of this, your folder structure for the data should conform to the folder structure expected by the data generators (i.e. the samples should be separated into one folder for each class). Furthermore, we ask you to first start with a smaller subset of the data (1/5 of the number of samples), in order to test different models faster.\n",
    "\n",
    "This means that you should create a folder structure that resembles the following (obviously, the folder names are up to you):\n",
    "\n",
    "\n",
    "         small_train             small_val                train                   val\n",
    "              |                      |                      |                      |\n",
    "              |                      |                      |                      |\n",
    "        -------------          -------------          -------------          -------------\n",
    "        |           |          |           |          |           |          |           |\n",
    "        |           |          |           |          |           |          |           |\n",
    "      Cats        Dogs       Cats        Dogs       Cats        Dogs       Cats        Dogs\n",
    "\n",
    "The `small_train` and `small_val` folders have the training and validation samples for your smaller subset of the data, while the `train` and `val` folders contain all the samples you extracted from Kaggle's `train.zip`. We provide you a notebook that shows how to achieve this, starting from the original `train` folder extracted from `train.zip`. If you do use that notebook, we encourage you to understand how each step is being done, so you can generalize this knowledge to new datasets you'll encounter.\n",
    "\n",
    "Although we specifically guide you to use 1/5 of the data in the smaller dataset, you should decide how to split the validation data. Please specify your splits in the following cells."
   ]
  },
  {
   "cell_type": "markdown",
   "metadata": {},
   "source": [
    "** ------------------  Smaller subset ------------------ **\n",
    "\n",
    "** % Samples in the training set:** (1750 cats; 1750 dogs)\n",
    "\n",
    "** % Samples in the validation set:** (750 cats; 750 dogs)"
   ]
  },
  {
   "cell_type": "markdown",
   "metadata": {},
   "source": [
    "** ------------------  Entire dataset ------------------ **\n",
    "\n",
    "** % Samples in the training set:** (11250 cats; 11250 dogs)\n",
    "\n",
    "** % Samples in the validation set:** (1250 cats; 1250 dogs)"
   ]
  },
  {
   "cell_type": "markdown",
   "metadata": {},
   "source": [
    "---\n",
    "Once you have the expected folder structure, create two data generators for automatically generating batches from the images in your smaller subset of data. Don't use any [data augmentation](https://cartesianfaith.com/2016/10/06/what-you-need-to-know-about-data-augmentation-for-machine-learning/), but feel free to preprocess the data as you see fit. After instantiating them, run the `flow_from_directory` method with the desired arguments.\n",
    "\n",
    "Hints:\n",
    "- The specified `batch_size` should be chosen so that your don't run out of memory.\n",
    "- When feeding the images to your CNN, you'll probably want all of them to have the same spatial size, even though the .jpeg files differ in this. If so, take a look at the argument `target_size` for the `flow_from_directory` method of data generators.\n",
    "- Resizing the images to a smaller size while loading them can be beneficial."
   ]
  },
  {
   "cell_type": "code",
   "execution_count": 2,
   "metadata": {},
   "outputs": [
    {
     "name": "stdout",
     "output_type": "stream",
     "text": [
      "Found 3500 images belonging to 2 classes.\n",
      "Found 1500 images belonging to 2 classes.\n",
      "Found 0 images belonging to 0 classes.\n"
     ]
    }
   ],
   "source": [
    "#setting paths to Data folders\n",
    "train_path = 'small_train'\n",
    "validation_path = 'small_val'\n",
    "test_path = 'test1'\n",
    "\n",
    "#Batch size\n",
    "batch_s = 32\n",
    "\n",
    "#picture resolution/size\n",
    "img_hight = 224\n",
    "img_width = 224\n",
    "img_size = (img_hight, img_width)\n",
    "\n",
    "train_batches = keras.preprocessing.image.ImageDataGenerator().flow_from_directory(train_path,\n",
    "                                                                                   target_size = img_size,\n",
    "                                                                                   classes=['cats','dogs'], \n",
    "                                                                                   batch_size = batch_s)\n",
    "\n",
    "validation_batches = keras.preprocessing.image.ImageDataGenerator().flow_from_directory(validation_path,\n",
    "                                                                                        target_size = img_size,\n",
    "                                                                                        classes=['cats','dogs'],\n",
    "                                                                                        batch_size = batch_s)\n",
    "\n",
    "test_batches = keras.preprocessing.image.ImageDataGenerator().flow_from_directory(test_path,\n",
    "                                                                                  target_size = img_size,\n",
    "                                                                                  batch_size=batch_s)"
   ]
  },
  {
   "cell_type": "markdown",
   "metadata": {},
   "source": [
    "---\n",
    "## 2. Training"
   ]
  },
  {
   "cell_type": "markdown",
   "metadata": {},
   "source": [
    "Create your first CNN architecture for this task. Start with something as simple as possible, that you're almost sure can get an accuracy better than 50% (we'll improve upon it later).\n",
    "\n",
    "Tip:\n",
    "- If Tensorflow is your backend, your `input_shape` is always `(img_width, img_height, 3)` (i.e. channels **last**)"
   ]
  },
  {
   "cell_type": "code",
   "execution_count": 3,
   "metadata": {},
   "outputs": [
    {
     "name": "stdout",
     "output_type": "stream",
     "text": [
      "_________________________________________________________________\n",
      "Layer (type)                 Output Shape              Param #   \n",
      "=================================================================\n",
      "conv2d_1 (Conv2D)            (None, 222, 222, 50)      1400      \n",
      "_________________________________________________________________\n",
      "conv2d_2 (Conv2D)            (None, 220, 220, 50)      22550     \n",
      "_________________________________________________________________\n",
      "conv2d_3 (Conv2D)            (None, 218, 218, 10)      4510      \n",
      "_________________________________________________________________\n",
      "max_pooling2d_1 (MaxPooling2 (None, 109, 109, 10)      0         \n",
      "_________________________________________________________________\n",
      "flatten_1 (Flatten)          (None, 118810)            0         \n",
      "_________________________________________________________________\n",
      "dense_1 (Dense)              (None, 20)                2376220   \n",
      "_________________________________________________________________\n",
      "dense_2 (Dense)              (None, 10)                210       \n",
      "_________________________________________________________________\n",
      "dense_3 (Dense)              (None, 2)                 22        \n",
      "=================================================================\n",
      "Total params: 2,404,912\n",
      "Trainable params: 2,404,912\n",
      "Non-trainable params: 0\n",
      "_________________________________________________________________\n"
     ]
    }
   ],
   "source": [
    "#convolutional layers\n",
    "conv_layer_1 = Conv2D(50,(3,3), activation='relu', input_shape = (224,224,3))\n",
    "conv_layer_2 = Conv2D(50,(3,3), activation='relu')\n",
    "conv_layer_3 = Conv2D(10,(3,3), activation='relu')\n",
    "\n",
    "#maxpooling layers\n",
    "maxpool_layer_1 = keras.layers.MaxPooling2D(pool_size=(2, 2), strides=None, padding='valid', data_format=None)\n",
    "\n",
    "#flattening layer\n",
    "flatening_layer = Flatten()\n",
    "\n",
    "#dense layers\n",
    "dense_layer_1 = Dense(20, activation='relu')\n",
    "dense_layer_2 = Dense(10, activation='relu')\n",
    "dense_layer_3 = Dense(2, activation='softmax')\n",
    "\n",
    "#model architecture initialization\n",
    "model_layer_list = [conv_layer_1, conv_layer_2, conv_layer_3,\n",
    "                    maxpool_layer_1, \n",
    "                    flatening_layer,\n",
    "                    dense_layer_1, dense_layer_2, dense_layer_3]\n",
    "\n",
    "model = Sequential(model_layer_list)\n",
    "\n",
    "#model optimizer initialisation\n",
    "model.compile(Adam(lr=0.000005),loss='categorical_crossentropy',metrics=['accuracy'])\n",
    "\n",
    "#model architecture overview\n",
    "model.summary()"
   ]
  },
  {
   "cell_type": "markdown",
   "metadata": {},
   "source": [
    "Train your model using the `fit_generator` method and the two data generators you created earlier. Train for a reasonable amount of epochs, so as to get a good sense of how well this architecture performs."
   ]
  },
  {
   "cell_type": "code",
   "execution_count": 53,
   "metadata": {},
   "outputs": [
    {
     "name": "stdout",
     "output_type": "stream",
     "text": [
      "History is already an dictionary\n"
     ]
    }
   ],
   "source": [
    "# training model\n",
    "history_graph = model.fit_generator(train_batches, steps_per_epoch = 20,\n",
    "                    validation_data = validation_batches,\n",
    "                    validation_steps = 10, epochs=200, verbose=2)\n",
    "\n",
    "# saving history data to file\n",
    "try:\n",
    "    history =history.history\n",
    "except AttributeError:\n",
    "    print('History is already an dictionary')\n",
    "    \n",
    "path = \"C:\\\\Users\\\\sandr\\\\Documents\\\\Skola\\\\Deep Neural Networks\\\\Deep-Neural-Network\\\\Home Assignments\\\\HA1\\\\Training history\\\\Simple\\\\\"\n",
    "            \n",
    "list_files = next(os.walk(path))[2] \n",
    "name = 'History_graph_simle ' +  str(len(list_files))\n",
    "with open(path + name + '.pkl', 'wb') as f:\n",
    "        pickle.dump(history, f)\n",
    "f.close()\n",
    "\n",
    "#saving models to file\n",
    "model_path = r'C:\\Users\\sandr\\Documents\\Skola\\Deep Neural Networks\\Deep-Neural-Network\\Home Assignments\\HA1\\models\\Simple' \n",
    "list_files = next(os.walk(path_model))[2] \n",
    "model_name = '\\Keras model simple CNN ' +  str(len(list_files))\n",
    "model.save(model_path + model_name)"
   ]
  },
  {
   "cell_type": "markdown",
   "metadata": {},
   "source": [
    "Create one figure with two axes. In one of them, plot the loss in the training and the validation datasets. In the other one, plot the accuracy in the training and validation datasets.\n",
    "\n",
    "Hint:\n",
    "- The `fit_generator` method returns a `history` object."
   ]
  },
  {
   "cell_type": "code",
   "execution_count": 16,
   "metadata": {},
   "outputs": [
    {
     "data": {
      "image/png": "[encoded data removed]",
      "text/plain": [
       "<matplotlib.figure.Figure at 0x2dbc89cccc0>"
      ]
     },
     "metadata": {
      "needs_background": "light"
     },
     "output_type": "display_data"
    }
   ],
   "source": [
    "path = r'C:\\Users\\sandr\\Documents\\Skola\\Deep Neural Networks\\Deep-Neural-Network\\Home Assignments\\HA1\\Training history\\Simple'\n",
    "list_files = os.listdir(path)\n",
    "name = '\\\\History_graph_simple' +  str(len(list_files))   \n",
    "with open(path + name + '.pkl', 'rb') as f:\n",
    "        history_graph = pickle.load(f)\n",
    "f.close()\n",
    "x = np.linspace(0,len(history_graph['loss']),len(history_graph['loss']))\n",
    "\n",
    "plt.subplot(2,1,1)\n",
    "plt.plot(x, history_graph['loss'])\n",
    "plt.plot(x, history_graph['val_loss'])\n",
    "plt.legend(['Training loss','Validation loss'])\n",
    "\n",
    "plt.subplot(2,1,2)\n",
    "plt.plot(x, history_graph['acc'])\n",
    "plt.plot(x, history_graph['val_acc'])\n",
    "plt.legend(['Training Accurasy','Validation Accurasy'])\n",
    "\n",
    "plt.show()"
   ]
  },
  {
   "cell_type": "markdown",
   "metadata": {},
   "source": [
    "Based on these, what would you suggest for improving your model? Why?\n",
    "\n",
    "**Your answer**: (fill in here)"
   ]
  },
  {
   "cell_type": "markdown",
   "metadata": {},
   "source": [
    "---\n",
    "## 3. Improving your initial model"
   ]
  },
  {
   "cell_type": "markdown",
   "metadata": {},
   "source": [
    "Improve your initial model according to you answer above. Write the new definition in the cell below and train it."
   ]
  },
  {
   "cell_type": "code",
   "execution_count": 3,
   "metadata": {},
   "outputs": [
    {
     "name": "stdout",
     "output_type": "stream",
     "text": [
      "_________________________________________________________________\n",
      "Layer (type)                 Output Shape              Param #   \n",
      "=================================================================\n",
      "conv2d_1 (Conv2D)            (None, 222, 222, 50)      1400      \n",
      "_________________________________________________________________\n",
      "conv2d_2 (Conv2D)            (None, 220, 220, 50)      22550     \n",
      "_________________________________________________________________\n",
      "conv2d_3 (Conv2D)            (None, 218, 218, 50)      22550     \n",
      "_________________________________________________________________\n",
      "max_pooling2d_1 (MaxPooling2 (None, 109, 109, 50)      0         \n",
      "_________________________________________________________________\n",
      "conv2d_4 (Conv2D)            (None, 107, 107, 200)     90200     \n",
      "_________________________________________________________________\n",
      "conv2d_5 (Conv2D)            (None, 105, 105, 200)     360200    \n",
      "_________________________________________________________________\n",
      "conv2d_6 (Conv2D)            (None, 103, 103, 300)     540300    \n",
      "_________________________________________________________________\n",
      "max_pooling2d_2 (MaxPooling2 (None, 51, 51, 300)       0         \n",
      "_________________________________________________________________\n",
      "dropout_1 (Dropout)          (None, 51, 51, 300)       0         \n",
      "_________________________________________________________________\n",
      "conv2d_7 (Conv2D)            (None, 49, 49, 300)       810300    \n",
      "_________________________________________________________________\n",
      "conv2d_8 (Conv2D)            (None, 47, 47, 20)        54020     \n",
      "_________________________________________________________________\n",
      "max_pooling2d_3 (MaxPooling2 (None, 23, 23, 20)        0         \n",
      "_________________________________________________________________\n",
      "dropout_2 (Dropout)          (None, 23, 23, 20)        0         \n",
      "_________________________________________________________________\n",
      "flatten_1 (Flatten)          (None, 10580)             0         \n",
      "_________________________________________________________________\n",
      "dense_1 (Dense)              (None, 512)               5417472   \n",
      "_________________________________________________________________\n",
      "dropout_3 (Dropout)          (None, 512)               0         \n",
      "_________________________________________________________________\n",
      "dense_2 (Dense)              (None, 10)                5130      \n",
      "_________________________________________________________________\n",
      "dense_3 (Dense)              (None, 2)                 22        \n",
      "=================================================================\n",
      "Total params: 7,324,144\n",
      "Trainable params: 7,324,144\n",
      "Non-trainable params: 0\n",
      "_________________________________________________________________\n",
      "Epoch 1/200\n",
      " - 47s - loss: 0.8043 - acc: 0.4969 - val_loss: 0.6936 - val_acc: 0.4987\n",
      "Epoch 2/200\n",
      " - 39s - loss: 0.7016 - acc: 0.5136 - val_loss: 0.6926 - val_acc: 0.5147\n",
      "Epoch 3/200\n",
      " - 39s - loss: 0.6989 - acc: 0.5080 - val_loss: 0.6908 - val_acc: 0.5040\n",
      "Epoch 4/200\n",
      " - 39s - loss: 0.6955 - acc: 0.5047 - val_loss: 0.6910 - val_acc: 0.5413\n",
      "Epoch 5/200\n",
      " - 38s - loss: 0.6917 - acc: 0.5179 - val_loss: 0.6867 - val_acc: 0.5013\n",
      "Epoch 6/200\n",
      " - 39s - loss: 0.6892 - acc: 0.5329 - val_loss: 0.6878 - val_acc: 0.5553\n",
      "Epoch 7/200\n",
      " - 39s - loss: 0.6864 - acc: 0.5439 - val_loss: 0.6846 - val_acc: 0.5233\n",
      "Epoch 8/200\n",
      " - 39s - loss: 0.6792 - acc: 0.5499 - val_loss: 0.6758 - val_acc: 0.5580\n",
      "Epoch 9/200\n",
      " - 38s - loss: 0.6777 - acc: 0.5622 - val_loss: 0.6790 - val_acc: 0.5267\n",
      "Epoch 10/200\n",
      " - 39s - loss: 0.6704 - acc: 0.5686 - val_loss: 0.6692 - val_acc: 0.5620\n",
      "Epoch 11/200\n",
      " - 38s - loss: 0.6676 - acc: 0.5703 - val_loss: 0.6727 - val_acc: 0.5613\n",
      "Epoch 12/200\n",
      " - 39s - loss: 0.6608 - acc: 0.5858 - val_loss: 0.6597 - val_acc: 0.5853\n",
      "Epoch 13/200\n",
      " - 39s - loss: 0.6483 - acc: 0.5938 - val_loss: 0.6578 - val_acc: 0.5900\n",
      "Epoch 14/200\n",
      " - 39s - loss: 0.6488 - acc: 0.6071 - val_loss: 0.6535 - val_acc: 0.5987\n",
      "Epoch 15/200\n",
      " - 39s - loss: 0.6380 - acc: 0.6235 - val_loss: 0.6390 - val_acc: 0.6360\n",
      "Epoch 16/200\n",
      " - 39s - loss: 0.6269 - acc: 0.6435 - val_loss: 0.6165 - val_acc: 0.6593\n",
      "Epoch 17/200\n",
      " - 39s - loss: 0.5944 - acc: 0.6710 - val_loss: 0.5963 - val_acc: 0.6833\n",
      "Epoch 18/200\n",
      " - 39s - loss: 0.6022 - acc: 0.6656 - val_loss: 0.5973 - val_acc: 0.6780\n",
      "Epoch 19/200\n",
      " - 39s - loss: 0.5846 - acc: 0.6817 - val_loss: 0.5780 - val_acc: 0.6960\n",
      "Epoch 20/200\n",
      " - 39s - loss: 0.5672 - acc: 0.7058 - val_loss: 0.5821 - val_acc: 0.6893\n",
      "Epoch 21/200\n",
      " - 38s - loss: 0.5559 - acc: 0.7064 - val_loss: 0.5747 - val_acc: 0.6927\n",
      "Epoch 22/200\n",
      " - 39s - loss: 0.5401 - acc: 0.7162 - val_loss: 0.5787 - val_acc: 0.6873\n",
      "Epoch 23/200\n",
      " - 39s - loss: 0.5439 - acc: 0.7187 - val_loss: 0.6033 - val_acc: 0.6800\n",
      "Epoch 24/200\n",
      " - 39s - loss: 0.5373 - acc: 0.7258 - val_loss: 0.5669 - val_acc: 0.6980\n",
      "Epoch 25/200\n",
      " - 39s - loss: 0.5160 - acc: 0.7458 - val_loss: 0.5760 - val_acc: 0.6900\n",
      "Epoch 26/200\n",
      " - 39s - loss: 0.5223 - acc: 0.7373 - val_loss: 0.5589 - val_acc: 0.7087\n",
      "Epoch 27/200\n",
      " - 39s - loss: 0.5017 - acc: 0.7508 - val_loss: 0.5564 - val_acc: 0.7153\n",
      "Epoch 28/200\n",
      " - 39s - loss: 0.4984 - acc: 0.7591 - val_loss: 0.5498 - val_acc: 0.7113\n",
      "Epoch 29/200\n",
      " - 39s - loss: 0.4826 - acc: 0.7645 - val_loss: 0.5476 - val_acc: 0.7147\n",
      "Epoch 30/200\n",
      " - 39s - loss: 0.4822 - acc: 0.7672 - val_loss: 0.5460 - val_acc: 0.7080\n",
      "Epoch 31/200\n",
      " - 39s - loss: 0.4604 - acc: 0.7788 - val_loss: 0.5721 - val_acc: 0.6913\n",
      "Epoch 32/200\n",
      " - 39s - loss: 0.4641 - acc: 0.7788 - val_loss: 0.5480 - val_acc: 0.7227\n",
      "Epoch 33/200\n",
      " - 39s - loss: 0.4616 - acc: 0.7755 - val_loss: 0.5661 - val_acc: 0.6920\n",
      "Epoch 34/200\n",
      " - 39s - loss: 0.4346 - acc: 0.7971 - val_loss: 0.5415 - val_acc: 0.7167\n",
      "Epoch 35/200\n",
      " - 39s - loss: 0.4158 - acc: 0.8067 - val_loss: 0.5548 - val_acc: 0.7280\n",
      "Epoch 36/200\n",
      " - 39s - loss: 0.4282 - acc: 0.7944 - val_loss: 0.5545 - val_acc: 0.7093\n",
      "Epoch 37/200\n",
      " - 39s - loss: 0.4040 - acc: 0.8151 - val_loss: 0.5579 - val_acc: 0.7140\n",
      "Epoch 38/200\n",
      " - 39s - loss: 0.3874 - acc: 0.8287 - val_loss: 0.5323 - val_acc: 0.7327\n",
      "Epoch 39/200\n",
      " - 39s - loss: 0.3895 - acc: 0.8207 - val_loss: 0.5453 - val_acc: 0.7253\n",
      "Epoch 40/200\n",
      " - 39s - loss: 0.3763 - acc: 0.8327 - val_loss: 0.5387 - val_acc: 0.7240\n",
      "Epoch 41/200\n",
      " - 39s - loss: 0.3706 - acc: 0.8403 - val_loss: 0.5523 - val_acc: 0.7293\n",
      "Epoch 42/200\n",
      " - 39s - loss: 0.3601 - acc: 0.8399 - val_loss: 0.5461 - val_acc: 0.7233\n",
      "Epoch 43/200\n",
      " - 39s - loss: 0.3424 - acc: 0.8502 - val_loss: 0.5480 - val_acc: 0.7327\n",
      "Epoch 44/200\n",
      " - 39s - loss: 0.3316 - acc: 0.8549 - val_loss: 0.5838 - val_acc: 0.7193\n",
      "Epoch 45/200\n",
      " - 39s - loss: 0.3238 - acc: 0.8586 - val_loss: 0.5703 - val_acc: 0.7260\n",
      "Epoch 46/200\n",
      " - 39s - loss: 0.3348 - acc: 0.8497 - val_loss: 0.5774 - val_acc: 0.7253\n",
      "Epoch 47/200\n",
      " - 39s - loss: 0.2883 - acc: 0.8812 - val_loss: 0.5781 - val_acc: 0.7380\n",
      "Epoch 48/200\n",
      " - 39s - loss: 0.3016 - acc: 0.8659 - val_loss: 0.5696 - val_acc: 0.7327\n",
      "Epoch 49/200\n",
      " - 39s - loss: 0.2861 - acc: 0.8741 - val_loss: 0.5856 - val_acc: 0.7367\n",
      "Epoch 50/200\n",
      " - 39s - loss: 0.2851 - acc: 0.8777 - val_loss: 0.5723 - val_acc: 0.7287\n",
      "Epoch 51/200\n",
      " - 39s - loss: 0.2737 - acc: 0.8855 - val_loss: 0.5535 - val_acc: 0.7440\n",
      "Epoch 52/200\n",
      " - 39s - loss: 0.2616 - acc: 0.8883 - val_loss: 0.5792 - val_acc: 0.7473\n",
      "Epoch 53/200\n",
      " - 39s - loss: 0.2514 - acc: 0.8916 - val_loss: 0.5831 - val_acc: 0.7380\n",
      "Epoch 54/200\n",
      " - 39s - loss: 0.2380 - acc: 0.9025 - val_loss: 0.5943 - val_acc: 0.7387\n",
      "Epoch 55/200\n",
      " - 39s - loss: 0.2514 - acc: 0.8917 - val_loss: 0.5894 - val_acc: 0.7453\n",
      "Epoch 56/200\n",
      " - 39s - loss: 0.2301 - acc: 0.9030 - val_loss: 0.5995 - val_acc: 0.7427\n",
      "Epoch 57/200\n",
      " - 39s - loss: 0.2229 - acc: 0.9094 - val_loss: 0.5810 - val_acc: 0.7480\n",
      "Epoch 58/200\n",
      " - 39s - loss: 0.2127 - acc: 0.9089 - val_loss: 0.6086 - val_acc: 0.7380\n",
      "Epoch 59/200\n",
      " - 39s - loss: 0.2118 - acc: 0.9177 - val_loss: 0.6013 - val_acc: 0.7440\n",
      "Epoch 60/200\n",
      " - 39s - loss: 0.2027 - acc: 0.9152 - val_loss: 0.6135 - val_acc: 0.7420\n",
      "Epoch 61/200\n",
      " - 39s - loss: 0.2063 - acc: 0.9165 - val_loss: 0.6072 - val_acc: 0.7413\n",
      "Epoch 62/200\n",
      " - 39s - loss: 0.1838 - acc: 0.9232 - val_loss: 0.6390 - val_acc: 0.7373\n",
      "Epoch 63/200\n",
      " - 39s - loss: 0.1854 - acc: 0.9242 - val_loss: 0.6241 - val_acc: 0.7480\n",
      "Epoch 64/200\n",
      " - 39s - loss: 0.1773 - acc: 0.9266 - val_loss: 0.6412 - val_acc: 0.7453\n"
     ]
    },
    {
     "name": "stdout",
     "output_type": "stream",
     "text": [
      "Epoch 65/200\n",
      " - 39s - loss: 0.1712 - acc: 0.9334 - val_loss: 0.6599 - val_acc: 0.7427\n",
      "Epoch 66/200\n",
      " - 39s - loss: 0.1657 - acc: 0.9382 - val_loss: 0.6497 - val_acc: 0.7433\n",
      "Epoch 67/200\n",
      " - 39s - loss: 0.1653 - acc: 0.9296 - val_loss: 0.6526 - val_acc: 0.7460\n",
      "Epoch 68/200\n",
      " - 39s - loss: 0.1507 - acc: 0.9436 - val_loss: 0.6984 - val_acc: 0.7420\n",
      "Epoch 69/200\n",
      " - 39s - loss: 0.1465 - acc: 0.9439 - val_loss: 0.7174 - val_acc: 0.7420\n",
      "Epoch 70/200\n",
      " - 39s - loss: 0.1399 - acc: 0.9483 - val_loss: 0.6816 - val_acc: 0.7473\n",
      "Epoch 71/200\n",
      " - 39s - loss: 0.1390 - acc: 0.9474 - val_loss: 0.6750 - val_acc: 0.7407\n",
      "Epoch 72/200\n",
      " - 39s - loss: 0.1449 - acc: 0.9427 - val_loss: 0.6889 - val_acc: 0.7473\n",
      "Epoch 73/200\n",
      " - 39s - loss: 0.1217 - acc: 0.9503 - val_loss: 0.7034 - val_acc: 0.7447\n",
      "Epoch 74/200\n",
      " - 39s - loss: 0.1313 - acc: 0.9466 - val_loss: 0.6894 - val_acc: 0.7427\n",
      "Epoch 75/200\n",
      " - 39s - loss: 0.1269 - acc: 0.9452 - val_loss: 0.7074 - val_acc: 0.7493\n",
      "Epoch 76/200\n",
      " - 39s - loss: 0.1193 - acc: 0.9519 - val_loss: 0.7327 - val_acc: 0.7353\n",
      "Epoch 77/200\n",
      " - 39s - loss: 0.1122 - acc: 0.9603 - val_loss: 0.8225 - val_acc: 0.7560\n",
      "Epoch 78/200\n",
      " - 39s - loss: 0.1175 - acc: 0.9559 - val_loss: 0.7362 - val_acc: 0.7413\n",
      "Epoch 79/200\n",
      " - 39s - loss: 0.1029 - acc: 0.9600 - val_loss: 0.7677 - val_acc: 0.7480\n",
      "Epoch 80/200\n",
      " - 39s - loss: 0.1132 - acc: 0.9591 - val_loss: 0.7191 - val_acc: 0.7507\n",
      "Epoch 81/200\n",
      " - 39s - loss: 0.1084 - acc: 0.9571 - val_loss: 0.7271 - val_acc: 0.7380\n",
      "Epoch 82/200\n",
      " - 39s - loss: 0.1021 - acc: 0.9612 - val_loss: 0.7255 - val_acc: 0.7500\n",
      "Epoch 83/200\n",
      " - 39s - loss: 0.0971 - acc: 0.9673 - val_loss: 0.7574 - val_acc: 0.7480\n",
      "Epoch 84/200\n",
      " - 39s - loss: 0.0977 - acc: 0.9673 - val_loss: 0.8071 - val_acc: 0.7487\n",
      "Epoch 85/200\n",
      " - 39s - loss: 0.0908 - acc: 0.9667 - val_loss: 0.8090 - val_acc: 0.7553\n",
      "Epoch 86/200\n",
      " - 39s - loss: 0.0929 - acc: 0.9664 - val_loss: 0.7792 - val_acc: 0.7513\n",
      "Epoch 87/200\n",
      " - 39s - loss: 0.0863 - acc: 0.9670 - val_loss: 0.7891 - val_acc: 0.7427\n",
      "Epoch 88/200\n",
      " - 39s - loss: 0.0812 - acc: 0.9700 - val_loss: 0.8315 - val_acc: 0.7333\n",
      "Epoch 89/200\n",
      " - 38s - loss: 0.0973 - acc: 0.9605 - val_loss: 0.8163 - val_acc: 0.7440\n",
      "Epoch 90/200\n",
      " - 39s - loss: 0.0783 - acc: 0.9740 - val_loss: 0.7779 - val_acc: 0.7587\n",
      "Epoch 91/200\n",
      " - 39s - loss: 0.0786 - acc: 0.9731 - val_loss: 0.8682 - val_acc: 0.7380\n",
      "Epoch 92/200\n",
      " - 39s - loss: 0.0802 - acc: 0.9700 - val_loss: 0.8098 - val_acc: 0.7587\n",
      "Epoch 93/200\n",
      " - 39s - loss: 0.0771 - acc: 0.9711 - val_loss: 0.7999 - val_acc: 0.7553\n",
      "Epoch 94/200\n",
      " - 39s - loss: 0.0660 - acc: 0.9787 - val_loss: 0.8575 - val_acc: 0.7400\n",
      "Epoch 95/200\n",
      " - 39s - loss: 0.0778 - acc: 0.9717 - val_loss: 0.8373 - val_acc: 0.7520\n",
      "Epoch 96/200\n",
      " - 38s - loss: 0.0724 - acc: 0.9734 - val_loss: 0.8575 - val_acc: 0.7493\n",
      "Epoch 97/200\n",
      " - 39s - loss: 0.0573 - acc: 0.9761 - val_loss: 0.8536 - val_acc: 0.7520\n",
      "Epoch 98/200\n",
      " - 39s - loss: 0.0668 - acc: 0.9761 - val_loss: 0.8865 - val_acc: 0.7480\n",
      "Epoch 99/200\n",
      " - 39s - loss: 0.0592 - acc: 0.9820 - val_loss: 0.9150 - val_acc: 0.7453\n",
      "Epoch 100/200\n",
      " - 39s - loss: 0.0659 - acc: 0.9750 - val_loss: 0.9827 - val_acc: 0.7473\n",
      "Epoch 101/200\n",
      " - 39s - loss: 0.0563 - acc: 0.9798 - val_loss: 0.8691 - val_acc: 0.7400\n",
      "Epoch 102/200\n",
      " - 39s - loss: 0.0664 - acc: 0.9766 - val_loss: 0.8570 - val_acc: 0.7513\n",
      "Epoch 103/200\n",
      " - 39s - loss: 0.0536 - acc: 0.9801 - val_loss: 0.9304 - val_acc: 0.7393\n",
      "Epoch 104/200\n",
      " - 39s - loss: 0.0597 - acc: 0.9769 - val_loss: 0.8915 - val_acc: 0.7467\n",
      "Epoch 105/200\n",
      " - 39s - loss: 0.0513 - acc: 0.9835 - val_loss: 0.9122 - val_acc: 0.7453\n",
      "Epoch 106/200\n",
      " - 39s - loss: 0.0675 - acc: 0.9726 - val_loss: 0.9095 - val_acc: 0.7427\n",
      "Epoch 107/200\n",
      " - 39s - loss: 0.0706 - acc: 0.9755 - val_loss: 0.8833 - val_acc: 0.7453\n",
      "Epoch 108/200\n",
      " - 39s - loss: 0.0529 - acc: 0.9842 - val_loss: 0.9176 - val_acc: 0.7440\n",
      "Epoch 109/200\n",
      " - 39s - loss: 0.0552 - acc: 0.9819 - val_loss: 0.9006 - val_acc: 0.7433\n",
      "Epoch 110/200\n",
      " - 39s - loss: 0.0472 - acc: 0.9829 - val_loss: 0.8645 - val_acc: 0.7540\n",
      "Epoch 111/200\n",
      " - 39s - loss: 0.0481 - acc: 0.9835 - val_loss: 0.9634 - val_acc: 0.7453\n",
      "Epoch 112/200\n",
      " - 39s - loss: 0.0540 - acc: 0.9797 - val_loss: 0.9323 - val_acc: 0.7500\n",
      "Epoch 113/200\n",
      " - 39s - loss: 0.0455 - acc: 0.9851 - val_loss: 0.8979 - val_acc: 0.7507\n",
      "Epoch 114/200\n",
      " - 39s - loss: 0.0409 - acc: 0.9857 - val_loss: 0.9132 - val_acc: 0.7567\n",
      "Epoch 115/200\n",
      " - 39s - loss: 0.0497 - acc: 0.9845 - val_loss: 0.9242 - val_acc: 0.7533\n",
      "Epoch 116/200\n",
      " - 39s - loss: 0.0460 - acc: 0.9831 - val_loss: 0.9284 - val_acc: 0.7553\n",
      "Epoch 117/200\n",
      " - 39s - loss: 0.0544 - acc: 0.9791 - val_loss: 0.8943 - val_acc: 0.7587\n",
      "Epoch 118/200\n",
      " - 39s - loss: 0.0421 - acc: 0.9842 - val_loss: 0.9191 - val_acc: 0.7593\n",
      "Epoch 119/200\n",
      " - 39s - loss: 0.0305 - acc: 0.9907 - val_loss: 1.0135 - val_acc: 0.7533\n",
      "Epoch 120/200\n",
      " - 39s - loss: 0.0386 - acc: 0.9873 - val_loss: 0.9609 - val_acc: 0.7593\n",
      "Epoch 121/200\n",
      " - 39s - loss: 0.0476 - acc: 0.9839 - val_loss: 0.9559 - val_acc: 0.7467\n",
      "Epoch 122/200\n",
      " - 39s - loss: 0.0417 - acc: 0.9886 - val_loss: 1.0707 - val_acc: 0.7453\n",
      "Epoch 123/200\n",
      " - 39s - loss: 0.0475 - acc: 0.9807 - val_loss: 0.9469 - val_acc: 0.7527\n",
      "Epoch 124/200\n",
      " - 39s - loss: 0.0362 - acc: 0.9880 - val_loss: 0.9899 - val_acc: 0.7440\n",
      "Epoch 125/200\n",
      " - 39s - loss: 0.0386 - acc: 0.9877 - val_loss: 0.9447 - val_acc: 0.7573\n",
      "Epoch 126/200\n",
      " - 39s - loss: 0.0316 - acc: 0.9904 - val_loss: 1.0482 - val_acc: 0.7400\n",
      "Epoch 127/200\n",
      " - 39s - loss: 0.0433 - acc: 0.9851 - val_loss: 0.9468 - val_acc: 0.7440\n",
      "Epoch 128/200\n",
      " - 39s - loss: 0.0329 - acc: 0.9912 - val_loss: 0.9802 - val_acc: 0.7513\n",
      "Epoch 129/200\n",
      " - 39s - loss: 0.0495 - acc: 0.9816 - val_loss: 0.9956 - val_acc: 0.7433\n",
      "Epoch 130/200\n",
      " - 39s - loss: 0.0345 - acc: 0.9880 - val_loss: 1.0051 - val_acc: 0.7527\n",
      "Epoch 131/200\n",
      " - 39s - loss: 0.0369 - acc: 0.9886 - val_loss: 0.9821 - val_acc: 0.7553\n",
      "Epoch 132/200\n",
      " - 39s - loss: 0.0296 - acc: 0.9921 - val_loss: 0.9801 - val_acc: 0.7560\n",
      "Epoch 133/200\n",
      " - 39s - loss: 0.0331 - acc: 0.9907 - val_loss: 0.9408 - val_acc: 0.7713\n",
      "Epoch 134/200\n",
      " - 39s - loss: 0.0338 - acc: 0.9874 - val_loss: 0.9226 - val_acc: 0.7600\n",
      "Epoch 135/200\n",
      " - 39s - loss: 0.0323 - acc: 0.9904 - val_loss: 0.9935 - val_acc: 0.7613\n",
      "Epoch 136/200\n",
      " - 39s - loss: 0.0363 - acc: 0.9890 - val_loss: 0.9639 - val_acc: 0.7653\n",
      "Epoch 137/200\n",
      " - 39s - loss: 0.0284 - acc: 0.9904 - val_loss: 0.9883 - val_acc: 0.7587\n",
      "Epoch 138/200\n",
      " - 39s - loss: 0.0271 - acc: 0.9918 - val_loss: 1.0052 - val_acc: 0.7513\n",
      "Epoch 139/200\n",
      " - 39s - loss: 0.0278 - acc: 0.9918 - val_loss: 1.0157 - val_acc: 0.7540\n",
      "Epoch 140/200\n",
      " - 39s - loss: 0.0304 - acc: 0.9915 - val_loss: 1.0249 - val_acc: 0.7513\n",
      "Epoch 141/200\n",
      " - 39s - loss: 0.0309 - acc: 0.9878 - val_loss: 1.0726 - val_acc: 0.7533\n",
      "Epoch 142/200\n",
      " - 39s - loss: 0.0382 - acc: 0.9883 - val_loss: 0.9643 - val_acc: 0.7553\n",
      "Epoch 143/200\n",
      " - 39s - loss: 0.0235 - acc: 0.9936 - val_loss: 1.0664 - val_acc: 0.7553\n",
      "Epoch 144/200\n",
      " - 39s - loss: 0.0197 - acc: 0.9950 - val_loss: 1.0842 - val_acc: 0.7560\n",
      "Epoch 145/200\n",
      " - 39s - loss: 0.0260 - acc: 0.9913 - val_loss: 1.0380 - val_acc: 0.7487\n",
      "Epoch 146/200\n",
      " - 39s - loss: 0.0271 - acc: 0.9924 - val_loss: 1.0161 - val_acc: 0.7493\n",
      "Epoch 147/200\n",
      " - 39s - loss: 0.0345 - acc: 0.9912 - val_loss: 1.0035 - val_acc: 0.7560\n",
      "Epoch 148/200\n",
      " - 39s - loss: 0.0238 - acc: 0.9939 - val_loss: 1.0586 - val_acc: 0.7573\n",
      "Epoch 149/200\n",
      " - 39s - loss: 0.0289 - acc: 0.9904 - val_loss: 1.0384 - val_acc: 0.7427\n",
      "Epoch 150/200\n",
      " - 39s - loss: 0.0272 - acc: 0.9915 - val_loss: 0.9956 - val_acc: 0.7533\n",
      "Epoch 151/200\n",
      " - 39s - loss: 0.0184 - acc: 0.9947 - val_loss: 1.1847 - val_acc: 0.7520\n",
      "Epoch 152/200\n",
      " - 39s - loss: 0.0269 - acc: 0.9901 - val_loss: 1.0655 - val_acc: 0.7407\n",
      "Epoch 153/200\n",
      " - 39s - loss: 0.0187 - acc: 0.9942 - val_loss: 1.0469 - val_acc: 0.7573\n",
      "Epoch 154/200\n",
      " - 39s - loss: 0.0204 - acc: 0.9939 - val_loss: 1.1262 - val_acc: 0.7447\n",
      "Epoch 155/200\n",
      " - 39s - loss: 0.0202 - acc: 0.9942 - val_loss: 1.0428 - val_acc: 0.7587\n",
      "Epoch 156/200\n",
      " - 39s - loss: 0.0190 - acc: 0.9945 - val_loss: 1.1043 - val_acc: 0.7620\n",
      "Epoch 157/200\n",
      " - 39s - loss: 0.0302 - acc: 0.9921 - val_loss: 1.0459 - val_acc: 0.7573\n",
      "Epoch 158/200\n",
      " - 39s - loss: 0.0168 - acc: 0.9950 - val_loss: 1.1128 - val_acc: 0.7473\n",
      "Epoch 159/200\n",
      " - 39s - loss: 0.0265 - acc: 0.9915 - val_loss: 1.1197 - val_acc: 0.7613\n"
     ]
    },
    {
     "name": "stdout",
     "output_type": "stream",
     "text": [
      "Epoch 160/200\n",
      " - 39s - loss: 0.0190 - acc: 0.9939 - val_loss: 1.0817 - val_acc: 0.7507\n",
      "Epoch 161/200\n",
      " - 39s - loss: 0.0254 - acc: 0.9900 - val_loss: 1.1168 - val_acc: 0.7507\n",
      "Epoch 162/200\n",
      " - 39s - loss: 0.0168 - acc: 0.9953 - val_loss: 1.1461 - val_acc: 0.7547\n",
      "Epoch 163/200\n",
      " - 39s - loss: 0.0309 - acc: 0.9898 - val_loss: 1.1003 - val_acc: 0.7493\n",
      "Epoch 164/200\n",
      " - 39s - loss: 0.0199 - acc: 0.9933 - val_loss: 1.0947 - val_acc: 0.7460\n",
      "Epoch 165/200\n",
      " - 39s - loss: 0.0237 - acc: 0.9945 - val_loss: 1.0975 - val_acc: 0.7620\n",
      "Epoch 166/200\n",
      " - 39s - loss: 0.0279 - acc: 0.9913 - val_loss: 1.1372 - val_acc: 0.7487\n",
      "Epoch 167/200\n",
      " - 39s - loss: 0.0160 - acc: 0.9947 - val_loss: 1.1024 - val_acc: 0.7493\n",
      "Epoch 168/200\n",
      " - 39s - loss: 0.0181 - acc: 0.9939 - val_loss: 1.1214 - val_acc: 0.7727\n",
      "Epoch 169/200\n",
      " - 39s - loss: 0.0192 - acc: 0.9930 - val_loss: 1.0847 - val_acc: 0.7587\n",
      "Epoch 170/200\n",
      " - 39s - loss: 0.0184 - acc: 0.9953 - val_loss: 1.1464 - val_acc: 0.7467\n",
      "Epoch 171/200\n",
      " - 39s - loss: 0.0219 - acc: 0.9937 - val_loss: 1.1320 - val_acc: 0.7467\n",
      "Epoch 172/200\n",
      " - 39s - loss: 0.0209 - acc: 0.9930 - val_loss: 1.1497 - val_acc: 0.7540\n",
      "Epoch 173/200\n",
      " - 39s - loss: 0.0316 - acc: 0.9895 - val_loss: 1.0832 - val_acc: 0.7580\n",
      "Epoch 174/200\n",
      " - 39s - loss: 0.0208 - acc: 0.9933 - val_loss: 1.0935 - val_acc: 0.7660\n",
      "Epoch 175/200\n",
      " - 39s - loss: 0.0177 - acc: 0.9924 - val_loss: 1.1104 - val_acc: 0.7480\n",
      "Epoch 176/200\n",
      " - 39s - loss: 0.0281 - acc: 0.9904 - val_loss: 1.0295 - val_acc: 0.7653\n",
      "Epoch 177/200\n",
      " - 39s - loss: 0.0122 - acc: 0.9965 - val_loss: 1.0814 - val_acc: 0.7740\n",
      "Epoch 178/200\n",
      " - 39s - loss: 0.0255 - acc: 0.9904 - val_loss: 1.1775 - val_acc: 0.7553\n",
      "Epoch 179/200\n",
      " - 39s - loss: 0.0177 - acc: 0.9939 - val_loss: 1.1474 - val_acc: 0.7493\n",
      "Epoch 180/200\n",
      " - 39s - loss: 0.0110 - acc: 0.9971 - val_loss: 1.1272 - val_acc: 0.7600\n",
      "Epoch 181/200\n",
      " - 39s - loss: 0.0206 - acc: 0.9939 - val_loss: 1.0898 - val_acc: 0.7653\n",
      "Epoch 182/200\n",
      " - 39s - loss: 0.0203 - acc: 0.9933 - val_loss: 1.1255 - val_acc: 0.7600\n",
      "Epoch 183/200\n",
      " - 39s - loss: 0.0237 - acc: 0.9921 - val_loss: 1.2419 - val_acc: 0.7447\n",
      "Epoch 184/200\n",
      " - 39s - loss: 0.0181 - acc: 0.9947 - val_loss: 1.1059 - val_acc: 0.7567\n",
      "Epoch 185/200\n",
      " - 39s - loss: 0.0151 - acc: 0.9947 - val_loss: 1.2102 - val_acc: 0.7567\n",
      "Epoch 186/200\n",
      " - 39s - loss: 0.0221 - acc: 0.9939 - val_loss: 1.1120 - val_acc: 0.7753\n",
      "Epoch 187/200\n",
      " - 39s - loss: 0.0152 - acc: 0.9956 - val_loss: 1.0767 - val_acc: 0.7753\n",
      "Epoch 188/200\n",
      " - 39s - loss: 0.0195 - acc: 0.9947 - val_loss: 1.1420 - val_acc: 0.7700\n",
      "Epoch 189/200\n",
      " - 39s - loss: 0.0178 - acc: 0.9942 - val_loss: 1.1084 - val_acc: 0.7720\n",
      "Epoch 190/200\n",
      " - 39s - loss: 0.0164 - acc: 0.9942 - val_loss: 1.0861 - val_acc: 0.7640\n",
      "Epoch 191/200\n",
      " - 39s - loss: 0.0178 - acc: 0.9956 - val_loss: 1.0733 - val_acc: 0.7607\n",
      "Epoch 192/200\n",
      " - 39s - loss: 0.0168 - acc: 0.9930 - val_loss: 1.1509 - val_acc: 0.7653\n",
      "Epoch 193/200\n",
      " - 39s - loss: 0.0164 - acc: 0.9945 - val_loss: 1.1707 - val_acc: 0.7607\n",
      "Epoch 194/200\n",
      " - 39s - loss: 0.0165 - acc: 0.9930 - val_loss: 1.1432 - val_acc: 0.7640\n",
      "Epoch 195/200\n",
      " - 39s - loss: 0.0104 - acc: 0.9968 - val_loss: 1.1567 - val_acc: 0.7580\n",
      "Epoch 196/200\n",
      " - 39s - loss: 0.0162 - acc: 0.9953 - val_loss: 1.1255 - val_acc: 0.7647\n",
      "Epoch 197/200\n",
      " - 39s - loss: 0.0147 - acc: 0.9956 - val_loss: 1.1536 - val_acc: 0.7653\n",
      "Epoch 198/200\n",
      " - 39s - loss: 0.0162 - acc: 0.9945 - val_loss: 1.1377 - val_acc: 0.7533\n",
      "Epoch 199/200\n",
      " - 39s - loss: 0.0175 - acc: 0.9942 - val_loss: 1.1251 - val_acc: 0.7567\n",
      "Epoch 200/200\n",
      " - 39s - loss: 0.0117 - acc: 0.9962 - val_loss: 1.1017 - val_acc: 0.7707\n"
     ]
    }
   ],
   "source": [
    "#convolutional layers\n",
    "conv_layer_1 = Conv2D(50,(3,3), activation='relu', input_shape = (224,224,3))\n",
    "conv_layer_2 = Conv2D(50,(3,3), activation='relu')\n",
    "conv_layer_3 = Conv2D(50,(3,3), activation='relu')\n",
    "conv_layer_2_1 = Conv2D(200,(3,3), activation='relu')\n",
    "conv_layer_2_2 = Conv2D(200,(3,3), activation='relu')\n",
    "conv_layer_2_3 = Conv2D(300,(3,3), activation='relu')\n",
    "conv_layer_3_1 = Conv2D(300,(3,3), activation='relu')\n",
    "conv_layer_3_2 = Conv2D(20,(3,3), activation='relu')\n",
    "\n",
    "#maxpooling layers\n",
    "maxpool_layer_1 = keras.layers.MaxPooling2D(pool_size=(2, 2), strides=None, padding='valid', data_format=None)\n",
    "maxpool_layer_2 = keras.layers.MaxPooling2D(pool_size=(2, 2), strides=None, padding='valid', data_format=None)\n",
    "maxpool_layer_3 = keras.layers.MaxPooling2D(pool_size=(2, 2), strides=None, padding='valid', data_format=None)\n",
    "maxpool_layer_4 = keras.layers.MaxPooling2D(pool_size=(3, 3), strides=2, padding='valid', data_format=None)\n",
    "\n",
    "#dropoutlayer\n",
    "dropout_layer_1 = keras.layers.Dropout(0.1, noise_shape=None, seed=None)\n",
    "dropout_layer_2 = keras.layers.Dropout(0.3, noise_shape=None, seed=None)\n",
    "dropout_layer_3 = keras.layers.Dropout(0.5, noise_shape=None, seed=None)\n",
    "\n",
    "#flattening layer\n",
    "flatening_layer = Flatten()\n",
    "\n",
    "#dense layers\n",
    "dense_layer_1 = Dense(512, activation='relu')\n",
    "dense_layer_2 = Dense(10, activation='relu')\n",
    "dense_layer_3 = Dense(2, activation='softmax')\n",
    "\n",
    "#model architecture initialization\n",
    "model_layer_list = [conv_layer_1, conv_layer_2, conv_layer_3,\n",
    "                    maxpool_layer_1, \n",
    "                    conv_layer_2_1, conv_layer_2_2, conv_layer_2_3,\n",
    "                    maxpool_layer_2, dropout_layer_1,\n",
    "                    conv_layer_3_1, conv_layer_3_2,\n",
    "                    maxpool_layer_3, dropout_layer_2, flatening_layer,\n",
    "                    dense_layer_1,\n",
    "                    dropout_layer_3,\n",
    "                    dense_layer_2, dense_layer_3]\n",
    "\n",
    "improved_model = Sequential(model_layer_list)\n",
    "\n",
    "#model optimizer initialisation\n",
    "improved_model.compile(Adam(lr=0.00001),loss='categorical_crossentropy',metrics=['accuracy'])\n",
    "\n",
    "#model architecture overview\n",
    "improved_model.summary()\n",
    "\n",
    "improved_history_graph = improved_model.fit_generator(train_batches, steps_per_epoch = 107,\n",
    "                    validation_data = validation_batches,\n",
    "                    validation_steps = 50, epochs=200, verbose=2)\n",
    "\n",
    "# saving history data to file\n",
    "try:\n",
    "    history =improved_history_graph.history\n",
    "except AttributeError:\n",
    "    print('History is already an dictionary')\n",
    "    \n",
    "path = r\"C:\\Users\\sandr\\Documents\\Skola\\Deep Neural Networks\\Deep-Neural-Network\\Home Assignments\\HA1\\Training history\\Improved\"\n",
    "            \n",
    "list_files = next(os.walk(path))[2] \n",
    "name = '\\History_graph_improved ' +  str(len(list_files)+1)\n",
    "with open(path + name + '.pkl', 'wb') as f:\n",
    "        pickle.dump(history, f)\n",
    "f.close()\n",
    "\n",
    "#saving models to file\n",
    "model_path = r'C:\\Users\\sandr\\Documents\\Skola\\Deep Neural Networks\\Deep-Neural-Network\\Home Assignments\\HA1\\models\\Improved' \n",
    "list_files = next(os.walk(model_path))[2] \n",
    "model_name = '\\Keras model simple CNN ' +  str(len(list_files)+1)\n",
    "improved_model.save(model_path + model_name)"
   ]
  },
  {
   "cell_type": "markdown",
   "metadata": {},
   "source": [
    "Plot the accuracy in the test and validation set, using the initial model and your newly improved one."
   ]
  },
  {
   "cell_type": "code",
   "execution_count": 34,
   "metadata": {},
   "outputs": [
    {
     "data": {
      "image/png": "[encoded data removed]",
      "text/plain": [
       "<matplotlib.figure.Figure at 0x2db90a26b70>"
      ]
     },
     "metadata": {
      "needs_background": "light"
     },
     "output_type": "display_data"
    }
   ],
   "source": [
    "path_simple = r'C:\\Users\\sandr\\Documents\\Skola\\Deep Neural Networks\\Deep-Neural-Network\\Home Assignments\\HA1\\Training history\\Simple'\n",
    "path_improved = r'C:\\Users\\sandr\\Documents\\Skola\\Deep Neural Networks\\Deep-Neural-Network\\Home Assignments\\HA1\\Training history\\Improved'\n",
    "list_files_simple = os.listdir(path_simple)\n",
    "list_files_improved = os.listdir(path_improved)\n",
    "name_simple = '\\History_graph_simple ' +  str(len(list_files_simple)) \n",
    "name_improved = '\\History_graph_improved ' + str(len(list_files_improved))\n",
    "with open(path_simple + name_simple + '.pkl', 'rb') as f:\n",
    "        history_graph_simple = pickle.load(f)\n",
    "f.close()\n",
    "with open(path_improved + name_improved + '.pkl', 'rb') as f:\n",
    "        history_graph_improved = pickle.load(f)\n",
    "f.close()\n",
    "\n",
    "\n",
    "x = np.linspace(0,len(history_graph_simple['loss']),len(history_graph_simple['loss']))\n",
    "\n",
    "fig, ax = plt.subplots()\n",
    "ax.plot(x, history_graph_simple['acc'], label = 'Simple model Training accuracy')\n",
    "ax.plot(x, history_graph_simple['val_acc'], label = 'Simple model validation accuracy')\n",
    "ax.plot(x, history_graph_improved['acc'], label = 'Improved model accuracy')\n",
    "ax.plot(x, history_graph_improved['val_acc'], label = 'Improved model validation accuracy')\n",
    "ax.legend()\n",
    "ax.set_title('Plot of the accuracy for both the simple and improved model') \n",
    "\n",
    "\n",
    "plt.show()"
   ]
  },
  {
   "cell_type": "markdown",
   "metadata": {},
   "source": [
    "Did your results improve? Explain why, or why not.\n",
    "\n",
    "**Your answer**: (fill in here)"
   ]
  },
  {
   "cell_type": "markdown",
   "metadata": {},
   "source": [
    "---\n",
    "## 4. Obtaining the *best* model"
   ]
  },
  {
   "cell_type": "markdown",
   "metadata": {},
   "source": [
    "Continue to improve your model architecture by comparing the value of the metrics you're interested in both the training and validation set. Try different ideas, and consider comparing them using tensorboard. When you're happy with one architecture, copy it in the cell below and train it here. Save the optimization history (i.e. the `history` object returned by the `fit_generator`). You'll use this later to compare your best model with the one using transfer learning.\n",
    "\n",
    "**Note**: When trying different ideas, you'll end up with several different models. However, when submitting your solutions to ping-pong, the cell below must contain only the definition and training of *one* model. Remove all code related to the models that were not chosen."
   ]
  },
  {
   "cell_type": "code",
   "execution_count": null,
   "metadata": {},
   "outputs": [
    {
     "name": "stdout",
     "output_type": "stream",
     "text": [
      "_________________________________________________________________\n",
      "Layer (type)                 Output Shape              Param #   \n",
      "=================================================================\n",
      "conv2d_1 (Conv2D)            (None, 222, 222, 70)      1960      \n",
      "_________________________________________________________________\n",
      "conv2d_2 (Conv2D)            (None, 220, 220, 100)     63100     \n",
      "_________________________________________________________________\n",
      "conv2d_3 (Conv2D)            (None, 218, 218, 100)     90100     \n",
      "_________________________________________________________________\n",
      "max_pooling2d_1 (MaxPooling2 (None, 109, 109, 100)     0         \n",
      "_________________________________________________________________\n",
      "conv2d_4 (Conv2D)            (None, 107, 107, 200)     180200    \n",
      "_________________________________________________________________\n",
      "conv2d_5 (Conv2D)            (None, 105, 105, 200)     360200    \n",
      "_________________________________________________________________\n",
      "conv2d_6 (Conv2D)            (None, 103, 103, 200)     360200    \n",
      "_________________________________________________________________\n",
      "dropout_1 (Dropout)          (None, 103, 103, 200)     0         \n",
      "_________________________________________________________________\n",
      "max_pooling2d_2 (MaxPooling2 (None, 51, 51, 200)       0         \n",
      "_________________________________________________________________\n",
      "conv2d_7 (Conv2D)            (None, 49, 49, 300)       540300    \n",
      "_________________________________________________________________\n",
      "conv2d_8 (Conv2D)            (None, 47, 47, 300)       810300    \n",
      "_________________________________________________________________\n",
      "conv2d_9 (Conv2D)            (None, 45, 45, 400)       1080400   \n",
      "_________________________________________________________________\n",
      "dropout_2 (Dropout)          (None, 45, 45, 400)       0         \n",
      "_________________________________________________________________\n",
      "max_pooling2d_3 (MaxPooling2 (None, 22, 22, 400)       0         \n",
      "_________________________________________________________________\n",
      "conv2d_10 (Conv2D)           (None, 20, 20, 400)       1440400   \n",
      "_________________________________________________________________\n",
      "conv2d_11 (Conv2D)           (None, 18, 18, 400)       1440400   \n",
      "_________________________________________________________________\n",
      "conv2d_12 (Conv2D)           (None, 16, 16, 20)        72020     \n",
      "_________________________________________________________________\n",
      "dropout_3 (Dropout)          (None, 16, 16, 20)        0         \n",
      "_________________________________________________________________\n",
      "max_pooling2d_4 (MaxPooling2 (None, 7, 7, 20)          0         \n",
      "_________________________________________________________________\n",
      "flatten_1 (Flatten)          (None, 980)               0         \n",
      "_________________________________________________________________\n",
      "dense_1 (Dense)              (None, 512)               502272    \n",
      "_________________________________________________________________\n",
      "dropout_4 (Dropout)          (None, 512)               0         \n",
      "_________________________________________________________________\n",
      "dense_2 (Dense)              (None, 100)               51300     \n",
      "_________________________________________________________________\n",
      "dropout_5 (Dropout)          (None, 100)               0         \n",
      "_________________________________________________________________\n",
      "dense_3 (Dense)              (None, 2)                 202       \n",
      "=================================================================\n",
      "Total params: 6,993,354\n",
      "Trainable params: 6,993,354\n",
      "Non-trainable params: 0\n",
      "_________________________________________________________________\n",
      "Epoch 1/200\n",
      " - 70s - loss: 0.9278 - acc: 0.4947 - val_loss: 0.6930 - val_acc: 0.5027\n",
      "Epoch 2/200\n",
      " - 59s - loss: 0.6976 - acc: 0.4955 - val_loss: 0.6931 - val_acc: 0.4920\n",
      "Epoch 3/200\n",
      " - 59s - loss: 0.6942 - acc: 0.5032 - val_loss: 0.6930 - val_acc: 0.5093\n",
      "Epoch 4/200\n",
      " - 59s - loss: 0.6925 - acc: 0.4886 - val_loss: 0.6931 - val_acc: 0.5140\n",
      "Epoch 5/200\n",
      " - 59s - loss: 0.6917 - acc: 0.5061 - val_loss: 0.6928 - val_acc: 0.5180\n",
      "Epoch 6/200\n",
      " - 59s - loss: 0.6921 - acc: 0.4991 - val_loss: 0.6928 - val_acc: 0.5253\n",
      "Epoch 7/200\n",
      " - 59s - loss: 0.6922 - acc: 0.5083 - val_loss: 0.6930 - val_acc: 0.5193\n",
      "Epoch 8/200\n",
      " - 59s - loss: 0.6926 - acc: 0.5093 - val_loss: 0.6928 - val_acc: 0.5220\n",
      "Epoch 9/200\n",
      " - 59s - loss: 0.6914 - acc: 0.5216 - val_loss: 0.6928 - val_acc: 0.5273\n",
      "Epoch 10/200\n",
      " - 59s - loss: 0.6914 - acc: 0.5146 - val_loss: 0.6916 - val_acc: 0.5353\n",
      "Epoch 11/200\n",
      " - 59s - loss: 0.6906 - acc: 0.5252 - val_loss: 0.6926 - val_acc: 0.5147\n",
      "Epoch 12/200\n",
      " - 59s - loss: 0.6911 - acc: 0.5161 - val_loss: 0.6928 - val_acc: 0.5313\n",
      "Epoch 13/200\n",
      " - 59s - loss: 0.6908 - acc: 0.5298 - val_loss: 0.6917 - val_acc: 0.5527\n",
      "Epoch 14/200\n",
      " - 59s - loss: 0.6896 - acc: 0.5079 - val_loss: 0.6907 - val_acc: 0.5400\n",
      "Epoch 15/200\n",
      " - 59s - loss: 0.6903 - acc: 0.5242 - val_loss: 0.6920 - val_acc: 0.5333\n",
      "Epoch 16/200\n",
      " - 59s - loss: 0.6885 - acc: 0.5453 - val_loss: 0.6917 - val_acc: 0.5400\n",
      "Epoch 17/200\n",
      " - 59s - loss: 0.6898 - acc: 0.5139 - val_loss: 0.6900 - val_acc: 0.5500\n",
      "Epoch 18/200\n",
      " - 59s - loss: 0.6861 - acc: 0.5461 - val_loss: 0.6892 - val_acc: 0.5587\n",
      "Epoch 19/200\n",
      " - 59s - loss: 0.6878 - acc: 0.5425 - val_loss: 0.6911 - val_acc: 0.5540\n",
      "Epoch 20/200\n",
      " - 59s - loss: 0.6899 - acc: 0.5459 - val_loss: 0.6923 - val_acc: 0.5273\n",
      "Epoch 21/200\n",
      " - 58s - loss: 0.6871 - acc: 0.5453 - val_loss: 0.6903 - val_acc: 0.5573\n",
      "Epoch 22/200\n",
      " - 59s - loss: 0.6833 - acc: 0.5494 - val_loss: 0.6882 - val_acc: 0.5713\n",
      "Epoch 23/200\n",
      " - 59s - loss: 0.6847 - acc: 0.5499 - val_loss: 0.6893 - val_acc: 0.5467\n",
      "Epoch 24/200\n",
      " - 59s - loss: 0.6847 - acc: 0.5530 - val_loss: 0.6896 - val_acc: 0.5507\n",
      "Epoch 25/200\n",
      " - 59s - loss: 0.6857 - acc: 0.5394 - val_loss: 0.6876 - val_acc: 0.5573\n",
      "Epoch 26/200\n",
      " - 59s - loss: 0.6851 - acc: 0.5502 - val_loss: 0.6860 - val_acc: 0.5767\n",
      "Epoch 27/200\n",
      " - 59s - loss: 0.6848 - acc: 0.5632 - val_loss: 0.6916 - val_acc: 0.5380\n",
      "Epoch 28/200\n",
      " - 59s - loss: 0.6821 - acc: 0.5484 - val_loss: 0.6882 - val_acc: 0.5740\n",
      "Epoch 29/200\n",
      " - 59s - loss: 0.6819 - acc: 0.5533 - val_loss: 0.6869 - val_acc: 0.5753\n",
      "Epoch 30/200\n",
      " - 59s - loss: 0.6838 - acc: 0.5496 - val_loss: 0.6894 - val_acc: 0.5553\n",
      "Epoch 31/200\n",
      " - 59s - loss: 0.6797 - acc: 0.5683 - val_loss: 0.6822 - val_acc: 0.5273\n",
      "Epoch 32/200\n",
      " - 59s - loss: 0.6819 - acc: 0.5675 - val_loss: 0.6837 - val_acc: 0.5660\n",
      "Epoch 33/200\n",
      " - 59s - loss: 0.6830 - acc: 0.5637 - val_loss: 0.6866 - val_acc: 0.5787\n",
      "Epoch 34/200\n",
      " - 59s - loss: 0.6814 - acc: 0.5617 - val_loss: 0.6911 - val_acc: 0.5413\n",
      "Epoch 35/200\n",
      " - 59s - loss: 0.6767 - acc: 0.5809 - val_loss: 0.6851 - val_acc: 0.5740\n",
      "Epoch 36/200\n",
      " - 59s - loss: 0.6778 - acc: 0.5706 - val_loss: 0.6836 - val_acc: 0.5973\n",
      "Epoch 37/200\n",
      " - 59s - loss: 0.6774 - acc: 0.5799 - val_loss: 0.6898 - val_acc: 0.5533\n",
      "Epoch 38/200\n",
      " - 59s - loss: 0.6743 - acc: 0.5965 - val_loss: 0.6830 - val_acc: 0.6040\n",
      "Epoch 39/200\n",
      " - 59s - loss: 0.6698 - acc: 0.6054 - val_loss: 0.6870 - val_acc: 0.5760\n",
      "Epoch 40/200\n",
      " - 59s - loss: 0.6758 - acc: 0.5817 - val_loss: 0.6851 - val_acc: 0.5780\n",
      "Epoch 41/200\n",
      " - 59s - loss: 0.6688 - acc: 0.6036 - val_loss: 0.6814 - val_acc: 0.6033\n",
      "Epoch 42/200\n",
      " - 60s - loss: 0.6686 - acc: 0.6016 - val_loss: 0.6832 - val_acc: 0.6067\n",
      "Epoch 43/200\n",
      " - 59s - loss: 0.6665 - acc: 0.6018 - val_loss: 0.6850 - val_acc: 0.5820\n",
      "Epoch 44/200\n",
      " - 59s - loss: 0.6676 - acc: 0.6081 - val_loss: 0.6836 - val_acc: 0.5940\n",
      "Epoch 45/200\n",
      " - 59s - loss: 0.6704 - acc: 0.6022 - val_loss: 0.6840 - val_acc: 0.5860\n",
      "Epoch 46/200\n",
      " - 59s - loss: 0.6654 - acc: 0.6057 - val_loss: 0.6775 - val_acc: 0.6087\n",
      "Epoch 47/200\n",
      " - 59s - loss: 0.6644 - acc: 0.6297 - val_loss: 0.6764 - val_acc: 0.6300\n",
      "Epoch 48/200\n"
     ]
    }
   ],
   "source": [
    "#convolutional layers\n",
    "conv_layer_1 = Conv2D(70,(3,3), activation='relu', input_shape = (224,224,3))\n",
    "conv_layer_2 = Conv2D(100,(3,3), activation='relu')\n",
    "conv_layer_3 = Conv2D(100,(3,3), activation='relu')\n",
    "conv_layer_2_1 = Conv2D(200,(3,3), activation='relu')\n",
    "conv_layer_2_2 = Conv2D(200,(3,3), activation='relu')\n",
    "conv_layer_2_3 = Conv2D(200,(3,3), activation='relu')\n",
    "conv_layer_3_1 = Conv2D(300,(3,3), activation='relu')\n",
    "conv_layer_3_2 = Conv2D(300,(3,3), activation='relu')\n",
    "conv_layer_3_3 = Conv2D(400,(3,3), activation='relu')\n",
    "conv_layer_4_1 = Conv2D(400,(3,3), activation='relu')\n",
    "conv_layer_4_2 = Conv2D(400,(3,3), activation='relu')\n",
    "conv_layer_4_3 = Conv2D(20,(3,3), activation='relu')\n",
    "\n",
    "#maxpooling layers\n",
    "maxpool_layer_1 = keras.layers.MaxPooling2D(pool_size=(2, 2), strides=None, padding='valid', data_format=None)\n",
    "maxpool_layer_2 = keras.layers.MaxPooling2D(pool_size=(2, 2), strides=None, padding='valid', data_format=None)\n",
    "maxpool_layer_3 = keras.layers.MaxPooling2D(pool_size=(2, 2), strides=None, padding='valid', data_format=None)\n",
    "maxpool_layer_4 = keras.layers.MaxPooling2D(pool_size=(3, 3), strides=2, padding='valid', data_format=None)\n",
    "\n",
    "#dropoutlayer\n",
    "dropout_layer_1 = keras.layers.Dropout(0.4, noise_shape=None, seed=None)\n",
    "dropout_layer_2 = keras.layers.Dropout(0.4, noise_shape=None, seed=None)\n",
    "dropout_layer_2_2 = keras.layers.Dropout(0.4, noise_shape=None, seed=None)\n",
    "dropout_layer_3 = keras.layers.Dropout(0.5, noise_shape=None, seed=None)\n",
    "dropout_layer_4 = keras.layers.Dropout(0.5, noise_shape=None, seed=None)\n",
    "#flattening layer\n",
    "flatening_layer = Flatten()\n",
    "\n",
    "#dense layers\n",
    "dense_layer_1 = Dense(512, activation='relu')\n",
    "dense_layer_2 = Dense(100, activation='relu')\n",
    "dense_layer_3 = Dense(2, activation='softmax')\n",
    "\n",
    "#model architecture initialization\n",
    "model_layer_list = [conv_layer_1, conv_layer_2, conv_layer_3,\n",
    "                    maxpool_layer_1, \n",
    "                    conv_layer_2_1, conv_layer_2_2, conv_layer_2_3,\n",
    "                    dropout_layer_1, maxpool_layer_2, \n",
    "                    conv_layer_3_1, conv_layer_3_2, conv_layer_3_3,\n",
    "                    dropout_layer_2, maxpool_layer_3,\n",
    "                    conv_layer_4_1, conv_layer_4_2, conv_layer_4_3,\n",
    "                    dropout_layer_2_2, maxpool_layer_4, \n",
    "                    flatening_layer,\n",
    "                    dense_layer_1,\n",
    "                    dropout_layer_3,\n",
    "                    dense_layer_2,\n",
    "                    dropout_layer_4,\n",
    "                    dense_layer_3]\n",
    "\n",
    "best_model = Sequential(model_layer_list)\n",
    "\n",
    "#model optimizer initialisation\n",
    "best_model.compile(Adam(lr=0.000005),loss='categorical_crossentropy',metrics=['accuracy'])\n",
    "\n",
    "#model architecture overview\n",
    "best_model.summary()\n",
    "\n",
    "best_history_graph = best_model.fit_generator(train_batches, steps_per_epoch = 107,\n",
    "                    validation_data = validation_batches,\n",
    "                    validation_steps = 50, epochs=200, verbose=2)\n",
    "\n",
    "# saving history data to file\n",
    "try:\n",
    "    history =best_history_graph.history\n",
    "except AttributeError:\n",
    "    print('History is already an dictionary')\n",
    "    \n",
    "path = r\"C:\\Users\\sandr\\Documents\\Skola\\Deep Neural Networks\\Deep-Neural-Network\\Home Assignments\\HA1\\Training history\\Best\"\n",
    "            \n",
    "list_files = next(os.walk(path))[2] \n",
    "name = '\\History_graph_best ' +  str(len(list_files)+1)\n",
    "with open(path + name + '.pkl', 'wb') as f:\n",
    "        pickle.dump(history, f)\n",
    "f.close()\n",
    "\n",
    "#saving models to file\n",
    "model_path = r'C:\\Users\\sandr\\Documents\\Skola\\Deep Neural Networks\\Deep-Neural-Network\\Home Assignments\\HA1\\models\\Best' \n",
    "list_files = next(os.walk(model_path))[2] \n",
    "model_name = '\\Keras model best CNN ' +  str(len(list_files)+1)\n",
    "best_model.save(model_path + model_name)"
   ]
  },
  {
   "cell_type": "markdown",
   "metadata": {},
   "source": [
    "Create one figure with two axes. In one of them, plot the loss in the training and the validation datasets. In the other one, plot the accuracy in the training and validation datasets."
   ]
  },
  {
   "cell_type": "code",
   "execution_count": 7,
   "metadata": {},
   "outputs": [],
   "source": []
  },
  {
   "cell_type": "markdown",
   "metadata": {},
   "source": [
    "[Save your model](https://keras.io/getting-started/faq/#how-can-i-save-a-keras-model) to disk as a HDF5 file (the architecture, weights and optimizer state). This is simply so you can use it again easily in the later parts of the notebook, without having to keep it in memory or re-training it. The actual `.h5` files you create are not relevant to your ping-pong submission."
   ]
  },
  {
   "cell_type": "code",
   "execution_count": null,
   "metadata": {},
   "outputs": [],
   "source": []
  },
  {
   "cell_type": "markdown",
   "metadata": {},
   "source": [
    "---\n",
    "## 5. Transfer Learning"
   ]
  },
  {
   "cell_type": "markdown",
   "metadata": {},
   "source": [
    "Now, instead of trying to come up with a good architecture for this task, we'll use the VGG16 architecture, but with the top layers removed (the fully connected + classification layers). We'll substitute them with a single fully connected layer, and a classification layer that makes sense for our problem.\n",
    "\n",
    "However, this model has a very high capacity, and will probably suffer a lot from overfitting if we try to train it from scratch, using only our small subset of data. Instead, we'll start the optimization with the weights obtained after training VGG16 on the ImageNet dataset.\n",
    "\n",
    "Start by loading the VGG16 model without the top layers, from the `applications` submodule from Keras. Make sure to also load the weights obtained from the ImageNet pretraining."
   ]
  },
  {
   "cell_type": "code",
   "execution_count": null,
   "metadata": {},
   "outputs": [],
   "source": []
  },
  {
   "cell_type": "markdown",
   "metadata": {},
   "source": [
    "Create a new model with the layers you want to add on top of VGG. The kernels and bias in these layers should be initialized randomly."
   ]
  },
  {
   "cell_type": "code",
   "execution_count": null,
   "metadata": {},
   "outputs": [],
   "source": []
  },
  {
   "cell_type": "markdown",
   "metadata": {},
   "source": [
    "Now add the new model on top of VGG.\n",
    "\n",
    "Tip:\n",
    "- The VGG model you loaded from the `applications` submodule is from the [`Model`](https://keras.io/models/model/) class, not the `Sequential` class, so it doesn't have some methods you're used to (like `add`, for instance). It might be helpful to read [this introduction to the Model class](https://keras.io/getting-started/functional-api-guide/)."
   ]
  },
  {
   "cell_type": "code",
   "execution_count": null,
   "metadata": {},
   "outputs": [],
   "source": []
  },
  {
   "cell_type": "markdown",
   "metadata": {},
   "source": [
    "### 5.1 Using VGG features"
   ]
  },
  {
   "cell_type": "markdown",
   "metadata": {},
   "source": [
    "Now we're almost ready to train the new model. However, since the top layers of this architecture are being initialized randomly, it's sometimes possible for them to generate large gradients that can wreck the pretraining of the bottom layers. To avoid this, freeze all the VGG layers in your architecture (i.e. signal to the optimizer that these should not be changed during optimization) by setting the `trainable` attribute of them to `False`."
   ]
  },
  {
   "cell_type": "code",
   "execution_count": null,
   "metadata": {},
   "outputs": [],
   "source": []
  },
  {
   "cell_type": "markdown",
   "metadata": {},
   "source": [
    "Create the callbacks (if any) you would like to use for this training here."
   ]
  },
  {
   "cell_type": "code",
   "execution_count": null,
   "metadata": {},
   "outputs": [],
   "source": []
  },
  {
   "cell_type": "markdown",
   "metadata": {},
   "source": [
    "Compile the model and train it."
   ]
  },
  {
   "cell_type": "code",
   "execution_count": null,
   "metadata": {},
   "outputs": [],
   "source": []
  },
  {
   "cell_type": "markdown",
   "metadata": {},
   "source": [
    "Create one figure with two axes. In one of them, plot the loss in the training and the validation datasets. In the other one, plot the accuracy in the training and validation datasets."
   ]
  },
  {
   "cell_type": "code",
   "execution_count": null,
   "metadata": {},
   "outputs": [],
   "source": []
  },
  {
   "cell_type": "markdown",
   "metadata": {},
   "source": [
    "Plot the accuracy in the test and validation set, using the model obtained in step 4 and the one using transfer learning."
   ]
  },
  {
   "cell_type": "code",
   "execution_count": null,
   "metadata": {},
   "outputs": [],
   "source": []
  },
  {
   "cell_type": "markdown",
   "metadata": {},
   "source": [
    "Compare these results. Which approach worked best, starting from scratch or doing transfer learning? Explain how you evaluated this.\n",
    "\n",
    "**Your answer**: (fill in here)"
   ]
  },
  {
   "cell_type": "markdown",
   "metadata": {},
   "source": [
    "What are the main differences between the ImageNet dataset and the Dogs vs Cats dataset we used?\n",
    "\n",
    "**Your answer**: (fill in here)"
   ]
  },
  {
   "cell_type": "markdown",
   "metadata": {},
   "source": [
    "Even though there are considerable differences between these datasets, why is it that transfer learning is still a good idea?\n",
    "\n",
    "**Your answer**: (fill in here)"
   ]
  },
  {
   "cell_type": "markdown",
   "metadata": {},
   "source": [
    "In which scenario would transfer learning be unsuitable?\n",
    "\n",
    "**Your answer**: (fill in here)"
   ]
  },
  {
   "cell_type": "markdown",
   "metadata": {},
   "source": [
    "Save the model to a HDF5 file."
   ]
  },
  {
   "cell_type": "code",
   "execution_count": null,
   "metadata": {},
   "outputs": [],
   "source": []
  },
  {
   "cell_type": "markdown",
   "metadata": {},
   "source": [
    "### 5.2 Fine-tuning"
   ]
  },
  {
   "cell_type": "markdown",
   "metadata": {},
   "source": [
    "Now that we have a better starting point for the top layers, we can train the entire network. Unfreeze the bottom layers.\n",
    "\n",
    "Tip:\n",
    "- Always recompile your model after changing anything in it!"
   ]
  },
  {
   "cell_type": "code",
   "execution_count": null,
   "metadata": {},
   "outputs": [],
   "source": []
  },
  {
   "cell_type": "markdown",
   "metadata": {},
   "source": [
    "Create the callbacks (if any) you would like to use for this training here."
   ]
  },
  {
   "cell_type": "code",
   "execution_count": null,
   "metadata": {},
   "outputs": [],
   "source": []
  },
  {
   "cell_type": "markdown",
   "metadata": {},
   "source": [
    "Compile and train the model.\n",
    "\n",
    "Tip:\n",
    "- Even though we not have a decent starting point for the optimization, it's still possible that a bad hyper-parameter choice wrecks the preinitialization. Make sure to use a small learning rate for this step."
   ]
  },
  {
   "cell_type": "code",
   "execution_count": null,
   "metadata": {},
   "outputs": [],
   "source": []
  },
  {
   "cell_type": "markdown",
   "metadata": {},
   "source": [
    "Plot the accuracy in the test and validation set, using the model trained with freezed layers and the one you just trained."
   ]
  },
  {
   "cell_type": "code",
   "execution_count": null,
   "metadata": {},
   "outputs": [],
   "source": []
  },
  {
   "cell_type": "markdown",
   "metadata": {},
   "source": [
    "Did the model's performance improve? Why (why not)?\n",
    "\n",
    "**Your answer**: (fill in here)"
   ]
  },
  {
   "cell_type": "markdown",
   "metadata": {},
   "source": [
    "Save the model to a HDF5 file."
   ]
  },
  {
   "cell_type": "code",
   "execution_count": null,
   "metadata": {},
   "outputs": [],
   "source": []
  },
  {
   "cell_type": "markdown",
   "metadata": {},
   "source": [
    "### 5.3 Improving the top model (optional)"
   ]
  },
  {
   "cell_type": "markdown",
   "metadata": {},
   "source": [
    "Improve the architecture for the layers you add on top of VGG16. Try different ideas, and consider comparing them using tensorboard. When you're happy with one architecture, copy it in the cell below and train it here."
   ]
  },
  {
   "cell_type": "code",
   "execution_count": null,
   "metadata": {},
   "outputs": [],
   "source": []
  },
  {
   "cell_type": "markdown",
   "metadata": {},
   "source": [
    "Plot the accuracy in the test and validation set, using the model trained in step 5.2 and the one you just trained."
   ]
  },
  {
   "cell_type": "code",
   "execution_count": null,
   "metadata": {},
   "outputs": [],
   "source": []
  },
  {
   "cell_type": "markdown",
   "metadata": {},
   "source": [
    "Save the model to a HDF5 file."
   ]
  },
  {
   "cell_type": "code",
   "execution_count": null,
   "metadata": {},
   "outputs": [],
   "source": []
  },
  {
   "cell_type": "markdown",
   "metadata": {},
   "source": [
    "## 6. Final training"
   ]
  },
  {
   "cell_type": "markdown",
   "metadata": {},
   "source": [
    "Now we'll train the model that achieved the best performance so far using the entire dataset.\n",
    "\n",
    "**Note**: start the optimization with the weights you obtained training in the smaller subset, i.e. *not* from scratch."
   ]
  },
  {
   "cell_type": "markdown",
   "metadata": {},
   "source": [
    "First, create two new data generators, one for training samples and one for validation samples. This time, they'll load data from the folders for the entire dataset."
   ]
  },
  {
   "cell_type": "code",
   "execution_count": null,
   "metadata": {},
   "outputs": [],
   "source": []
  },
  {
   "cell_type": "markdown",
   "metadata": {},
   "source": [
    "Create the callbacks you would like to use. This optimization might take a long time, so TensorBoard is advised ;)."
   ]
  },
  {
   "cell_type": "code",
   "execution_count": null,
   "metadata": {},
   "outputs": [],
   "source": []
  },
  {
   "cell_type": "markdown",
   "metadata": {},
   "source": [
    "Train your model."
   ]
  },
  {
   "cell_type": "code",
   "execution_count": null,
   "metadata": {},
   "outputs": [],
   "source": []
  },
  {
   "cell_type": "markdown",
   "metadata": {},
   "source": [
    "Plot the accuracy on the training and validation set, obtained when you trained this model on the smaller subset of data, and when you trained it now, with the entire dataset."
   ]
  },
  {
   "cell_type": "code",
   "execution_count": null,
   "metadata": {},
   "outputs": [],
   "source": []
  },
  {
   "cell_type": "markdown",
   "metadata": {},
   "source": [
    "What can you conclude from these plots?\n",
    "\n",
    "**Your answer**: (fill in here)"
   ]
  },
  {
   "cell_type": "markdown",
   "metadata": {},
   "source": [
    "## 7. Evaluation on test set"
   ]
  },
  {
   "cell_type": "markdown",
   "metadata": {},
   "source": [
    "Now we'll evaluate your final model, obtained in step 6, on the test set. As mentioned before, the samples in the test set are not labeled, so we can't compute any performance metrics ourselves. Instead, we'll create a .csv file containing the predictions for each sample, and submit it to Kaggle for evaluation."
   ]
  },
  {
   "cell_type": "markdown",
   "metadata": {},
   "source": [
    "Compute the predictions for all samples in the test set according to your best model, and save it in a .csv file with the format expected by the competition.\n",
    "\n",
    "Tip:\n",
    "- There is a `sample_submission.csv` file available for download in the same place where you downloaded the data from. Take a look at it to better understand what is the expected format here.\n",
    "- Take a look at the .csv file you generated and make sure it's reasonable before submitting it to Kaggle. You're only allowed a few submissions per day.\n",
    "\n",
    "Hints:\n",
    "- The Python module `os` has a `listdir` function, which returns the filenames of all files in a given path.\n",
    "- If you don't know how to create and write to files with Python, Google can help.\n",
    "- Keras has a submodule called `preprocessing.image`, with some handy functions (for instance `load_img` and `img_to_array`).\n",
    "- Alternatively, it's possible to use data generators for this task as well, but be careful about the order of your predictions (if you get a bad score at Kaggle, this is probably why)."
   ]
  },
  {
   "cell_type": "code",
   "execution_count": null,
   "metadata": {},
   "outputs": [],
   "source": []
  },
  {
   "cell_type": "markdown",
   "metadata": {},
   "source": [
    "Now that you created your submission file, submit it to Kaggle for evaluation. The [old competition](https://www.kaggle.com/c/dogs-vs-cats) does not allow submissions any more, so submit your file to the [new one](https://www.kaggle.com/c/dogs-vs-cats-redux-kernels-edition). Kaggle evaluates your submission according to your log-loss score. What is the score you obtained?\n",
    "\n",
    "**Your answer**: (fill in here)\n",
    "\n",
    "What was the username you used for this submission?\n",
    "\n",
    "**Your answer**: (fill in here)"
   ]
  }
 ],
 "metadata": {
  "kernelspec": {
   "display_name": "Python 3",
   "language": "python",
   "name": "python3"
  },
  "language_info": {
   "codemirror_mode": {
    "name": "ipython",
    "version": 3
   },
   "file_extension": ".py",
   "mimetype": "text/x-python",
   "name": "python",
   "nbconvert_exporter": "python",
   "pygments_lexer": "ipython3",
   "version": "3.6.4"
  }
 },
 "nbformat": 4,
 "nbformat_minor": 2
}
